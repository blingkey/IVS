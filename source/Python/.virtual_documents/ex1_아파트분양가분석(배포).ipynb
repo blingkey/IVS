# 구버전
from IPython.display import display, HTML
display(HTML("""
<style>
div.container{width:97% !important;}
div.CodeMirror {font-family:Consolas; font-size:22pt;}
div.output {font-size:22pt; font-weight:bold;}
div.input {font-family:Consolas; font-size:22pt;}
div.prompt {min-width:70px;}
</style>
"""))


# 새버전
from IPython.display import display, HTML
display(HTML("""
<style>
div.jp-WindowedPanel-outer.lm-Widget{padding:5px;}
div.lm-Widget{font-size:12pt;}
div.cm-content {font-family:Consolas; font-size:12pt;}
div.jp-OutputArea-output pre {font-size:12pt; font-weight:bold;}
input.jp-Stdin-input {font-family:Consolas; font-size:12pt;}
</style>
"""))








# 라이브러리 로드
import matplotlib.pyplot as plt
import seaborn as sns
import pandas as pd
import numpy as np # 결측치(" " 스페이스) np.nan

# 시각화를 선명하게 표시되도록
%config InlineBackend.figure_format='retina'

#한글 폰트 설정
plt.rc("font", family="Malgun Gothic") # windows
# plt.rc('font', family='AppleGothic') # Mac
plt.rc("axes", unicode_minus=False) # y축

# 경고 메세지 안 보이게 
import warnings
warnings.filterwarnings(action='ignore')
# warnings.filterwarnings(action='default')





! dir data # ! cmd에 사용할 수 있는 명령어








# df_first
df_first = pd.read_csv('data/전국 평균 평당 분양가격(2013년 9월부터 2015년 8월까지).csv',
                       encoding="cp949")
df_first.shape


# df_first 한줄 출력
df_first.sample()


# 출력가능한 최대 컬럼수 출력
pd.options.display.max_columns


# df_first의 모든 열이 나오도록 출력 가능한 최대 컬럼수 조정후 확인
pd.options.display.max_columns = df_first.shape[1] # shape(); 행과 열을 갖는 튜플


# df_first 마지막 1줄 출력
df_first.tail(1)


# df_first 열별 데이터 갯수 및 타입 및 메모리 정보
df_first.info()


# 지역 컬럼을 index로 하여
df_first_temp = df_first.set_index('지역')
df_first_temp.sample()


# heatmap 으로 부동산 가격을 시각화한다
plt.figure(figsize=(20,5))
sns.heatmap(df_first_temp, annot=True, cmap='hsv', fmt='d') #heat맵 색 바꾸기 -> cmap / annotation 알아보기 어려움 -> fmt='d'
plt.show()








# df_last
df_last = pd.read_csv('data/주택도시보증공사_전국 신규 민간아파트 분양가격 동향_20230630.csv',
                      encoding='cp949')
df_last.shape


# head로 파일을 5개만 미리보기합니다
df_last.head(5)


# tail로도 미리보기 합니다.
df_last.tail(2)


# 데이터 요약하기(결측치가 있음) #분양가격(제곱미터)는 문자를 수치형으로 변경하여야 평당분양가격 계산 가능
df_last.info()








df_last.isna().sum() # 결측치 여부 True(1), False(0)
# axis=0 → 행을 쫙 더해줌(지역명, 규모구분, 연도, 월 → 0, 결측치 없음)





# 분양가격(제곱미터) 컬럼이 문자형이라 수치형으로 변경한 후 평당분양가격 추가
df_last.loc[0, '분양가격(제곱미터)'], type(df_last.loc[0, '분양가격(제곱미터)'])


# 오류남
#df_last['분양가격(제곱미터)'].astype('int64')





# 결측치가 있는 곳 출력하기 df_last[조건]
#df_last[df_last['분양가격(제곱미터)']==np.nan] → 결측치는 ==으로 찾는거 아님
df_last[df_last['분양가격(제곱미터)'].isna()].head()


# 기본적으로 '분양가격(제곱미터)' 컬럼은 str이지만 결측치가 있는 곳은 float로 나옴
type(df_last.loc[368, '분양가격(제곱미터)'])


# df_last['분양가격(제곱미터)'].astype('float64') #특정열 데이터타입변경 에러 이유 : ' ' 땜시
#df_last['분양가격(제곱미터)'].astype('float64')





# df['월'].astype('int64')에러 나는 이유는 ?
#df_last['월'].astype('int64')


# 분양가격(제곱미터)컬럼이 공백이나 space인 행의 갯수
print(len(df_last[df_last['분양가격(제곱미터)'].str.strip() == '']))
df_last[df_last['분양가격(제곱미터)'].str.strip() == ''].head(2) # replace는 시리즈에 사용X, str사용


# 분양가격이 빈스트링인 모든 데이터에 결측치 할당
df_last[df_last['분양가격(제곱미터)'].str.strip() == ''] = np.nan


# 분양가격(제곱미터)컬럼이 공백이나 space인 행을 결측치로 할당한 후 갯수는 0인지 확인
df_last[df_last['분양가격(제곱미터)'].str.strip() == '']


df_last.loc[29] # 분양가격이 space였던 행 확인


# df_last 요약정보
df_last.info()


# 범주형일 때 기술통계 요약정보
df_last['분양가격(제곱미터)'].describe()


# '분양가격(제곱미터)' 컬럼의 타입을 float64로 변경하여 '제곱미터당분양가격'
df_last['제곱미터당분양가격'] = df_last['분양가격(제곱미터)'].astype('float64')


# '제곱미터당분양가격' 컬럼의 기술통계 요약 (max가 아주 커서 mean과 중위수 차이남)
df_last['제곱미터당분양가격'].describe()


# '평당분양가격' 컬럼 생성
df_last['평당분양가격'] = df_last['제곱미터당분양가격'] * 3.3


# df_last head로 데이터 2줄 확인
df_last.head(2)


df_last.info()





df_last['규모구분'].unique()


df_last['전용면적'] = df_last['규모구분'].str.replace('전용면적','')
df_last['전용면적'] = df_last['전용면적'].str.replace("제곱미터", "㎡")
df_last['전용면적'] = df_last['전용면적'].str.replace('초과','~')
df_last['전용면적'] = df_last['전용면적'].str.replace('이하','')
df_last['전용면적'] = df_last['전용면적'].str.replace(' ','').str.strip()
df_last.head()


df_last.info()








#axis=1이 없으면 axis=0으로 되어 행제거하나 규모구분,분양가격이라는 행이 없어 에러
# "규모구분","분양가격(제곱미터)","제곱미터당분양가격" 컬럼 제거
# 1번 이상 실행하면 이미 삭제된 후이므로, 1번만 실행
df_last.drop(["규모구분", "분양가격(제곱미터)", "제곱미터당분양가격"], axis=1, inplace=True)
df_last.sample


df_last[df_last['평당분양가격'].isna()]


# 평당 분양가격이 결측치 값인 행 인덱스 출력
df_last[df_last['평당분양가격'].isna()].index # 지울 행


# 평당 분양가격이 결측치 값인 행 제거
df_last.drop(df_last[df_last['평당분양가격'].isna()].index, inplace=True)


# 결측치 데이터가 다 없어졌는지 확인
df_last.isna().sum()


# df_last 열별데이터갯수, 타입, 메모리 정보 확인
df_last.info()





# 전처리 완성된 데이터를 저장
df_last.to_csv('data/신규아파트분양가전처리결과.csv', index=False) # 읽어들일때 index 붙여서 저장할 게 아니니까





df_last.groupby(['지역명']).count()


df_last.groupby(['지역명'])['연도'].mean()


df_last.groupby?


# 지역명별 결측치를 제외한 데이터 수
# df_last.groupby(['지역명']).count() → grouping하고 싶은 column전체
# df_last.groupby(['지역명'])['평당분양가격'].count()
df_last.groupby(['지역명'])['평당분양가격'].count().to_frame() # 데이터 프레임 형태로


# 지역별 평당분양가격 max값나 min값
# df_last.groupby(['지역명']).max()
df_last.groupby(['지역명'])['평당분양가격'].max().to_frame().sort_values(by="평당분양가격") # 낮→높
# df_last.groupby(['지역명'])['평당분양가격'].max().to_frame().sort_values(by="평당분양가격") 에다가 ascending붙임 # 높→낮


# 지역별 평당분양가격(평균)
df_last.groupby('지역명')['평당분양가격'].mean().round() # .round() 소수점 제거


# 지역별 평당분양가격 min, max, mean, 사분위수
df_last.groupby('지역명')['평당분양가격'].describe()


# 전용면적별 평당분양가격(평균)
df_last.groupby('전용면적')['평당분양가격'].mean().to_frame().sort_values(by="평당분양가격")





# 지역별, 전용면적별 평당분양가격(평균)
 # 전용면적가 컬럼값으로 표
# df_last.groupby(['지역명', '전용면적'])['평당분양가격'].mean() # 가독성 떨어짐
# df_last.groupby(['지역명', '전용면적'])['평당분양가격'].mean().unstack()
df_last.groupby(['지역명', '전용면적'])['평당분양가격'].mean().unstack().round() # 소수점 뒤에 자르기


# 연도별, 지역명별 평당분양가격
df_last.groupby(['연도', '지역명'])['평당분양가격'].mean().unstack().round()


# 연도가 column으로 오도록
df_last.groupby(['지역명', '연도'])['평당분양가격'].mean().unstack().round()


# 위에서의 r을 연도별, 지역명별 평당분양가격을 heatmap으로 시각화
r = df_last.groupby(['연도', '지역명'])['평당분양가격'].mean().unstack().round()
plt.figure(figsize=(20,8))
sns.heatmap(r, cmap='cool', annot=True, fmt='.0f')
plt.show()





# 지역별 평균 평당분양가격을 내림차순정렬하여 막대그래프로 시각화
r = df_last.groupby('지역명')['평당분양가격'].mean() #지역별 평균 평당분양가격
r.plot(kind='bar', figsize=(10,4))
plt.show()


# 지역별 평균 평당분양가격을 내림차순정렬하여 막대그래프로 시각화
r = df_last.groupby('지역명')['평당분양가격'].mean().sort_values() #경기, 제주 비교 잘 안됨
r.plot(kind='bar', figsize=(10,4))
plt.show()


# 지역별 평균 평당분양가격을 내림차순정렬하여 막대그래프로 시각화
r = df_last.groupby('지역명')['평당분양가격'].mean().sort_values(ascending=False) #경기, 제주 비교 잘 안됨
r.plot(kind='bar', figsize=(10,4))
plt.show()


# 지역별 정렬된 평균 평당분양가격 lineplot
r.plot(figsize=(10,4)) #kind의 default는 lineplot
plt.show()


# 전용면적별 평균  평당분양가격 그래프
df_last.groupby('전용면적')['평당분양가격'].mean().sort_values().plot(rot=45) # rot 회전
plt.show()


# 월별, 연도별 평당분양가격 변동
df_last.groupby(['월','연도'])['평당분양가격'].mean().unstack().round()





# 위의 월별, 연도별, 평당분양가격 boxplot
r = df_last.groupby(['월','연도'])['평당분양가격'].mean().unstack().round()
r.plot(kind='box')
plt.show()


# 위의 월별, 연도별, 평당분양가격 lineplot => 월별, 연도별 분양가 상한선 확인
r.plot(figsize=(15,5))
plt.show()


# boxplot으로 지역별 평당분양가격 시각화
plt.figure(figsize=(15,5))
sns.barplot(data=df_last, x='지역명', y='평당분양가격', ci=None)
plt.show()








# 지역별 평당 분양가격
#r = df_last.groupby('지역명')['평당분양가격'].mean()
#r
plt.figure(figsize=(15,5))
sns.barplot(data=df_last, x='지역명', y='평당분양가격', ci=None)
plt.show()


# 만약 정렬을 원한다면 groupby후 sort_values()한후 시각화한다.
plt.figure(figsize=(15,5))
r = df_last.groupby('지역명')['평당분양가격'].mean().sort_values(ascending=False).to_frame()
sns.barplot(data=r, x=r.index, y='평당분양가격', palette="cool")
plt.show()





# 연도별 평당분양가격 barplot
sns.barplot(data=df_last, x="연도", y="평당분양가격", ci=None)


# 년도별 평균 평당분양가격의 추이
sns.lineplot(data=df_last, x='연도', y='평당분양가격')


# 년도별 지역별 평균 평당분양가격
plt.figure(figsize=(15,5))
sns.lineplot(data=df_last, x="연도", y="평당분양가격", hue="지역명")
plt.legend(bbox_to_anchor=(1.01, 1), loc=2, borderaxespad=0.)
plt.show()


# 연도별 평당분양가격의 사분위수(boxplot) ⇒ "x="연도"
plt.figure(figsize=(15,5))
sns.boxplot(data=df_last, x="연도", y="평당분양가격")


# 연도별 평당분양가격의 사분위수(boxplot) ⇒ hue="연도"
plt.figure(figsize=(15,5))
sns.boxplot(data=df_last, hue="연도", y="평당분양가격")


# 연도별 평당분양가격의 사분위수와 분포
plt.figure(figsize=(15,5))
sns.violinplot(data=df_last, x="연도", y="평당분양가격")


# 연도별 전용면적별 boxenplot
plt.figure(figsize=(15,5))
sns.boxenplot(data=df_last, x="연도", y="평당분양가격", hue="전용면적")


# boxplot으로 지역별 평당분양가격을 그려봅니다.
plt.figure(figsize=(15,5))
sns.boxplot(data=df_last, x="지역명", y="평당분양가격")





df_first.sample()


df_last.sample()








new_first = df_first.melt(id_vars="지역", 
                          var_name="연도월", 
                          value_name="평당분양가격")
new_first.head()
# melt를 통해 녹인 연도월 데이터는 전처리하기 편하게 데이터로 옴


def parse_year(x):
    return int(x.split("년")[0])
parse_year("2013년12월")


data = '2013년12월'
int(data.split('년')[0])


data = '2013년12월'
#data.split('년')[1] # >> '12월'
int(data.split('년')[1].replace("월", ""))


def parse_month(x):
    return int(x.split("년")[-1].replace("월",""))
parse_month("2013년12월")


# "연도월" 컬럼을 "연도"컬럼과 "월"컬럼으로 분리한다(lambda함수 이용)
# new_first["연도월"] # >> 나열이 가능한 1차원 리스트 같은 형태
# new_first["연도월"].map(lambda x : int(x.split("년")[0])) # >> 연도만 뺀 형태
new_first['연도'] = new_first["연도월"].map(lambda x : int(x.split("년")[0]))
new_first['월'] = new_first["연도월"].map(lambda x : int(x.split("년")[-1].replace("월","")))
new_first.head()


# "연도월" 컬럼을 제거하고, 컬럼명을 ["지역명","평당분양가격","연도","월"]로 수정
new_first.drop("연도월", axis=1, inplace=True) # drop은 한번만 실행해야 됨
new_first.columns = ["지역명","평당분양가격","연도","월"]
new_first.head()


df_last.head(2)


#df_last 데이터 중 "전용면젹"이 "모든면적"인 데이터만 복사한다(깊은복사) ⇒ df_last[조건]
new_last = df_last[df_last["전용면적"] == "모든면적"].copy()
# "전용면적"컬럼 제거
# new_last.drop("전용면적") # >> 행을 없애는 게 아니기때문에 이렇게만 하면 오류남
# new_last = new_last.drop("전용면적", axis=1) # inplace=True 하기 싫으면 이렇게 작성
new_last.drop("전용면적", axis=1, inplace=True)
new_last.head()


# new_first와 new_last 행병합
df = pd.concat([new_first, new_last]) # 행 병합은 axis=0 / 열 병합은 axis=1
df.sample()


df.shape


df.index


# index 재조정
df.index = range(df.shape[0])
df.head()
