{
 "cells": [
  {
   "cell_type": "markdown",
   "id": "96562f58-193d-43a7-8a4b-1a74bca5264c",
   "metadata": {},
   "source": [
    "<font size='6' color='blue'><b>ch08. 예외처리</b></font>"
   ]
  },
  {
   "cell_type": "markdown",
   "id": "1a8aa313-e646-4134-a9c4-380192b0bdd2",
   "metadata": {},
   "source": [
    "# **1절 예외처리**\n",
    "⇒ 예외가 날 가능성이 있는 부분을 미리 예상하고 그에 대한 처리를 프로그래밍 하는 것<br>\n",
    "(이유 : 안정적으로 실행될 수 있도록 하기 위함)"
   ]
  },
  {
   "cell_type": "code",
   "execution_count": 4,
   "id": "2de54c12-37b4-48be-9e66-910125e283d4",
   "metadata": {},
   "outputs": [
    {
     "name": "stdin",
     "output_type": "stream",
     "text": [
      "파일명? ch08.txt\n"
     ]
    },
    {
     "ename": "UnicodeDecodeError",
     "evalue": "'cp949' codec can't decode byte 0xed in position 32: illegal multibyte sequence",
     "output_type": "error",
     "traceback": [
      "\u001b[1;31m---------------------------------------------------------------------------\u001b[0m",
      "\u001b[1;31mUnicodeDecodeError\u001b[0m                        Traceback (most recent call last)",
      "Cell \u001b[1;32mIn[4], line 4\u001b[0m\n\u001b[0;32m      2\u001b[0m filename \u001b[38;5;241m=\u001b[39m \u001b[38;5;28minput\u001b[39m(\u001b[38;5;124m'\u001b[39m\u001b[38;5;124m파일명?\u001b[39m\u001b[38;5;124m'\u001b[39m)\n\u001b[0;32m      3\u001b[0m f \u001b[38;5;241m=\u001b[39m \u001b[38;5;28mopen\u001b[39m(\u001b[38;5;124m'\u001b[39m\u001b[38;5;124mdata/\u001b[39m\u001b[38;5;124m'\u001b[39m \u001b[38;5;241m+\u001b[39m filename, \u001b[38;5;124m'\u001b[39m\u001b[38;5;124mr\u001b[39m\u001b[38;5;124m'\u001b[39m)\n\u001b[1;32m----> 4\u001b[0m f\u001b[38;5;241m.\u001b[39mreadlines()\n",
      "\u001b[1;31mUnicodeDecodeError\u001b[0m: 'cp949' codec can't decode byte 0xed in position 32: illegal multibyte sequence"
     ]
    }
   ],
   "source": [
    "# 있는 파일의 경우 예외 발생 안 함\n",
    "filename = input('파일명?')\n",
    "f = open('data/' + filename, 'r')\n",
    "f.readlines()"
   ]
  },
  {
   "cell_type": "markdown",
   "id": "80d38b88-3229-418e-905f-492c6336b4c5",
   "metadata": {},
   "source": [
    "에러나는 이유는? **encoding=\"utf-8\"** 추가해주면 됨<br>\n",
    "enconding의 default값은 cp949"
   ]
  },
  {
   "cell_type": "code",
   "execution_count": 6,
   "id": "9b63a5c8-7e47-4c6f-9176-3473aea84cc0",
   "metadata": {},
   "outputs": [
    {
     "name": "stdin",
     "output_type": "stream",
     "text": [
      "파일명? ch08.txt\n"
     ]
    },
    {
     "data": {
      "text/plain": [
       "['This is Test File\\n', 'Hello, Python\\n', '테스트 파일입니다.']"
      ]
     },
     "execution_count": 6,
     "metadata": {},
     "output_type": "execute_result"
    }
   ],
   "source": [
    "# 있는 파일의 경우 예외 발생 안 함\n",
    "filename = input('파일명?')\n",
    "f = open('data/' + filename, 'r', encoding = 'utf-8') #enconding의 default값은 cp949\n",
    "f.readlines()"
   ]
  },
  {
   "cell_type": "code",
   "execution_count": 7,
   "id": "b887ff55-de1c-4bfe-9471-e640068cb3e6",
   "metadata": {},
   "outputs": [
    {
     "name": "stdin",
     "output_type": "stream",
     "text": [
      "파일명? z.txt\n"
     ]
    },
    {
     "ename": "FileNotFoundError",
     "evalue": "[Errno 2] No such file or directory: 'data/z.txt'",
     "output_type": "error",
     "traceback": [
      "\u001b[1;31m---------------------------------------------------------------------------\u001b[0m",
      "\u001b[1;31mFileNotFoundError\u001b[0m                         Traceback (most recent call last)",
      "Cell \u001b[1;32mIn[7], line 3\u001b[0m\n\u001b[0;32m      1\u001b[0m \u001b[38;5;66;03m# 없는 파일명의 경우 예외 발생\u001b[39;00m\n\u001b[0;32m      2\u001b[0m filename \u001b[38;5;241m=\u001b[39m \u001b[38;5;28minput\u001b[39m(\u001b[38;5;124m'\u001b[39m\u001b[38;5;124m파일명?\u001b[39m\u001b[38;5;124m'\u001b[39m)\n\u001b[1;32m----> 3\u001b[0m f \u001b[38;5;241m=\u001b[39m \u001b[38;5;28mopen\u001b[39m(\u001b[38;5;124m'\u001b[39m\u001b[38;5;124mdata/\u001b[39m\u001b[38;5;124m'\u001b[39m \u001b[38;5;241m+\u001b[39m filename, \u001b[38;5;124m'\u001b[39m\u001b[38;5;124mr\u001b[39m\u001b[38;5;124m'\u001b[39m, encoding \u001b[38;5;241m=\u001b[39m \u001b[38;5;124m'\u001b[39m\u001b[38;5;124mutf-8\u001b[39m\u001b[38;5;124m'\u001b[39m) \u001b[38;5;66;03m#enconding의 default값은 cp949\u001b[39;00m\n\u001b[0;32m      4\u001b[0m f\u001b[38;5;241m.\u001b[39mreadlines()\n",
      "File \u001b[1;32m~\\anaconda3\\Lib\\site-packages\\IPython\\core\\interactiveshell.py:310\u001b[0m, in \u001b[0;36m_modified_open\u001b[1;34m(file, *args, **kwargs)\u001b[0m\n\u001b[0;32m    303\u001b[0m \u001b[38;5;28;01mif\u001b[39;00m file \u001b[38;5;129;01min\u001b[39;00m {\u001b[38;5;241m0\u001b[39m, \u001b[38;5;241m1\u001b[39m, \u001b[38;5;241m2\u001b[39m}:\n\u001b[0;32m    304\u001b[0m     \u001b[38;5;28;01mraise\u001b[39;00m \u001b[38;5;167;01mValueError\u001b[39;00m(\n\u001b[0;32m    305\u001b[0m         \u001b[38;5;124mf\u001b[39m\u001b[38;5;124m\"\u001b[39m\u001b[38;5;124mIPython won\u001b[39m\u001b[38;5;124m'\u001b[39m\u001b[38;5;124mt let you open fd=\u001b[39m\u001b[38;5;132;01m{\u001b[39;00mfile\u001b[38;5;132;01m}\u001b[39;00m\u001b[38;5;124m by default \u001b[39m\u001b[38;5;124m\"\u001b[39m\n\u001b[0;32m    306\u001b[0m         \u001b[38;5;124m\"\u001b[39m\u001b[38;5;124mas it is likely to crash IPython. If you know what you are doing, \u001b[39m\u001b[38;5;124m\"\u001b[39m\n\u001b[0;32m    307\u001b[0m         \u001b[38;5;124m\"\u001b[39m\u001b[38;5;124myou can use builtins\u001b[39m\u001b[38;5;124m'\u001b[39m\u001b[38;5;124m open.\u001b[39m\u001b[38;5;124m\"\u001b[39m\n\u001b[0;32m    308\u001b[0m     )\n\u001b[1;32m--> 310\u001b[0m \u001b[38;5;28;01mreturn\u001b[39;00m io_open(file, \u001b[38;5;241m*\u001b[39margs, \u001b[38;5;241m*\u001b[39m\u001b[38;5;241m*\u001b[39mkwargs)\n",
      "\u001b[1;31mFileNotFoundError\u001b[0m: [Errno 2] No such file or directory: 'data/z.txt'"
     ]
    }
   ],
   "source": [
    "# 없는 파일명의 경우 예외 발생\n",
    "filename = input('파일명?')\n",
    "f = open('data/' + filename, 'r', encoding = 'utf-8') #enconding의 default값은 cp949\n",
    "f.readlines()"
   ]
  },
  {
   "cell_type": "markdown",
   "id": "3b0cc291-9979-4075-b086-a2986a265a25",
   "metadata": {},
   "source": [
    "**예외 메시지**<br>\n",
    "FileNotFoundError: [Errno 2] No such file or directory: 'data/z.txt'"
   ]
  },
  {
   "cell_type": "code",
   "execution_count": 16,
   "id": "7d7b7cbe-59e0-4631-99a4-50ed24892be2",
   "metadata": {},
   "outputs": [
    {
     "name": "stdin",
     "output_type": "stream",
     "text": [
      "나눌 숫자를 입력하세요 >> a\n"
     ]
    },
    {
     "ename": "ValueError",
     "evalue": "invalid literal for int() with base 10: 'a'",
     "output_type": "error",
     "traceback": [
      "\u001b[1;31m---------------------------------------------------------------------------\u001b[0m",
      "\u001b[1;31mValueError\u001b[0m                                Traceback (most recent call last)",
      "Cell \u001b[1;32mIn[16], line 3\u001b[0m\n\u001b[0;32m      1\u001b[0m \u001b[38;5;66;03m# ValueError 예외 객체 : 숫자가 아닌 문자를 입력했을 경우\u001b[39;00m\n\u001b[0;32m      2\u001b[0m \u001b[38;5;66;03m# ZeroDivisionError 예외 객체 : 0을 입력했을 경우\u001b[39;00m\n\u001b[1;32m----> 3\u001b[0m num \u001b[38;5;241m=\u001b[39m \u001b[38;5;28mint\u001b[39m(\u001b[38;5;28minput\u001b[39m(\u001b[38;5;124m'\u001b[39m\u001b[38;5;124m나눌 숫자를 입력하세요 >>\u001b[39m\u001b[38;5;124m'\u001b[39m))\n\u001b[0;32m      4\u001b[0m \u001b[38;5;241m100\u001b[39m\u001b[38;5;241m/\u001b[39mnum\n",
      "\u001b[1;31mValueError\u001b[0m: invalid literal for int() with base 10: 'a'"
     ]
    }
   ],
   "source": [
    "# ValueError 예외 객체 : 숫자가 아닌 문자를 입력했을 경우\n",
    "# ZeroDivisionError 예외 객체 : 0을 입력했을 경우\n",
    "num = int(input('나눌 숫자를 입력하세요 >>'))\n",
    "100/num"
   ]
  },
  {
   "cell_type": "code",
   "execution_count": 12,
   "id": "e03ddf89-f21f-4c25-8d25-f551b09dcb92",
   "metadata": {},
   "outputs": [
    {
     "ename": "SyntaxError",
     "evalue": "invalid syntax (1991010371.py, line 2)",
     "output_type": "error",
     "traceback": [
      "\u001b[1;36m  Cell \u001b[1;32mIn[12], line 2\u001b[1;36m\u001b[0m\n\u001b[1;33m    ```\u001b[0m\n\u001b[1;37m    ^\u001b[0m\n\u001b[1;31mSyntaxError\u001b[0m\u001b[1;31m:\u001b[0m invalid syntax\n"
     ]
    }
   ],
   "source": [
    "# ValueError 예외 객체 : 숫자가 아닌 문자를 입력했을 경우\n",
    "```\n",
    "---------------------------------------------------------------------------\n",
    "ValueError                                Traceback (most recent call last)\n",
    "Cell In[8], line 2\n",
    "      1 # ValueError 예외 객체 : 숫자가 아닌 문자를 입력했을 경우\n",
    "----> 2 num = int(input('나눌 숫자를 입력하세요 >>'))\n",
    "      3 100/num\n",
    "\n",
    "ValueError: invalid literal for int() with base 10: 'a'\n",
    "```\n",
    "\n",
    "# ZeroDivisionError 예외 객체 : 0을 입력했을 경우\n",
    "```\n",
    "---------------------------------------------------------------------------\n",
    "ZeroDivisionError                         Traceback (most recent call last)\n",
    "Cell In[9], line 4\n",
    "      1 # ValueError 예외 객체 : 숫자가 아닌 문자를 입력했을 경우\n",
    "      2 # ZeroDivisionError 예외 객체 : 0을 입력했을 경우\n",
    "      3 num = int(input('나눌 숫자를 입력하세요 >>'))\n",
    "----> 4 100/num\n",
    "\n",
    "ZeroDivisionError: division by zero\n",
    "```"
   ]
  },
  {
   "cell_type": "code",
   "execution_count": 11,
   "id": "7199b3c0-05d0-4964-b25c-a22d2ed8db49",
   "metadata": {},
   "outputs": [
    {
     "ename": "IndexError",
     "evalue": "list index out of range",
     "output_type": "error",
     "traceback": [
      "\u001b[1;31m---------------------------------------------------------------------------\u001b[0m",
      "\u001b[1;31mIndexError\u001b[0m                                Traceback (most recent call last)",
      "Cell \u001b[1;32mIn[11], line 3\u001b[0m\n\u001b[0;32m      1\u001b[0m \u001b[38;5;66;03m# 인덱스를 벗어났을 경우\u001b[39;00m\n\u001b[0;32m      2\u001b[0m a \u001b[38;5;241m=\u001b[39m [\u001b[38;5;241m1\u001b[39m,\u001b[38;5;241m2\u001b[39m,\u001b[38;5;241m3\u001b[39m]\n\u001b[1;32m----> 3\u001b[0m a[\u001b[38;5;241m3\u001b[39m]\n",
      "\u001b[1;31mIndexError\u001b[0m: list index out of range"
     ]
    }
   ],
   "source": [
    "# 인덱스를 벗어났을 경우\n",
    "a = [1,2,3]\n",
    "a[3]"
   ]
  },
  {
   "cell_type": "markdown",
   "id": "8b13acb6-b2f9-4746-bdd7-f0ac41448af1",
   "metadata": {},
   "source": [
    "# **2절 try~ except로 예외 처리**\n",
    "```\n",
    "try:\n",
    "    예외가 발생할 가능성이 있는 명령어1\n",
    "    명령어...\n",
    "except [예외타입 [as 예외객체변수명]]:\n",
    "    예외가 발생했을 경우\n",
    "[else:\n",
    "    예외가 발생되지 않을 경우 수행 명령어]\n",
    "[finally:\n",
    "    예외가 발생되든 안되든 반드시 실행할 명령어]\n",
    "```"
   ]
  },
  {
   "cell_type": "code",
   "execution_count": 14,
   "id": "ca0b1ab1-e306-4efc-89d9-650c83a5d670",
   "metadata": {},
   "outputs": [
    {
     "name": "stdin",
     "output_type": "stream",
     "text": [
      "100을 나눌 정수를 입력하세요 >> 0\n"
     ]
    },
    {
     "name": "stdout",
     "output_type": "stream",
     "text": [
      "입력한 수는 0\n"
     ]
    },
    {
     "ename": "ZeroDivisionError",
     "evalue": "division by zero",
     "output_type": "error",
     "traceback": [
      "\u001b[1;31m---------------------------------------------------------------------------\u001b[0m",
      "\u001b[1;31mZeroDivisionError\u001b[0m                         Traceback (most recent call last)",
      "Cell \u001b[1;32mIn[14], line 6\u001b[0m\n\u001b[0;32m      4\u001b[0m x \u001b[38;5;241m=\u001b[39m \u001b[38;5;28mint\u001b[39m(\u001b[38;5;28minput\u001b[39m(\u001b[38;5;124m'\u001b[39m\u001b[38;5;124m100을 나눌 정수를 입력하세요 >>\u001b[39m\u001b[38;5;124m'\u001b[39m))\n\u001b[0;32m      5\u001b[0m \u001b[38;5;28mprint\u001b[39m(\u001b[38;5;124m'\u001b[39m\u001b[38;5;124m입력한 수는 \u001b[39m\u001b[38;5;132;01m{}\u001b[39;00m\u001b[38;5;124m'\u001b[39m\u001b[38;5;241m.\u001b[39mformat(x))\n\u001b[1;32m----> 6\u001b[0m \u001b[38;5;28mprint\u001b[39m(\u001b[38;5;124m'\u001b[39m\u001b[38;5;124m100을 입력한 정수로 나누면 \u001b[39m\u001b[38;5;132;01m{:.2f}\u001b[39;00m\u001b[38;5;124m입니다\u001b[39m\u001b[38;5;124m'\u001b[39m\u001b[38;5;241m.\u001b[39mformat(\u001b[38;5;241m100\u001b[39m\u001b[38;5;241m/\u001b[39mx))\n",
      "\u001b[1;31mZeroDivisionError\u001b[0m: division by zero"
     ]
    }
   ],
   "source": [
    "# 100을 입력받은 정수값으로 나눠 출력한다.\n",
    "# ValueError (수를 입력하지 않고 Enter, space 입력 시)\n",
    "# ZeroDivisionError (0 입력 시)\n",
    "\n",
    "x = int(input('100을 나눌 정수를 입력하세요 >>'))\n",
    "print('입력한 수는 {}'.format(x))\n",
    "print('100을 입력한 정수로 나누면 {:.2f}입니다'.format(100/x))"
   ]
  },
  {
   "cell_type": "markdown",
   "id": "1d98ba4e-7ea7-449a-b8a6-e0baf6e532a9",
   "metadata": {},
   "source": [
    "▼ 위의 코드를 try~ except 처리"
   ]
  },
  {
   "cell_type": "code",
   "execution_count": 17,
   "id": "40fb0f54-9b67-41ae-9c3a-04ab1d4ce212",
   "metadata": {},
   "outputs": [
    {
     "name": "stdin",
     "output_type": "stream",
     "text": [
      "100을 나눌 정수를 입력하세요 >> \n"
     ]
    },
    {
     "name": "stdout",
     "output_type": "stream",
     "text": [
      "유효한 정수가 아닙니다.\n"
     ]
    }
   ],
   "source": [
    "# 100을 입력받은 정수값으로 나눠 출력한다.\n",
    "# ValueError (수를 입력하지 않고 Enter, space 입력 시)\n",
    "# ZeroDivisionError (0 입력 시)\n",
    "try:\n",
    "    x = int(input('100을 나눌 정수를 입력하세요 >>'))\n",
    "    print('입력한 수는 {}'.format(x))\n",
    "    print('100을 입력한 정수로 나누면 {:.2f}입니다'.format(100/x))\n",
    "except:\n",
    "    print('유효한 정수가 아닙니다.')"
   ]
  },
  {
   "cell_type": "code",
   "execution_count": 21,
   "id": "f856651a-d28b-44b0-b32f-9ffb38fd33c4",
   "metadata": {},
   "outputs": [
    {
     "name": "stdin",
     "output_type": "stream",
     "text": [
      "100을 나눌 정수를 입력하세요 >> a\n"
     ]
    },
    {
     "name": "stdout",
     "output_type": "stream",
     "text": [
      "유효한 숫자를 입력하세요.\n"
     ]
    }
   ],
   "source": [
    "# 100을 입력받은 정수값으로 나눠 출력한다.\n",
    "# ValueError (수를 입력하지 않고 Enter, space 입력 시)\n",
    "# ZeroDivisionError (0 입력 시)\n",
    "try:\n",
    "    x = int(input('100을 나눌 정수를 입력하세요 >>'))\n",
    "    print('입력한 수는 {}'.format(x))\n",
    "    print('100을 입력한 정수로 나누면 {:.2f}입니다'.format(100/x))\n",
    "except ValueError:\n",
    "    print('유효한 숫자를 입력하세요.')\n",
    "except ZeroDivisionError:\n",
    "    print('0으로는 나눌 수 없습니다')"
   ]
  },
  {
   "cell_type": "raw",
   "id": "f13146c7-96c3-418d-b02a-cae59d33f978",
   "metadata": {},
   "source": [
    "# 문자 입력 시\n",
    "100을 나눌 정수를 입력하세요 >> a\n",
    "유효한 숫자를 입력하세요\n",
    "\n",
    "# 0 입력 시\n",
    "100을 나눌 정수를 입력하세요 >> 0\n",
    "입력한 수는 0\n",
    "0으로는 나눌 수 없습니다"
   ]
  },
  {
   "cell_type": "code",
   "execution_count": 23,
   "id": "512d74ea-5f49-4cae-9971-ed0d6cb69b4d",
   "metadata": {},
   "outputs": [
    {
     "name": "stdin",
     "output_type": "stream",
     "text": [
      "100을 나눌 정수를 입력하세요 >> ^\n"
     ]
    },
    {
     "name": "stdout",
     "output_type": "stream",
     "text": [
      "유효한 숫자를 입력하세요.\n"
     ]
    }
   ],
   "source": [
    "# 상속받은 부모 Exception과 같은 계열\n",
    "# ZeroDivisionError 타입의 객체 생성 (Exception에서 상속받은 것이므로 같은 타입)\n",
    "# ValueError와 Exception 순서 바꾸면, 문자 입력 시 ValueError 발생\n",
    "# 하지만 Exception이 상위 예외클래스이므로 Exception만 실행\n",
    "# 따라서 상위 예외클래스는 나중에 사용해줘야 함\n",
    "\n",
    "# 100을 입력받은 정수값으로 나눠 출력한다.\n",
    "# ValueError (수를 입력하지 않고 Enter, space 입력 시)\n",
    "# ZeroDivisionError (0 입력 시)\n",
    "try:\n",
    "    x = int(input('100을 나눌 정수를 입력하세요 >>'))\n",
    "    print('입력한 수는 {}'.format(x))\n",
    "    print('100을 입력한 정수로 나누면 {:.2f}입니다'.format(100/x))\n",
    "except ValueError:\n",
    "    print('유효한 숫자를 입력하세요.')\n",
    "except ZeroDivisionError:\n",
    "    print('0으로는 나눌 수 없습니다')\n",
    "except Exception: # except절이 많을 경우, 상위 클래스를 아래에 명시\n",
    "    print('알 수 없는 혹시 모를 예외입니다')"
   ]
  },
  {
   "cell_type": "markdown",
   "id": "17fe51e3-3e3a-488c-98e4-26f2a5342258",
   "metadata": {},
   "source": [
    "**▼ 유효한 숫자를 입력할 때까지 수를 입력받음**"
   ]
  },
  {
   "cell_type": "code",
   "execution_count": 26,
   "id": "f13377ab-9977-47ec-b0cd-b237e18e5caa",
   "metadata": {},
   "outputs": [
    {
     "name": "stdin",
     "output_type": "stream",
     "text": [
      "100을 나눌 정수를 입력하세요 >> a\n"
     ]
    },
    {
     "name": "stdout",
     "output_type": "stream",
     "text": [
      "유효한 숫자를 입력하세요.\n"
     ]
    },
    {
     "name": "stdin",
     "output_type": "stream",
     "text": [
      "100을 나눌 정수를 입력하세요 >> 0\n"
     ]
    },
    {
     "name": "stdout",
     "output_type": "stream",
     "text": [
      "입력한 수는 0\n",
      "0으로는 나눌 수 없습니다\n"
     ]
    },
    {
     "name": "stdin",
     "output_type": "stream",
     "text": [
      "100을 나눌 정수를 입력하세요 >> ^\n"
     ]
    },
    {
     "name": "stdout",
     "output_type": "stream",
     "text": [
      "유효한 숫자를 입력하세요.\n"
     ]
    },
    {
     "name": "stdin",
     "output_type": "stream",
     "text": [
      "100을 나눌 정수를 입력하세요 >> 123\n"
     ]
    },
    {
     "name": "stdout",
     "output_type": "stream",
     "text": [
      "입력한 수는 123\n",
      "100을 입력한 정수로 나누면 0.81입니다\n"
     ]
    }
   ],
   "source": [
    "# 100을 입력받은 정수값으로 나눠 출력한다.\n",
    "# ValueError (수를 입력하지 않고 Enter, space 입력 시)\n",
    "# ZeroDivisionError (0 입력 시)\n",
    "while True:\n",
    "    try:\n",
    "        x = int(input('100을 나눌 정수를 입력하세요 >>'))\n",
    "        print('입력한 수는 {}'.format(x))\n",
    "        print('100을 입력한 정수로 나누면 {:.2f}입니다'.format(100/x))\n",
    "        break\n",
    "    except ValueError:\n",
    "        print('유효한 숫자를 입력하세요.')\n",
    "    except ZeroDivisionError:\n",
    "        print('0으로는 나눌 수 없습니다')\n",
    "    except Exception: # except절이 많을 경우, 상위 클래스를 아래에 명시\n",
    "        print('알 수 없는 혹시 모를 예외입니다')"
   ]
  },
  {
   "cell_type": "code",
   "execution_count": 28,
   "id": "8a56f337-b412-4bbb-b4a4-acaf6d203be5",
   "metadata": {},
   "outputs": [
    {
     "name": "stdin",
     "output_type": "stream",
     "text": [
      "100을 나눌 정수를 입력하세요 >> 0\n"
     ]
    },
    {
     "name": "stdout",
     "output_type": "stream",
     "text": [
      "입력한 수는 0\n",
      "division by zero\n",
      "예외 객체의 타입 : <class 'ZeroDivisionError'>\n",
      "예외 메시지 e.args : ('division by zero',)\n"
     ]
    },
    {
     "name": "stdin",
     "output_type": "stream",
     "text": [
      "100을 나눌 정수를 입력하세요 >> 5\n"
     ]
    },
    {
     "name": "stdout",
     "output_type": "stream",
     "text": [
      "입력한 수는 5\n",
      "100을 입력한 정수로 나누면 20.00입니다\n"
     ]
    }
   ],
   "source": [
    "# 100을 입력받은 정수값으로 나눠 출력한다.\n",
    "# ValueError (수를 입력하지 않고 Enter, space 입력 시)\n",
    "\n",
    "while True:\n",
    "    try:\n",
    "        x = int(input('100을 나눌 정수를 입력하세요 >>'))\n",
    "        print('입력한 수는 {}'.format(x))\n",
    "        print('100을 입력한 정수로 나누면 {:.2f}입니다'.format(100/x))\n",
    "        break\n",
    "    except (ValueError, ZeroDivisionError) as e:\n",
    "        print(e) # print(e.__str__) : e만 써도 __str__이 자동호출\n",
    "        print('예외 객체의 타입 :', type(e))\n",
    "        print('예외 메시지 e.args :', e.args)"
   ]
  },
  {
   "cell_type": "markdown",
   "id": "cdb60c65-b07e-48fb-9045-30efd4b93651",
   "metadata": {},
   "source": [
    "입력한 수는 0<br>\n",
    "**<font color = 'red'>division by zero</font>**<br>\n",
    "예외 객체의 타입 : <class 'ZeroDivisionError'><br>\n",
    "예외 메시지 e.args : ('**<font color = 'red'>division by zero</font>**',)<br>"
   ]
  },
  {
   "cell_type": "code",
   "execution_count": 29,
   "id": "b2b7066c-14bd-4c0c-8049-e4d93503d138",
   "metadata": {},
   "outputs": [
    {
     "name": "stdout",
     "output_type": "stream",
     "text": [
      "This is Test File\n",
      "Hello, Python\n",
      "테스트 파일입니다.\n"
     ]
    }
   ],
   "source": [
    "try:\n",
    "    f = open('data/ch08.txt', 'r', encoding = 'utf-8') # f는 파일 객체\n",
    "    data = f.read() # 파일을 끝까지 text 형태로 읽어서 반환\n",
    "    print(data)\n",
    "except FileNotFoundError as e:\n",
    "    print(e)\n",
    "finally:\n",
    "    f.close() # 중요★, 파일 열고 안닫으면 저장안됨"
   ]
  },
  {
   "cell_type": "markdown",
   "id": "eafeb66f-837e-4e67-a4ea-f1a4027a261e",
   "metadata": {},
   "source": [
    "**▼ else절 사용하는 경우 예시(근데 잘 안씀)**"
   ]
  },
  {
   "cell_type": "code",
   "execution_count": 30,
   "id": "1342aa64-40ba-480e-bb3b-012deae25a08",
   "metadata": {},
   "outputs": [
    {
     "name": "stdout",
     "output_type": "stream",
     "text": [
      "This is Test File\n",
      "Hello, Python\n",
      "테스트 파일입니다.\n"
     ]
    }
   ],
   "source": [
    "try:\n",
    "    f = open('data/ch08.txt', 'r', encoding = 'utf-8') # f는 파일 객체\n",
    "    data = f.read() # 파일을 끝까지 text 형태로 읽어서 반환\n",
    "    #print(data)\n",
    "except FileNotFoundError as e:\n",
    "    print(e)\n",
    "else: # else절 잘 안씀\n",
    "    print(data)\n",
    "finally:\n",
    "    f.close() # 중요★, 파일 열고 안닫으면 저장안됨"
   ]
  },
  {
   "cell_type": "markdown",
   "id": "bbb71b47-0ce7-4f7c-8975-5836d4107e28",
   "metadata": {},
   "source": [
    "# **3절 강제로 예외발생(raise)**"
   ]
  },
  {
   "cell_type": "code",
   "execution_count": 32,
   "id": "ae7d4653-ca1d-4df4-b876-33281b7857f2",
   "metadata": {},
   "outputs": [
    {
     "ename": "Exception",
     "evalue": "예외가 발생했습니다",
     "output_type": "error",
     "traceback": [
      "\u001b[1;31m---------------------------------------------------------------------------\u001b[0m",
      "\u001b[1;31mException\u001b[0m                                 Traceback (most recent call last)",
      "Cell \u001b[1;32mIn[32], line 1\u001b[0m\n\u001b[1;32m----> 1\u001b[0m \u001b[38;5;28;01mraise\u001b[39;00m \u001b[38;5;167;01mException\u001b[39;00m(\u001b[38;5;124m\"\u001b[39m\u001b[38;5;124m예외가 발생했습니다\u001b[39m\u001b[38;5;124m\"\u001b[39m)\n",
      "\u001b[1;31mException\u001b[0m: 예외가 발생했습니다"
     ]
    }
   ],
   "source": [
    "raise Exception(\"예외가 발생했습니다\")"
   ]
  },
  {
   "cell_type": "code",
   "execution_count": 35,
   "id": "8c0853c5-36c0-4bd2-a8b9-c96f59a02c8a",
   "metadata": {},
   "outputs": [],
   "source": [
    "# 사용자 정의 예외 타입 : 기존 파이썬에서 제공되는 Exception 상속\n",
    "class LengthZeroError(Exception): # 클래스 이름은 반드시 대문자로 시작\n",
    "                                  # Exception에 있는 예외 클래스를 모두 상속받음\n",
    "    \"길이가 0일 때 발생하는 예외\"\n",
    "    pass"
   ]
  },
  {
   "cell_type": "code",
   "execution_count": 34,
   "id": "3cf9b88f-df33-40bd-9ee1-1a3130381a70",
   "metadata": {},
   "outputs": [
    {
     "ename": "LengthZeroError",
     "evalue": "매개변수 길이가 0이면 예외",
     "output_type": "error",
     "traceback": [
      "\u001b[1;31m---------------------------------------------------------------------------\u001b[0m",
      "\u001b[1;31mLengthZeroError\u001b[0m                           Traceback (most recent call last)",
      "Cell \u001b[1;32mIn[34], line 1\u001b[0m\n\u001b[1;32m----> 1\u001b[0m \u001b[38;5;28;01mraise\u001b[39;00m LengthZeroError(\u001b[38;5;124m'\u001b[39m\u001b[38;5;124m매개변수 길이가 0이면 예외\u001b[39m\u001b[38;5;124m'\u001b[39m)\n",
      "\u001b[1;31mLengthZeroError\u001b[0m: 매개변수 길이가 0이면 예외"
     ]
    }
   ],
   "source": [
    "raise LengthZeroError('매개변수 길이가 0이면 예외')"
   ]
  },
  {
   "cell_type": "markdown",
   "id": "fabef974-4c19-498f-9126-3e0554425ad7",
   "metadata": {},
   "source": [
    "**▼ 생성자 추가 버전**"
   ]
  },
  {
   "cell_type": "code",
   "execution_count": 36,
   "id": "34276949-4f85-4acb-b298-9ed4649d9831",
   "metadata": {},
   "outputs": [],
   "source": [
    "# 사용자 정의 예외 타입 : 기존 파이썬에서 제공되는 Exception 상속\n",
    "class LengthZeroError(Exception): # 클래스 이름은 반드시 대문자로 시작\n",
    "                                  # Exception에 있는 예외 클래스를 모두 상속받음\n",
    "    \"길이가 0일 때 발생하는 예외\"\n",
    "    def __init__(self): # 생성자 생성 (생성자 매개변수에 아무것도 안넣음)\n",
    "        super().__init__(\"매개변수 길이가 0이면 예외\")"
   ]
  },
  {
   "cell_type": "code",
   "execution_count": 37,
   "id": "370a5fde-8b03-4d16-b9c7-5af5cfed1281",
   "metadata": {},
   "outputs": [
    {
     "ename": "LengthZeroError",
     "evalue": "매개변수 길이가 0이면 예외",
     "output_type": "error",
     "traceback": [
      "\u001b[1;31m---------------------------------------------------------------------------\u001b[0m",
      "\u001b[1;31mLengthZeroError\u001b[0m                           Traceback (most recent call last)",
      "Cell \u001b[1;32mIn[37], line 1\u001b[0m\n\u001b[1;32m----> 1\u001b[0m \u001b[38;5;28;01mraise\u001b[39;00m LengthZeroError()\n",
      "\u001b[1;31mLengthZeroError\u001b[0m: 매개변수 길이가 0이면 예외"
     ]
    }
   ],
   "source": [
    "raise LengthZeroError() # 매개변수 없이 실행"
   ]
  },
  {
   "cell_type": "code",
   "execution_count": 38,
   "id": "0ceb5d2e-bd4c-4fe1-8802-d1efb7860643",
   "metadata": {},
   "outputs": [],
   "source": [
    "def insert(*data): # 튜플 매개변수\n",
    "    if len(data) == 0:\n",
    "        raise LengthZeroError()\n",
    "    for item in data:\n",
    "        print(item, end=\" \")\n",
    "    print('등을 입력하셨습니다')"
   ]
  },
  {
   "cell_type": "code",
   "execution_count": 42,
   "id": "8b86f003-6e21-412f-8237-fe903f5b3292",
   "metadata": {},
   "outputs": [
    {
     "name": "stdout",
     "output_type": "stream",
     "text": [
      "1 2 3 등을 입력하셨습니다\n"
     ]
    }
   ],
   "source": [
    "insert(1,2,3) # 튜플매개변수에 패킹"
   ]
  },
  {
   "cell_type": "code",
   "execution_count": 43,
   "id": "15846813-abb4-40d5-bc8c-cf0c6b46baca",
   "metadata": {},
   "outputs": [
    {
     "ename": "LengthZeroError",
     "evalue": "매개변수 길이가 0이면 예외",
     "output_type": "error",
     "traceback": [
      "\u001b[1;31m---------------------------------------------------------------------------\u001b[0m",
      "\u001b[1;31mLengthZeroError\u001b[0m                           Traceback (most recent call last)",
      "Cell \u001b[1;32mIn[43], line 1\u001b[0m\n\u001b[1;32m----> 1\u001b[0m insert()\n",
      "Cell \u001b[1;32mIn[38], line 3\u001b[0m, in \u001b[0;36minsert\u001b[1;34m(*data)\u001b[0m\n\u001b[0;32m      1\u001b[0m \u001b[38;5;28;01mdef\u001b[39;00m \u001b[38;5;21minsert\u001b[39m(\u001b[38;5;241m*\u001b[39mdata): \u001b[38;5;66;03m# 튜플 매개변수\u001b[39;00m\n\u001b[0;32m      2\u001b[0m     \u001b[38;5;28;01mif\u001b[39;00m \u001b[38;5;28mlen\u001b[39m(data) \u001b[38;5;241m==\u001b[39m \u001b[38;5;241m0\u001b[39m:\n\u001b[1;32m----> 3\u001b[0m         \u001b[38;5;28;01mraise\u001b[39;00m LengthZeroError()\n\u001b[0;32m      4\u001b[0m     \u001b[38;5;28;01mfor\u001b[39;00m item \u001b[38;5;129;01min\u001b[39;00m data:\n\u001b[0;32m      5\u001b[0m         \u001b[38;5;28mprint\u001b[39m(item, end\u001b[38;5;241m=\u001b[39m\u001b[38;5;124m\"\u001b[39m\u001b[38;5;124m \u001b[39m\u001b[38;5;124m\"\u001b[39m)\n",
      "\u001b[1;31mLengthZeroError\u001b[0m: 매개변수 길이가 0이면 예외"
     ]
    }
   ],
   "source": [
    "insert()"
   ]
  },
  {
   "cell_type": "code",
   "execution_count": 44,
   "id": "5cc8a9b5-c6b2-47eb-81c7-8c95b19165ad",
   "metadata": {},
   "outputs": [
    {
     "name": "stdout",
     "output_type": "stream",
     "text": [
      "1 2 3 등을 입력하셨습니다\n"
     ]
    }
   ],
   "source": [
    "l = (1,2,3)\n",
    "insert(*l) # 언패킹 (튜플매개변수에 언패킹)"
   ]
  },
  {
   "cell_type": "markdown",
   "id": "94d3427a-cce6-4c44-a3a6-180f0885bbfe",
   "metadata": {},
   "source": [
    "# **4절 파일 정리 작업(with절 이용)**"
   ]
  },
  {
   "cell_type": "code",
   "execution_count": 49,
   "id": "4489118a-679a-4d23-8b37-ca39d0000db6",
   "metadata": {},
   "outputs": [
    {
     "name": "stdout",
     "output_type": "stream",
     "text": [
      "['This is Test File\\n', 'Hello, Python\\n', '테스트 파일입니다.']\n"
     ]
    }
   ],
   "source": [
    "# 파일 입출력시 자원 반납 필수(close)\n",
    "try:\n",
    "    f = open('data/ch08.txt', 'r', encoding='utf-8')\n",
    "    lines = f.readlines() # 한줄한줄 모든 줄을 list형태로 반환\n",
    "    print(lines)\n",
    "except:\n",
    "    print('없는 파일이거나 encoding 확인 요망')\n",
    "#except Exception:\n",
    "#    print(e) # 시스템상 멘트로 제공됨\n",
    "finally:\n",
    "    f.close()"
   ]
  },
  {
   "cell_type": "markdown",
   "id": "a10c9f11-efb0-4b87-8345-6eb5c4663439",
   "metadata": {},
   "source": [
    "**▼ finally 꼭 써줘야 하는데 까먹음 방지 위한 방법**"
   ]
  },
  {
   "cell_type": "code",
   "execution_count": 50,
   "id": "fc2ce077-c7e4-4420-b0dd-c5c812807522",
   "metadata": {},
   "outputs": [
    {
     "name": "stdout",
     "output_type": "stream",
     "text": [
      "['This is Test File\\n', 'Hello, Python\\n', '테스트 파일입니다.']\n"
     ]
    }
   ],
   "source": [
    "# with절 이용 시 자동 close() 실행\n",
    "with open('data/ch08.txt', 'r', encoding='utf-8') as f:\n",
    "    lines = f.readlines()\n",
    "print(lines)"
   ]
  },
  {
   "cell_type": "markdown",
   "id": "fb847d0a-f647-4dd4-a1fc-61fcb9cab7b9",
   "metadata": {},
   "source": [
    "# **연습문제**"
   ]
  },
  {
   "cell_type": "code",
   "execution_count": null,
   "id": "f38364dd-934a-41bc-b0ed-0b6f37a83747",
   "metadata": {},
   "outputs": [],
   "source": [
    "1. 숫자 두 개를 입력받아 나눗셈 연산을 하는 프로그램을 작성하세요.<br>\n",
    "- 두 숫자는 정수 또는 실수일 수 있으며, 0으로 나눌 수 없습니다."
   ]
  }
 ],
 "metadata": {
  "kernelspec": {
   "display_name": "Python 3 (ipykernel)",
   "language": "python",
   "name": "python3"
  },
  "language_info": {
   "codemirror_mode": {
    "name": "ipython",
    "version": 3
   },
   "file_extension": ".py",
   "mimetype": "text/x-python",
   "name": "python",
   "nbconvert_exporter": "python",
   "pygments_lexer": "ipython3",
   "version": "3.11.7"
  }
 },
 "nbformat": 4,
 "nbformat_minor": 5
}
