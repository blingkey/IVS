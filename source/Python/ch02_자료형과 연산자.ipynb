{
 "cells": [
  {
   "cell_type": "markdown",
   "id": "7928a6ff-e2d6-48e5-89a5-b5e89be97190",
   "metadata": {},
   "source": [
    "<font size=\"7\" color=\"blue\"><b>ch0.2 자료형과 연산자</b></font>"
   ]
  },
  {
   "cell_type": "markdown",
   "id": "66b2196f-6791-4877-af97-c5c825786798",
   "metadata": {},
   "source": [
    "# **1절 변수**\n",
    "## **1.1 변수 선언**\n",
    "- 별도의 변수 선언과정 없음\n",
    "## **1.2 변수 할당**\n",
    "- 대입연산자(=) 사용"
   ]
  },
  {
   "cell_type": "markdown",
   "id": "b2348aef-3c81-42c2-975c-73192c2d4f95",
   "metadata": {},
   "source": [
    "```\n",
    "c\n",
    "#include <stdio.h>\n",
    "printf()\n",
    "\n",
    "python\n",
    "import stdio.h as std\n",
    "stdio.h.printf() -> std.printf()\n",
    "```"
   ]
  },
  {
   "cell_type": "code",
   "execution_count": 6,
   "id": "c30c444e-d6fa-4baa-abd1-40083022cec5",
   "metadata": {},
   "outputs": [
    {
     "name": "stdout",
     "output_type": "stream",
     "text": [
      "제공되는 pi값은  3.141592653589793\n",
      "계산된 넓이는  78.53981633974483\n",
      "area타입은  <class 'float'>\n",
      "area의 주소는  1828224901968\n"
     ]
    }
   ],
   "source": [
    "import numpy as np\n",
    "print(\"제공되는 pi값은 \", np.pi)\n",
    "r = 5\n",
    "area = np.pi * r* r\n",
    "# c방식 : printf(\"계산된 넓이는 %lf\", area);\n",
    "print(\"계산된 넓이는 \", area)\n",
    "# python은 변수 선언 안해도 알아서 변수 설정\n",
    "print(\"area타입은 \", type(area))\n",
    "print(\"area의 주소는 \", id(area))"
   ]
  },
  {
   "cell_type": "code",
   "execution_count": 7,
   "id": "64734dfc-dd3b-4267-9de6-6d7708a64872",
   "metadata": {},
   "outputs": [
    {
     "name": "stdout",
     "output_type": "stream",
     "text": [
      "area 값은  10\n",
      "area타입은  <class 'int'>\n",
      "area의 주소는  140709836342344\n"
     ]
    }
   ],
   "source": [
    "area = 10\n",
    "print(\"area 값은 \", area)\n",
    "print(\"area타입은 \", type(area))\n",
    "print(\"area의 주소는 \", id(area))"
   ]
  },
  {
   "cell_type": "code",
   "execution_count": 8,
   "id": "86a95e19-cf4b-4679-84ab-3c5050cbfa9c",
   "metadata": {},
   "outputs": [
    {
     "name": "stdout",
     "output_type": "stream",
     "text": [
      "area 값은  파이썬은 좋아요\n",
      "area타입은  <class 'str'>\n",
      "area의 주소는  1828173983984\n"
     ]
    }
   ],
   "source": [
    "area = \"파이썬은 좋아요\"\n",
    "print(\"area 값은 \", area)\n",
    "print(\"area타입은 \", type(area))\n",
    "print(\"area의 주소는 \", id(area))"
   ]
  },
  {
   "cell_type": "markdown",
   "id": "fbf41cc3-d6d2-4a3e-846c-eaf1211d37ef",
   "metadata": {},
   "source": [
    "```\n",
    "변수 수정하면 다른 주소 할당\n",
    "할당할 때 변수 type 설정됨\n",
    "```"
   ]
  },
  {
   "cell_type": "markdown",
   "id": "6c99c6c1-af87-43c2-a51a-9cf81a19e894",
   "metadata": {},
   "source": [
    "## **1.3 변수이름 규칙**\n",
    "- 문자(특수문자는 _제외하고 안됨), 숫자, _로 명명.\n",
    "- 문자로 시작\n",
    "- 파이썬에서 제공되는 기본 함수명은 피하자. 꼭 써야한다면 int_식으로 _를 붙임\n",
    "- 파이썬 예약어는 변수명 불가 (ex. if)"
   ]
  },
  {
   "cell_type": "code",
   "execution_count": 10,
   "id": "068aa53b-e4f4-462e-aa74-b2b0589270ea",
   "metadata": {},
   "outputs": [
    {
     "data": {
      "text/plain": [
       "'북한'"
      ]
     },
     "execution_count": 10,
     "metadata": {},
     "output_type": "execute_result"
    }
   ],
   "source": [
    "불용어 = '북한'\n",
    "불용어"
   ]
  },
  {
   "cell_type": "code",
   "execution_count": 11,
   "id": "b9fe2522-e14c-4aff-8597-f685aee4d238",
   "metadata": {},
   "outputs": [
    {
     "name": "stdout",
     "output_type": "stream",
     "text": [
      "북한\n"
     ]
    }
   ],
   "source": [
    "print(불용어)"
   ]
  },
  {
   "cell_type": "code",
   "execution_count": 13,
   "id": "e0e69b68-629f-4fa8-8630-b8fa48e4c601",
   "metadata": {},
   "outputs": [],
   "source": [
    "# 파이썬 변수는 함수 할당이 가능\n",
    "# 하지만 기존의 함수 기능 사용할 수 없게 된다.\n",
    "print = 5"
   ]
  },
  {
   "cell_type": "code",
   "execution_count": 14,
   "id": "4447f375-3243-4979-90e8-f8c7a624f630",
   "metadata": {},
   "outputs": [
    {
     "ename": "TypeError",
     "evalue": "'int' object is not callable",
     "output_type": "error",
     "traceback": [
      "\u001b[1;31m---------------------------------------------------------------------------\u001b[0m",
      "\u001b[1;31mTypeError\u001b[0m                                 Traceback (most recent call last)",
      "Cell \u001b[1;32mIn[14], line 1\u001b[0m\n\u001b[1;32m----> 1\u001b[0m \u001b[38;5;28mprint\u001b[39m(불용어)\n",
      "\u001b[1;31mTypeError\u001b[0m: 'int' object is not callable"
     ]
    }
   ],
   "source": [
    "print(불용어)"
   ]
  },
  {
   "cell_type": "code",
   "execution_count": 15,
   "id": "d7ac664b-4c6a-42a6-bb54-71bf0572f1cb",
   "metadata": {},
   "outputs": [],
   "source": [
    "del print # print 변수 삭제"
   ]
  },
  {
   "cell_type": "code",
   "execution_count": 16,
   "id": "c6ca0894-33ea-4b01-94cb-7512ea228d6a",
   "metadata": {},
   "outputs": [
    {
     "name": "stdout",
     "output_type": "stream",
     "text": [
      "북한\n"
     ]
    }
   ],
   "source": [
    "print(불용어)"
   ]
  },
  {
   "cell_type": "markdown",
   "id": "d3a7dad9-cfc1-4ce5-ba23-fe054691c481",
   "metadata": {},
   "source": [
    "따라서 함수형 언어라고 함 (ex. python, javascript)"
   ]
  },
  {
   "cell_type": "code",
   "execution_count": 12,
   "id": "91097346-7c55-49f1-a5dc-1a784872f649",
   "metadata": {},
   "outputs": [
    {
     "data": {
      "text/plain": [
       "complex"
      ]
     },
     "execution_count": 12,
     "metadata": {},
     "output_type": "execute_result"
    }
   ],
   "source": [
    "# 복소수도 가능\n",
    "i = 3 + 3j # 복소수\n",
    "type(i)"
   ]
  },
  {
   "cell_type": "code",
   "execution_count": 17,
   "id": "65e9361a-426a-4096-819b-4da85077a4dd",
   "metadata": {},
   "outputs": [],
   "source": [
    "a = 10\n",
    "b = 20"
   ]
  },
  {
   "cell_type": "code",
   "execution_count": 20,
   "id": "aefebd25-96cd-485f-b730-692d96399fab",
   "metadata": {},
   "outputs": [],
   "source": [
    "a, b = 10, 20 # 다중 선언"
   ]
  },
  {
   "cell_type": "code",
   "execution_count": 21,
   "id": "eb4df9de-c448-4037-a7a0-0a760ae7a2dd",
   "metadata": {},
   "outputs": [
    {
     "data": {
      "text/plain": [
       "(10, 20)"
      ]
     },
     "execution_count": 21,
     "metadata": {},
     "output_type": "execute_result"
    }
   ],
   "source": [
    "a, b"
   ]
  },
  {
   "cell_type": "code",
   "execution_count": 22,
   "id": "bc048787-2704-43cb-b3d3-10f2f4a2c9bc",
   "metadata": {},
   "outputs": [
    {
     "name": "stdout",
     "output_type": "stream",
     "text": [
      "a= 20 \t b= 30\n"
     ]
    }
   ],
   "source": [
    "a, b = b, a+b # 다중 선언\n",
    "print('a=',a, '\\t b=',b)"
   ]
  },
  {
   "cell_type": "markdown",
   "id": "60fea521-7c07-4bbb-a796-90775714bab7",
   "metadata": {},
   "source": [
    "## **1.4 도움말**"
   ]
  },
  {
   "cell_type": "code",
   "execution_count": 24,
   "id": "0a264eee-2195-4bfb-b3c3-4f668d21c8cc",
   "metadata": {},
   "outputs": [
    {
     "name": "stdout",
     "output_type": "stream",
     "text": [
      "Help on built-in function print in module builtins:\n",
      "\n",
      "print(*args, sep=' ', end='\\n', file=None, flush=False)\n",
      "    Prints the values to a stream, or to sys.stdout by default.\n",
      "    \n",
      "    sep\n",
      "      string inserted between values, default a space.\n",
      "    end\n",
      "      string appended after the last value, default a newline.\n",
      "    file\n",
      "      a file-like object (stream); defaults to the current sys.stdout.\n",
      "    flush\n",
      "      whether to forcibly flush the stream.\n",
      "\n"
     ]
    }
   ],
   "source": [
    "help(print)"
   ]
  },
  {
   "cell_type": "code",
   "execution_count": 25,
   "id": "22e42ed1-de16-467b-ac85-fe247a7e6aba",
   "metadata": {},
   "outputs": [
    {
     "data": {
      "text/plain": [
       "\u001b[1;31mSignature:\u001b[0m \u001b[0mprint\u001b[0m\u001b[1;33m(\u001b[0m\u001b[1;33m*\u001b[0m\u001b[0margs\u001b[0m\u001b[1;33m,\u001b[0m \u001b[0msep\u001b[0m\u001b[1;33m=\u001b[0m\u001b[1;34m' '\u001b[0m\u001b[1;33m,\u001b[0m \u001b[0mend\u001b[0m\u001b[1;33m=\u001b[0m\u001b[1;34m'\\n'\u001b[0m\u001b[1;33m,\u001b[0m \u001b[0mfile\u001b[0m\u001b[1;33m=\u001b[0m\u001b[1;32mNone\u001b[0m\u001b[1;33m,\u001b[0m \u001b[0mflush\u001b[0m\u001b[1;33m=\u001b[0m\u001b[1;32mFalse\u001b[0m\u001b[1;33m)\u001b[0m\u001b[1;33m\u001b[0m\u001b[1;33m\u001b[0m\u001b[0m\n",
       "\u001b[1;31mDocstring:\u001b[0m\n",
       "Prints the values to a stream, or to sys.stdout by default.\n",
       "\n",
       "sep\n",
       "  string inserted between values, default a space.\n",
       "end\n",
       "  string appended after the last value, default a newline.\n",
       "file\n",
       "  a file-like object (stream); defaults to the current sys.stdout.\n",
       "flush\n",
       "  whether to forcibly flush the stream.\n",
       "\u001b[1;31mType:\u001b[0m      builtin_function_or_method"
      ]
     },
     "metadata": {},
     "output_type": "display_data"
    }
   ],
   "source": [
    "print?"
   ]
  },
  {
   "cell_type": "code",
   "execution_count": 29,
   "id": "bf4e1843-1b8e-4804-a41e-ef6c59702d76",
   "metadata": {},
   "outputs": [
    {
     "name": "stdout",
     "output_type": "stream",
     "text": [
      "a~b\n"
     ]
    }
   ],
   "source": [
    "# 도움말 기능 : 함수 내에서 shift + tab키\n",
    "print('a', 'b', sep='~')"
   ]
  },
  {
   "attachments": {
    "170c451a-6081-4860-a405-82af052f8c25.png": {
     "image/png": "[encoded data removed]"
    }
   },
   "cell_type": "markdown",
   "id": "5a50a80c-69e9-45a2-b391-29e968b48247",
   "metadata": {},
   "source": [
    "![image.png](attachment:170c451a-6081-4860-a405-82af052f8c25.png)"
   ]
  },
  {
   "cell_type": "code",
   "execution_count": 30,
   "id": "526d1537-ed76-44be-bbae-ae3ef2df5ea8",
   "metadata": {},
   "outputs": [],
   "source": [
    "def make_number(x, y=0) :\n",
    "    \"\"\"doc string(함수의 도움말)\n",
    "    매개변수 2개를 이용해서 2자리 정수를 만들기\n",
    "    x = 10의 자리수\n",
    "    y = 1의 자리수 (default값 0)\n",
    "    \"\"\"\n",
    "    return x*10 + y"
   ]
  },
  {
   "cell_type": "markdown",
   "id": "7895e178-b5da-41a5-af4f-b7cd1492e222",
   "metadata": {},
   "source": [
    "ma + **tab키** : 내가 사용할 수 있는 함수 list 나타남"
   ]
  },
  {
   "cell_type": "code",
   "execution_count": 31,
   "id": "e4825527-165b-4c9a-a0aa-b3cff54b71b9",
   "metadata": {},
   "outputs": [
    {
     "data": {
      "text/plain": [
       "32"
      ]
     },
     "execution_count": 31,
     "metadata": {},
     "output_type": "execute_result"
    }
   ],
   "source": [
    "make_number(3, 2)"
   ]
  },
  {
   "cell_type": "code",
   "execution_count": 32,
   "id": "6b492773-8585-48fc-814e-54175ce57c1c",
   "metadata": {},
   "outputs": [
    {
     "data": {
      "text/plain": [
       "50"
      ]
     },
     "execution_count": 32,
     "metadata": {},
     "output_type": "execute_result"
    }
   ],
   "source": [
    "make_number(5) # y의 default값이 0이므로 작성하지 않아도 됨"
   ]
  },
  {
   "cell_type": "code",
   "execution_count": 33,
   "id": "9de42801-401d-4b44-83a4-07f98039bed3",
   "metadata": {},
   "outputs": [],
   "source": [
    "make = make_number # 함수를 변수에 할당"
   ]
  },
  {
   "cell_type": "code",
   "execution_count": 34,
   "id": "b3834337-b510-4862-b0a4-e4d5a36f0d83",
   "metadata": {},
   "outputs": [
    {
     "data": {
      "text/plain": [
       "60"
      ]
     },
     "execution_count": 34,
     "metadata": {},
     "output_type": "execute_result"
    }
   ],
   "source": [
    "make(6)"
   ]
  },
  {
   "cell_type": "markdown",
   "id": "9c2dd4c7-a51d-42db-9605-3bad529a4e95",
   "metadata": {},
   "source": [
    "## **1.5 변수 삭제**"
   ]
  },
  {
   "cell_type": "code",
   "execution_count": 35,
   "id": "2e6313c8-9053-4bc6-91d2-a5725681944d",
   "metadata": {},
   "outputs": [],
   "source": [
    "del make"
   ]
  },
  {
   "cell_type": "code",
   "execution_count": 36,
   "id": "4c5e9ac5-a9ea-411f-b426-8f2f6bf3c146",
   "metadata": {},
   "outputs": [
    {
     "ename": "NameError",
     "evalue": "name 'make' is not defined",
     "output_type": "error",
     "traceback": [
      "\u001b[1;31m---------------------------------------------------------------------------\u001b[0m",
      "\u001b[1;31mNameError\u001b[0m                                 Traceback (most recent call last)",
      "Cell \u001b[1;32mIn[36], line 1\u001b[0m\n\u001b[1;32m----> 1\u001b[0m make(\u001b[38;5;241m6\u001b[39m)\n",
      "\u001b[1;31mNameError\u001b[0m: name 'make' is not defined"
     ]
    }
   ],
   "source": [
    "make(6)"
   ]
  },
  {
   "cell_type": "markdown",
   "id": "e247e2c8-1ac1-40a0-b94a-7c0ab6e3f423",
   "metadata": {},
   "source": [
    "# **2절 화면 I/O**"
   ]
  },
  {
   "cell_type": "code",
   "execution_count": 38,
   "id": "1cabd2d5-6e46-4dec-886d-a5b09d7412fe",
   "metadata": {},
   "outputs": [
    {
     "name": "stdin",
     "output_type": "stream",
     "text": [
      "첫번째 숫자는? 45\n",
      "두번째 숫자는? 62\n"
     ]
    }
   ],
   "source": [
    "# c언어의 scanf\n",
    "first = input(\"첫번째 숫자는?\") # 문자로 return\n",
    "second = input(\"두번째 숫자는?\")"
   ]
  },
  {
   "cell_type": "code",
   "execution_count": 40,
   "id": "4347960c-c17e-463b-a429-798a5c1c397d",
   "metadata": {},
   "outputs": [
    {
     "data": {
      "text/plain": [
       "('45', '62')"
      ]
     },
     "execution_count": 40,
     "metadata": {},
     "output_type": "execute_result"
    }
   ],
   "source": [
    "first, second"
   ]
  },
  {
   "cell_type": "code",
   "execution_count": 42,
   "id": "a626417e-bda2-41cd-b401-974b0509c712",
   "metadata": {},
   "outputs": [
    {
     "name": "stdout",
     "output_type": "stream",
     "text": [
      "두 수의 합은 4562 입니다\n",
      "두 수의 합은 4562\n"
     ]
    }
   ],
   "source": [
    "print(\"두 수의 합은\", first+second, \"입니다\")\n",
    "print(\"두 수의 합은 {}\".format(first+second)) # 문자 + 문자"
   ]
  },
  {
   "cell_type": "markdown",
   "id": "478cfa59-be51-4fbf-a55d-23bc340d4e76",
   "metadata": {},
   "source": [
    "- 문자로 받지 않고 숫자로 받는 방법"
   ]
  },
  {
   "cell_type": "code",
   "execution_count": 43,
   "id": "0138037a-086b-40cc-b4ee-d68a88febe89",
   "metadata": {},
   "outputs": [
    {
     "name": "stdin",
     "output_type": "stream",
     "text": [
      "첫번째 숫자는? 45\n",
      "두번째 숫자는? 62\n"
     ]
    }
   ],
   "source": [
    "first = int(input(\"첫번째 숫자는?\")) # 숫자로 받기\n",
    "second = int(input(\"두번째 숫자는?\"))"
   ]
  },
  {
   "cell_type": "code",
   "execution_count": 44,
   "id": "2dddd41d-4269-4c2e-b939-9bb9f1ed4611",
   "metadata": {},
   "outputs": [
    {
     "name": "stdout",
     "output_type": "stream",
     "text": [
      "두 수의 합은 107 입니다\n",
      "두 수의 합은 107\n"
     ]
    }
   ],
   "source": [
    "print(\"두 수의 합은\", first+second, \"입니다\")\n",
    "print(\"두 수의 합은 {}\".format(first+second)) # 숫자 + 숫자"
   ]
  },
  {
   "cell_type": "code",
   "execution_count": 49,
   "id": "86669956-fa30-478a-9ca1-6d01ac92f8ae",
   "metadata": {},
   "outputs": [
    {
     "name": "stdout",
     "output_type": "stream",
     "text": [
      "Hello~world\n",
      "Hello Python\n"
     ]
    }
   ],
   "source": [
    "print(\"Hello\", \"world\", sep='~')\n",
    "print(\"Hello\", \"Python\")"
   ]
  },
  {
   "cell_type": "code",
   "execution_count": 50,
   "id": "cebabbaf-1212-4d62-86f7-e44328a57f9c",
   "metadata": {},
   "outputs": [
    {
     "name": "stdout",
     "output_type": "stream",
     "text": [
      "Hello~world\tHello Python\n"
     ]
    }
   ],
   "source": [
    "print(\"Hello\", \"world\", sep='~', end=\"\\t\")\n",
    "print(\"Hello\", \"Python\")"
   ]
  },
  {
   "cell_type": "markdown",
   "id": "0e5420ef-289c-4ce8-b6fe-71a5f180a5ef",
   "metadata": {},
   "source": [
    "# **3절 기본 자료형**\n",
    "- 숫자 : int, float, complex\n",
    "- 문자 : str\n",
    "- 논리 : bool\n",
    "  \n",
    "  파이썬은 타입을 지칭하는 키워드가 없고, 변수 할당 시 타입이 정해짐"
   ]
  },
  {
   "cell_type": "markdown",
   "id": "eedb43ae-2dfe-4608-a7c9-e88b7a52fd54",
   "metadata": {},
   "source": [
    "## **3.1 숫자형**"
   ]
  },
  {
   "cell_type": "code",
   "execution_count": 53,
   "id": "369be9c8-ae83-4f77-97ca-ef80bbe86d0d",
   "metadata": {},
   "outputs": [
    {
     "name": "stdout",
     "output_type": "stream",
     "text": [
      "9223372036854775807\n"
     ]
    }
   ],
   "source": [
    "import sys\n",
    "print(sys.maxsize) # 모든 크기의 정수를 다 처리 가능"
   ]
  },
  {
   "cell_type": "code",
   "execution_count": 56,
   "id": "5255fa6e-e9e7-476e-b818-0868898cd2d8",
   "metadata": {},
   "outputs": [
    {
     "name": "stdout",
     "output_type": "stream",
     "text": [
      "값:9223372036854775817 / 주소:1828250647888\n",
      "<class 'int'>\n"
     ]
    }
   ],
   "source": [
    "a = sys.maxsize + 10\n",
    "print(\"값:{} / 주소:{}\".format(a, id(a)))\n",
    "print(type(a))"
   ]
  },
  {
   "cell_type": "code",
   "execution_count": 57,
   "id": "c959f936-19ee-4013-91a7-4a529dbd5f43",
   "metadata": {},
   "outputs": [
    {
     "name": "stdout",
     "output_type": "stream",
     "text": [
      "값: 1 / 주소: 140709836342056\n",
      "<class 'int'>\n"
     ]
    }
   ],
   "source": [
    "a = 1\n",
    "print(\"값: {} / 주소: {}\".format(a, id(a)))\n",
    "print(type(a))"
   ]
  },
  {
   "cell_type": "code",
   "execution_count": 58,
   "id": "5f4f1df2-e41d-4a6a-a627-279368e2a9da",
   "metadata": {},
   "outputs": [
    {
     "name": "stdout",
     "output_type": "stream",
     "text": [
      "값: 1.5 / 주소: 1828173510608\n",
      "<class 'float'>\n"
     ]
    }
   ],
   "source": [
    "a = 3/2 # 정수형/정수형 => 실수형(float)\n",
    "print(\"값: {} / 주소: {}\".format(a, id(a)))\n",
    "print(type(a))"
   ]
  },
  {
   "cell_type": "code",
   "execution_count": 60,
   "id": "77bb7504-7009-49ca-8726-9203dc8e98c4",
   "metadata": {},
   "outputs": [
    {
     "name": "stdout",
     "output_type": "stream",
     "text": [
      "값: 1 / 주소: 140709836342056\n",
      "<class 'int'>\n"
     ]
    }
   ],
   "source": [
    "a = int(3/2) # C언어 결과처럼 하고자 하면 명시적 형변환\n",
    "a = 3 // 2 # C언어 결과처럼 하고자 하면 몫 연산자\n",
    "print(\"값: {} / 주소: {}\".format(a, id(a)))\n",
    "print(type(a))"
   ]
  },
  {
   "cell_type": "code",
   "execution_count": 62,
   "id": "5d71f2f6-bb45-442d-a271-b1ef1af9e461",
   "metadata": {},
   "outputs": [
    {
     "name": "stdout",
     "output_type": "stream",
     "text": [
      "1.12e+20\n",
      "1.12e-20\n"
     ]
    }
   ],
   "source": [
    "f = 1.12e20 # 1.12의 10의 20승\n",
    "print(f)\n",
    "f = 1.12e-20 # 1.12의 10의 -20승\n",
    "print(f)"
   ]
  },
  {
   "cell_type": "markdown",
   "id": "d369a4a5-2127-43c8-b3c2-fe052c1151ae",
   "metadata": {},
   "source": [
    "## **3.2 문자형**"
   ]
  },
  {
   "cell_type": "code",
   "execution_count": 68,
   "id": "850ff3da-780e-4975-a1a4-ef9855a1f819",
   "metadata": {},
   "outputs": [
    {
     "name": "stdout",
     "output_type": "stream",
     "text": [
      "홍길동'님'\n",
      "홍길동\"님\"\n",
      "서울시 \"금천구\" 가산디지털1로\n"
     ]
    }
   ],
   "source": [
    "name = \"홍길동'님'\"\n",
    "print(name)\n",
    "name = '홍길동\"님\"'\n",
    "print(name)\n",
    "address = \"서울시 \\\"금천구\\\" \\\n",
    "가산디지털1로\"\n",
    "# \\ 다음줄로 계속\n",
    "print(address)"
   ]
  },
  {
   "cell_type": "code",
   "execution_count": 74,
   "id": "8236c1dc-4d84-4cf7-ae92-20869a8d4d08",
   "metadata": {},
   "outputs": [
    {
     "name": "stdout",
     "output_type": "stream",
     "text": [
      "안녕하세요.\n",
      "홍길동입니다.\n",
      "반갑습니다.\n"
     ]
    }
   ],
   "source": [
    "text = \"안녕하세요.\\n홍길동입니다.\\n반갑습니다.\"\n",
    "print(text)"
   ]
  },
  {
   "cell_type": "code",
   "execution_count": 75,
   "id": "36c71f9e-4383-4b12-bc88-094cc6e2f24a",
   "metadata": {},
   "outputs": [
    {
     "name": "stdout",
     "output_type": "stream",
     "text": [
      "안녕하세요.\n",
      "홍길동입니다.\n",
      "반갑습니다.\n",
      "\n"
     ]
    }
   ],
   "source": [
    "text = \"\"\"안녕하세요.\n",
    "홍길동입니다.\n",
    "반갑습니다.\n",
    "\"\"\"\n",
    "print(text)"
   ]
  },
  {
   "cell_type": "markdown",
   "id": "48d99217-7ec3-499a-8afb-33297163f1e9",
   "metadata": {},
   "source": [
    "### 문자열 슬라이싱"
   ]
  },
  {
   "cell_type": "code",
   "execution_count": 77,
   "id": "8dffa0ed-ef12-4a1b-80e1-cfd290802964",
   "metadata": {},
   "outputs": [
    {
     "data": {
      "text/plain": [
       "'0123456789'"
      ]
     },
     "execution_count": 77,
     "metadata": {},
     "output_type": "execute_result"
    }
   ],
   "source": [
    "str_ = \"0123456789\"\n",
    "str_"
   ]
  },
  {
   "cell_type": "code",
   "execution_count": 78,
   "id": "2e179a07-0149-4f8c-bec6-b99a006905fb",
   "metadata": {},
   "outputs": [
    {
     "data": {
      "text/plain": [
       "'0'"
      ]
     },
     "execution_count": 78,
     "metadata": {},
     "output_type": "execute_result"
    }
   ],
   "source": [
    "str_[0]"
   ]
  },
  {
   "cell_type": "code",
   "execution_count": 80,
   "id": "c2ca8e26-bdcb-407c-8261-28128a5fc41a",
   "metadata": {},
   "outputs": [
    {
     "data": {
      "text/plain": [
       "'012'"
      ]
     },
     "execution_count": 80,
     "metadata": {},
     "output_type": "execute_result"
    }
   ],
   "source": [
    "str_[0:3] # 0번째부터 3번째 앞까지"
   ]
  },
  {
   "cell_type": "code",
   "execution_count": 82,
   "id": "44903339-ff98-47b3-a27b-a1c601e6814e",
   "metadata": {},
   "outputs": [
    {
     "data": {
      "text/plain": [
       "'9'"
      ]
     },
     "execution_count": 82,
     "metadata": {},
     "output_type": "execute_result"
    }
   ],
   "source": [
    "str_[-1] # 음수 인덱스는 뒤에서부터"
   ]
  },
  {
   "cell_type": "code",
   "execution_count": 87,
   "id": "9f54c8d3-0861-47ff-83cb-6ee72560aa32",
   "metadata": {},
   "outputs": [
    {
     "data": {
      "text/plain": [
       "'5678'"
      ]
     },
     "execution_count": 87,
     "metadata": {},
     "output_type": "execute_result"
    }
   ],
   "source": [
    "str_ = \"0123456789\"\n",
    "str_[-5:-1] # 뒤에서부터 5번째부터 뒤에서부터 1번쨰 앞까지"
   ]
  },
  {
   "cell_type": "code",
   "execution_count": 88,
   "id": "9c2ae8bf-cfc0-4b92-bc27-d7ffc7fd83f7",
   "metadata": {},
   "outputs": [
    {
     "data": {
      "text/plain": [
       "'56789'"
      ]
     },
     "execution_count": 88,
     "metadata": {},
     "output_type": "execute_result"
    }
   ],
   "source": [
    "str_[-5:] # 5번째 인덱스부터 끝까지"
   ]
  },
  {
   "cell_type": "code",
   "execution_count": 89,
   "id": "eeb4281f-62d3-46ca-ae08-65ca478e7223",
   "metadata": {},
   "outputs": [
    {
     "data": {
      "text/plain": [
       "'01234'"
      ]
     },
     "execution_count": 89,
     "metadata": {},
     "output_type": "execute_result"
    }
   ],
   "source": [
    "str_[:-5] # 처음부터 -5번째 앞까지"
   ]
  },
  {
   "cell_type": "code",
   "execution_count": 90,
   "id": "05c3e7a6-513f-4c16-a08d-66e6eb9fee03",
   "metadata": {},
   "outputs": [
    {
     "data": {
      "text/plain": [
       "'56789'"
      ]
     },
     "execution_count": 90,
     "metadata": {},
     "output_type": "execute_result"
    }
   ],
   "source": [
    "# str_[19] # 없는 인덱스는 에러남\n",
    "str_[5:19] # 슬라이싱에서는 인덱스를 벗어나면 끝까지"
   ]
  },
  {
   "cell_type": "code",
   "execution_count": 93,
   "id": "dc2c332a-870e-4985-b1ce-b19d6091e8e2",
   "metadata": {},
   "outputs": [
    {
     "name": "stdout",
     "output_type": "stream",
     "text": [
      "02468\n",
      "02468\n"
     ]
    }
   ],
   "source": [
    "# str_[from:to:step]\n",
    "print(str_[0:9:2]) # 0번째부터 9번째 앞까지 2씩 인덱스 증가\n",
    "print(str_[::2]) # 처음부터 끝까지 2씩 인덱스 증가"
   ]
  },
  {
   "cell_type": "code",
   "execution_count": 97,
   "id": "d3528f53-e4ed-4140-be09-f9b346e19851",
   "metadata": {},
   "outputs": [
    {
     "name": "stdout",
     "output_type": "stream",
     "text": [
      "9876543210\n",
      "9876543210\n"
     ]
    }
   ],
   "source": [
    "# 끝부터 처음까지 (거꾸로)\n",
    "print(str_[9::-1])\n",
    "print(str_[::-1])"
   ]
  },
  {
   "cell_type": "markdown",
   "id": "f57aab22-d8f5-4431-9caf-0f2f6dc11d56",
   "metadata": {},
   "source": [
    "## **3.3 논리형 (True, False)**\n",
    "※ 대소문자 유의"
   ]
  },
  {
   "cell_type": "code",
   "execution_count": 99,
   "id": "91dcbc7c-f0ce-47a3-96e1-ee76bd72ba9a",
   "metadata": {},
   "outputs": [
    {
     "name": "stdout",
     "output_type": "stream",
     "text": [
      "True\n",
      "<class 'bool'>\n",
      "True\n"
     ]
    }
   ],
   "source": [
    "a = True\n",
    "print(a)\n",
    "print(type(a))\n",
    "print(isinstance(a, bool)) # a가 bool형이냐?"
   ]
  },
  {
   "cell_type": "code",
   "execution_count": 100,
   "id": "d3c32e51-260c-411d-8969-e6c22a1986d1",
   "metadata": {},
   "outputs": [],
   "source": [
    "# False로 간주하는 것 : 0, None, \"\"(빈스트링) ''(빈스트링), [], (), {}\n",
    "# True로 간주하는 것 : 0이 아닌 모든 수, \" \"(스페이스),'\\0'(널문자)"
   ]
  },
  {
   "cell_type": "code",
   "execution_count": 101,
   "id": "ba3c9de1-e0cc-4885-a522-8076abbdb1e5",
   "metadata": {},
   "outputs": [
    {
     "name": "stdout",
     "output_type": "stream",
     "text": [
      "False\n"
     ]
    }
   ],
   "source": [
    "if 0+0j:\n",
    "    print(\"True\")\n",
    "else:\n",
    "    print(\"False\")"
   ]
  },
  {
   "cell_type": "code",
   "execution_count": 102,
   "id": "dde30edc-0688-4405-b9d7-3fce627152e9",
   "metadata": {},
   "outputs": [
    {
     "name": "stdout",
     "output_type": "stream",
     "text": [
      "True\n"
     ]
    }
   ],
   "source": [
    "if \" \":\n",
    "    print(\"True\")\n",
    "else:\n",
    "    print(\"False\")"
   ]
  },
  {
   "cell_type": "code",
   "execution_count": 103,
   "id": "0b111522-421b-410d-9bff-94bcf3770450",
   "metadata": {},
   "outputs": [
    {
     "name": "stdout",
     "output_type": "stream",
     "text": [
      "False\n"
     ]
    }
   ],
   "source": [
    "if []:\n",
    "    print(\"True\")\n",
    "else:\n",
    "    print(\"False\")"
   ]
  },
  {
   "cell_type": "markdown",
   "id": "e43a612a-e1f8-48c7-aa5a-50720a2f7dac",
   "metadata": {},
   "source": [
    "## **3.4 자료형 확인 및 변환**\n",
    "- type() : 자료형 확인\n",
    "- int() : 정수형 변환\n",
    "- float() : 실수형 변환\n",
    "- str() : 문자형 변환\n",
    "- bool() : 논리형 변환"
   ]
  },
  {
   "cell_type": "code",
   "execution_count": 104,
   "id": "660bf0b6-4db9-4d9b-b91d-6d3e9049d71c",
   "metadata": {},
   "outputs": [
    {
     "ename": "ValueError",
     "evalue": "invalid literal for int() with base 10: ' '",
     "output_type": "error",
     "traceback": [
      "\u001b[1;31m---------------------------------------------------------------------------\u001b[0m",
      "\u001b[1;31mValueError\u001b[0m                                Traceback (most recent call last)",
      "Cell \u001b[1;32mIn[104], line 1\u001b[0m\n\u001b[1;32m----> 1\u001b[0m \u001b[38;5;28mint\u001b[39m(\u001b[38;5;124m\"\u001b[39m\u001b[38;5;124m \u001b[39m\u001b[38;5;124m\"\u001b[39m)\n",
      "\u001b[1;31mValueError\u001b[0m: invalid literal for int() with base 10: ' '"
     ]
    }
   ],
   "source": [
    "int(\" \")"
   ]
  },
  {
   "cell_type": "code",
   "execution_count": 105,
   "id": "65124319-e1c3-4e2c-b67f-e3bfb27c3bfb",
   "metadata": {},
   "outputs": [
    {
     "ename": "ValueError",
     "evalue": "invalid literal for int() with base 10: '2,000'",
     "output_type": "error",
     "traceback": [
      "\u001b[1;31m---------------------------------------------------------------------------\u001b[0m",
      "\u001b[1;31mValueError\u001b[0m                                Traceback (most recent call last)",
      "Cell \u001b[1;32mIn[105], line 1\u001b[0m\n\u001b[1;32m----> 1\u001b[0m \u001b[38;5;28mint\u001b[39m(\u001b[38;5;124m\"\u001b[39m\u001b[38;5;124m2,000\u001b[39m\u001b[38;5;124m\"\u001b[39m)\n",
      "\u001b[1;31mValueError\u001b[0m: invalid literal for int() with base 10: '2,000'"
     ]
    }
   ],
   "source": [
    "int(\"2,000\")"
   ]
  },
  {
   "cell_type": "code",
   "execution_count": 106,
   "id": "27571420-d576-4da5-8f7b-870785131391",
   "metadata": {},
   "outputs": [
    {
     "data": {
      "text/plain": [
       "1.0"
      ]
     },
     "execution_count": 106,
     "metadata": {},
     "output_type": "execute_result"
    }
   ],
   "source": [
    "float(True)"
   ]
  },
  {
   "cell_type": "code",
   "execution_count": 107,
   "id": "02d41d53-e96b-4637-9614-70cd7d55f1cc",
   "metadata": {},
   "outputs": [
    {
     "data": {
      "text/plain": [
       "1"
      ]
     },
     "execution_count": 107,
     "metadata": {},
     "output_type": "execute_result"
    }
   ],
   "source": [
    "int(True)"
   ]
  },
  {
   "cell_type": "markdown",
   "id": "3234ec68-417c-442e-8b72-2d14e62b1c89",
   "metadata": {},
   "source": [
    "## **4절 포맷팅**"
   ]
  },
  {
   "cell_type": "code",
   "execution_count": 110,
   "id": "a09adf40-91d8-4716-b2e6-bd6a9be3a8cd",
   "metadata": {},
   "outputs": [
    {
     "name": "stdout",
     "output_type": "stream",
     "text": [
      "이름은 홍길동, 주소는 서울시 금천구\n"
     ]
    }
   ],
   "source": [
    "name = \"홍길동\"\n",
    "add = \"서울시 금천구\"\n",
    "print(\"이름은 {}, 주소는 {}\".format(name, add))"
   ]
  },
  {
   "cell_type": "code",
   "execution_count": 111,
   "id": "2ff98642-4200-40d1-8b03-19065329658e",
   "metadata": {},
   "outputs": [
    {
     "name": "stdout",
     "output_type": "stream",
     "text": [
      "이름은 서울시 금천구, 주소는 홍길동\n"
     ]
    }
   ],
   "source": [
    "name = \"홍길동\"\n",
    "add = \"서울시 금천구\"\n",
    "print(\"이름은 {1}, 주소는 {0}\".format(name, add))"
   ]
  },
  {
   "cell_type": "code",
   "execution_count": 113,
   "id": "8aca175f-8fd9-48b1-bbf4-217c23889a9c",
   "metadata": {},
   "outputs": [
    {
     "name": "stdout",
     "output_type": "stream",
     "text": [
      "이름은 홍길동       , 주소는 서울시 금천구\n"
     ]
    }
   ],
   "source": [
    "name = \"홍길동\"\n",
    "add = \"서울시 금천구\"\n",
    "print(\"이름은 {1:10}, 주소는 {0}\".format(add, name)) # {1:10} 10칸 확보"
   ]
  },
  {
   "cell_type": "code",
   "execution_count": 114,
   "id": "9ca6b17b-5cbb-4062-b75a-52dd645cf0b6",
   "metadata": {},
   "outputs": [
    {
     "name": "stdout",
     "output_type": "stream",
     "text": [
      "이름은 홍길동, 주소는 서울시 금천구\n"
     ]
    }
   ],
   "source": [
    "print(\"이름은 %s, 주소는 %s\"%(name, add))"
   ]
  },
  {
   "cell_type": "code",
   "execution_count": 116,
   "id": "958d2581-28b2-4f21-aa93-4032ee4eabf6",
   "metadata": {},
   "outputs": [
    {
     "name": "stdout",
     "output_type": "stream",
     "text": [
      "이름은 홍길동, 주소는 서울시 금천구\n"
     ]
    }
   ],
   "source": [
    "print(f\"이름은 {name}, 주소는 {add}\")"
   ]
  },
  {
   "cell_type": "markdown",
   "id": "0fb85f17-8273-4e2a-8d1b-8d36c032d632",
   "metadata": {},
   "source": [
    "**format() 함수**\n",
    "- \"{[인덱스]:[공백대체문자][정렬방법][자릿수][타입]}\".fortmat(변수명, ...)\n",
    "- 정렬방법 : <(왼쪽 정렬), >(오른쪽 정렬), ^(가운데 정렬)\n",
    "- 타입 : d(10진수), x(16진수), b(2진수), f(실수), s(문자)"
   ]
  },
  {
   "cell_type": "code",
   "execution_count": 119,
   "id": "994a2c56-e493-4932-98e3-5c16f01df97e",
   "metadata": {},
   "outputs": [
    {
     "name": "stdout",
     "output_type": "stream",
     "text": [
      "[$$$$$$$$10], [He******************]\n"
     ]
    }
   ],
   "source": [
    "a = 10\n",
    "s = \"Hello\"\n",
    "print(\"[{0:$>10d}], [{1:*<20.2}]\".format(a, s))"
   ]
  },
  {
   "cell_type": "markdown",
   "id": "e1d5f431-315c-4cfe-94a1-5a93f7af7294",
   "metadata": {},
   "source": [
    "# **5절 연산자**\n",
    "## **5.1 산술연산자 : + - / * //(몫) %(나머지) \\**(제곱)**\n",
    "## **5.2 할당연산자 : = += -= /= %= ..**\n",
    "## **5.3 논리연산자 : & and | or not (연산자 우선순위가 높음)**\n",
    "## **5.4 비트연산자 : & | ^(OR) (연산자 우선순위가 높음)**"
   ]
  },
  {
   "cell_type": "code",
   "execution_count": 122,
   "id": "de61c436-1201-463c-abd4-cd21f9e72f80",
   "metadata": {},
   "outputs": [
    {
     "name": "stdout",
     "output_type": "stream",
     "text": [
      "True\n"
     ]
    }
   ],
   "source": [
    "print( (10>3) & (10>5) ) # 논리연산자 True & True"
   ]
  },
  {
   "cell_type": "code",
   "execution_count": 123,
   "id": "651b90a9-29af-4ad6-9e20-311c994b26f9",
   "metadata": {},
   "outputs": [
    {
     "name": "stdout",
     "output_type": "stream",
     "text": [
      "0\n",
      "13\n"
     ]
    }
   ],
   "source": [
    "print(12 & 1) # 비트연산 12 : 1 1 0 0\n",
    "              #          1 : 0 0 0 1\n",
    "print(12 | 1)"
   ]
  },
  {
   "cell_type": "markdown",
   "id": "6af37aec-0867-496b-95f9-a21b414c7d87",
   "metadata": {},
   "source": [
    "## **5.5 비교연산자 : > >= < <= == !=**"
   ]
  },
  {
   "cell_type": "code",
   "execution_count": 125,
   "id": "ed5f5dfe-c31a-4898-9d7f-ebf9e745a1ca",
   "metadata": {},
   "outputs": [
    {
     "data": {
      "text/plain": [
       "True"
      ]
     },
     "execution_count": 125,
     "metadata": {},
     "output_type": "execute_result"
    }
   ],
   "source": [
    "'아' < '하'"
   ]
  },
  {
   "cell_type": "code",
   "execution_count": 130,
   "id": "d6a32622-848b-415f-9cd2-29e8cd2862d2",
   "metadata": {},
   "outputs": [
    {
     "data": {
      "text/plain": [
       "True"
      ]
     },
     "execution_count": 130,
     "metadata": {},
     "output_type": "execute_result"
    }
   ],
   "source": [
    "'*' < '1' < 'A' < 'a' # 코드 순 : 특수문자 < 숫자 < 대문자 < 소문자"
   ]
  },
  {
   "cell_type": "code",
   "execution_count": 131,
   "id": "975441a1-b76b-4c95-bbbf-cb29b9cc65ac",
   "metadata": {},
   "outputs": [
    {
     "data": {
      "text/plain": [
       "True"
      ]
     },
     "execution_count": 131,
     "metadata": {},
     "output_type": "execute_result"
    }
   ],
   "source": [
    "score = 85\n",
    "80 <= score and score <90\n",
    "80 <= score <90 <100"
   ]
  },
  {
   "cell_type": "markdown",
   "id": "bd6b18ec-6264-483a-856d-0f11af161dff",
   "metadata": {},
   "source": [
    "# **6절 문자열 다루기**\n",
    "- 문자열 슬라이싱 : 문자 변수[from:to:step]\n",
    "- len(문자열) : 문자 개수\n",
    "- upper() : 대문자로 변환\n",
    "- lower() : 소문자로 변환\n",
    "- title() : 각 단어의 앞글자만 대문자로 변환\n",
    "- capitalize() : 첫문자만 대문자로 변환. 그 외는 소문자\n",
    "- count('찾을문자열') : 찾을 문자열이 몇 개 들어있는지 개수 반환\n",
    "- find('찾을문자열') : 찾을 문자열을 왼쪽부터 시작하여 몇 번째 인덱스에 있는지 index 숫자를 반환<br>\n",
    "                      찾을 문자열이 없으면 -1을 반환\n",
    "- rfind('찾을문자열') : 찾을 문자열을 오른쪽쪽부터 시작하여 몇 번째 인덱스에 있는지 index 숫자를 반환\n",
    "- startswith('특정문자열') : 특정 문자열로 시작하는지 여부 T/F 반환\n",
    "- endswith('특정문자열') : 특정 문자열로 끝나는지 여부 T/F 반환\n",
    "- strip() : 좌우 공백 제거\n",
    "- lstrip() : 왼쪽 공백 제거\n",
    "- rstrip() : 오른쪽 공백 제거\n",
    "- isdigit() : 문자열이 숫자 문자열인지 여부 T/F 반환\n",
    "- islower() : 문자열이 소문자인지 여부 T/F 반환\n",
    "- isuppepr() : 문자열이 대문자인지 여부 T/F 반환\n",
    "- replace(oldStr, newStr) : oldStr을 newStr로 변경"
   ]
  },
  {
   "cell_type": "code",
   "execution_count": 134,
   "id": "5e3f4913-e1b2-4057-8ca4-270f14ca73db",
   "metadata": {},
   "outputs": [
    {
     "data": {
      "text/plain": [
       "['__add__',\n",
       " '__class__',\n",
       " '__contains__',\n",
       " '__delattr__',\n",
       " '__dir__',\n",
       " '__doc__',\n",
       " '__eq__',\n",
       " '__format__',\n",
       " '__ge__',\n",
       " '__getattribute__',\n",
       " '__getitem__',\n",
       " '__getnewargs__',\n",
       " '__getstate__',\n",
       " '__gt__',\n",
       " '__hash__',\n",
       " '__init__',\n",
       " '__init_subclass__',\n",
       " '__iter__',\n",
       " '__le__',\n",
       " '__len__',\n",
       " '__lt__',\n",
       " '__mod__',\n",
       " '__mul__',\n",
       " '__ne__',\n",
       " '__new__',\n",
       " '__reduce__',\n",
       " '__reduce_ex__',\n",
       " '__repr__',\n",
       " '__rmod__',\n",
       " '__rmul__',\n",
       " '__setattr__',\n",
       " '__sizeof__',\n",
       " '__str__',\n",
       " '__subclasshook__',\n",
       " 'capitalize',\n",
       " 'casefold',\n",
       " 'center',\n",
       " 'count',\n",
       " 'encode',\n",
       " 'endswith',\n",
       " 'expandtabs',\n",
       " 'find',\n",
       " 'format',\n",
       " 'format_map',\n",
       " 'index',\n",
       " 'isalnum',\n",
       " 'isalpha',\n",
       " 'isascii',\n",
       " 'isdecimal',\n",
       " 'isdigit',\n",
       " 'isidentifier',\n",
       " 'islower',\n",
       " 'isnumeric',\n",
       " 'isprintable',\n",
       " 'isspace',\n",
       " 'istitle',\n",
       " 'isupper',\n",
       " 'join',\n",
       " 'ljust',\n",
       " 'lower',\n",
       " 'lstrip',\n",
       " 'maketrans',\n",
       " 'partition',\n",
       " 'removeprefix',\n",
       " 'removesuffix',\n",
       " 'replace',\n",
       " 'rfind',\n",
       " 'rindex',\n",
       " 'rjust',\n",
       " 'rpartition',\n",
       " 'rsplit',\n",
       " 'rstrip',\n",
       " 'split',\n",
       " 'splitlines',\n",
       " 'startswith',\n",
       " 'strip',\n",
       " 'swapcase',\n",
       " 'title',\n",
       " 'translate',\n",
       " 'upper',\n",
       " 'zfill']"
      ]
     },
     "execution_count": 134,
     "metadata": {},
     "output_type": "execute_result"
    }
   ],
   "source": [
    "# 문자열을 다룰 수 있는 함수 목록\n",
    "dir(str)"
   ]
  },
  {
   "cell_type": "code",
   "execution_count": 133,
   "id": "ba25ec53-81b4-4338-b947-b6b9f2f29ab7",
   "metadata": {},
   "outputs": [
    {
     "data": {
      "text/plain": [
       "('PYTHON IS EASY. PYTHON IS SMART.', 32)"
      ]
     },
     "execution_count": 133,
     "metadata": {},
     "output_type": "execute_result"
    }
   ],
   "source": [
    "temp = 'Python is easy. Python is smart.'\n",
    "#       0123567890123456789012345678901\n",
    "temp.upper(), len(temp)"
   ]
  },
  {
   "cell_type": "code",
   "execution_count": 136,
   "id": "500fa024-eb37-4383-a11f-1d6c971b1416",
   "metadata": {},
   "outputs": [
    {
     "name": "stdout",
     "output_type": "stream",
     "text": [
      "첫번째 글자 : P, 마지막 글자 : .\n"
     ]
    }
   ],
   "source": [
    "print(\"첫번째 글자 : {}, 마지막 글자 : {}\".format(temp[0], temp[-1]))"
   ]
  },
  {
   "cell_type": "code",
   "execution_count": 141,
   "id": "d5cf1b94-4e43-4a02-8e36-29fd3be48f08",
   "metadata": {},
   "outputs": [
    {
     "name": "stdout",
     "output_type": "stream",
     "text": [
      "대문자로 : PYTHON IS EASY. PYTHON IS SMART.\n",
      "첫 글자만 대문자 : Python is easy. python is smart.\n",
      "title() : Python Is Easy. Python Is Smart.\n",
      "count() : 2\n",
      "find() : 0\n",
      "rfind() : 16\n",
      "replace('Python', ' ') :   is easy.   is smart.\n",
      "startswith() : True\n"
     ]
    }
   ],
   "source": [
    "temp = 'Python is easy. Python is smart.'\n",
    "#       0123567890123456789012345678901\n",
    "print(\"대문자로 :\", temp.upper())\n",
    "print(\"첫 글자만 대문자 :\",temp.capitalize())\n",
    "print(\"title() :\", temp.title())\n",
    "print(\"count() :\", temp.count(\"Python\"))\n",
    "print(\"find() :\", temp.find(\"Python\"))\n",
    "print(\"rfind() :\", temp.rfind(\"Python\"))\n",
    "print(\"replace('Python', ' ') :\", temp.replace(\"Python\", \" \"))\n",
    "print(\"startswith() :\", temp.startswith(\"Py\"))"
   ]
  },
  {
   "cell_type": "code",
   "execution_count": 145,
   "id": "1f9da8a6-f43c-44c2-adbd-ba75d1b4b0b6",
   "metadata": {},
   "outputs": [
    {
     "name": "stdout",
     "output_type": "stream",
     "text": [
      "원본 : [     Python     ]\n",
      "strip : [Python]\n",
      "lstrip : [Python     ]\n",
      "rstrip : [     Python]\n"
     ]
    }
   ],
   "source": [
    "temp = \"     Python     \"\n",
    "print(\"원본 : [{}]\".format(temp))\n",
    "print(\"strip : [{}]\".format(temp.strip()))\n",
    "print(\"lstrip : [{}]\".format(temp.lstrip()))\n",
    "print(\"rstrip : [{}]\".format(temp.rstrip()))"
   ]
  },
  {
   "cell_type": "code",
   "execution_count": 146,
   "id": "434565e5-bb59-4b1a-a41f-803847f1a8e7",
   "metadata": {},
   "outputs": [
    {
     "name": "stdout",
     "output_type": "stream",
     "text": [
      "space 단위로 분리하여 list로 반환 : ['Python', 'is', 'easy', 'Python', 'is', 'smart']\n"
     ]
    }
   ],
   "source": [
    "temp = \"Python is easy Python is smart\"\n",
    "print(\"space 단위로 분리하여 list로 반환 :\", temp.split())"
   ]
  },
  {
   "cell_type": "code",
   "execution_count": 147,
   "id": "e3e2838a-6206-46ad-a988-1c1ed42774b3",
   "metadata": {},
   "outputs": [
    {
     "data": {
      "text/plain": [
       "list"
      ]
     },
     "execution_count": 147,
     "metadata": {},
     "output_type": "execute_result"
    }
   ],
   "source": [
    "type(temp.split())"
   ]
  },
  {
   "cell_type": "code",
   "execution_count": 151,
   "id": "f1d2bd8e-2de9-4017-861d-36a450982e8b",
   "metadata": {},
   "outputs": [
    {
     "name": "stdout",
     "output_type": "stream",
     "text": [
      "년월일 분리 : ['2024', '05', '30']\n",
      "연결된 temp : 2024~05~30\n"
     ]
    }
   ],
   "source": [
    "temp = \"2024-05-30\"\n",
    "temp_list = temp.split('-')\n",
    "temp_join = '~'.join(temp_list)\n",
    "print(\"년월일 분리 :\", temp_list)\n",
    "print(\"연결된 temp :\", temp_join)"
   ]
  },
  {
   "cell_type": "markdown",
   "id": "f34e7fc5-19e8-4e8b-a659-da9de8cdc44a",
   "metadata": {},
   "source": [
    "# **7절 날짜 다루기**\n",
    "## **7.1 날짜**"
   ]
  },
  {
   "cell_type": "code",
   "execution_count": 156,
   "id": "987666d1-6f57-416c-a1dd-7125c3d5e7a9",
   "metadata": {},
   "outputs": [
    {
     "data": {
      "text/plain": [
       "datetime.date(2024, 5, 30)"
      ]
     },
     "execution_count": 156,
     "metadata": {},
     "output_type": "execute_result"
    }
   ],
   "source": [
    "from datetime import date\n",
    "someday = date(2024, 5, 30)\n",
    "someday"
   ]
  },
  {
   "cell_type": "code",
   "execution_count": 157,
   "id": "c53fbc15-c12c-4bc2-83f8-386ef0c31656",
   "metadata": {},
   "outputs": [
    {
     "name": "stdout",
     "output_type": "stream",
     "text": [
      "2024년05월30일 00시 00분\n"
     ]
    }
   ],
   "source": [
    "print(\"{:%Y년%m월%d일 %H시 %M분}\".format(someday))"
   ]
  },
  {
   "cell_type": "markdown",
   "id": "2e7f241e-ff05-4add-91b0-d56984bbb621",
   "metadata": {},
   "source": [
    "## **7.2 시간**"
   ]
  },
  {
   "cell_type": "code",
   "execution_count": 158,
   "id": "a3e75318-3909-4ecf-956e-325ba0b058b5",
   "metadata": {},
   "outputs": [
    {
     "name": "stdout",
     "output_type": "stream",
     "text": [
      "2024년05월30일 12시 48분\n"
     ]
    }
   ],
   "source": [
    "from datetime import datetime\n",
    "now = datetime.today()\n",
    "print(\"{:%Y년%m월%d일 %H시 %M분}\".format(now))"
   ]
  },
  {
   "cell_type": "markdown",
   "id": "1d6100d8-adc4-4c18-8d12-a7d6b6fb49ca",
   "metadata": {},
   "source": [
    "# **8절 연습문제**"
   ]
  },
  {
   "cell_type": "markdown",
   "id": "921e7b39-dab0-45d5-9fa0-3831cfd6e676",
   "metadata": {},
   "source": [
    "1. 사용자로부터 이름과 나이 변수를 입력받아 다음 형식으로 출력하도록 format() 함수를 이용해 형식화하세요.<br>[출력형식 : 홍길동님의 나이는 23살입니다]"
   ]
  },
  {
   "cell_type": "code",
   "execution_count": 161,
   "id": "eb4992f0-1f99-452f-9f10-35ee755894f6",
   "metadata": {},
   "outputs": [
    {
     "name": "stdin",
     "output_type": "stream",
     "text": [
      "이름을 입력하세요:  홍길동\n",
      "나이를 입력하세요:  23\n"
     ]
    },
    {
     "name": "stdout",
     "output_type": "stream",
     "text": [
      "홍길동님의 나이는 23살입니다\n"
     ]
    }
   ],
   "source": [
    "name = input(\"이름을 입력하세요: \")\n",
    "age = int(input(\"나이를 입력하세요: \"))\n",
    "print(\"{}\".format(name)+\"님의 나이는 {}\".format(age)+\"살입니다\")\n",
    "# print(\"두 수의 합은 {}\".format(first+second)) # 숫자 + 숫자"
   ]
  },
  {
   "cell_type": "markdown",
   "id": "6ec697fb-2a29-4fbf-813f-6d3654ab587d",
   "metadata": {},
   "source": [
    "2. 두 정수를 입력받아 두 수의 덧셈, 뺄셈, 곱셈, 나눗셈, 몫, 나머지를 출력하세요"
   ]
  },
  {
   "cell_type": "code",
   "execution_count": 184,
   "id": "e9c0d0a4-a92c-4d50-95c1-0b684d37499d",
   "metadata": {
    "scrolled": true
   },
   "outputs": [
    {
     "name": "stdin",
     "output_type": "stream",
     "text": [
      "첫번째 정수를 입력하세요: 10\n",
      "두번째 정수를 입력하세요: 5\n"
     ]
    },
    {
     "name": "stdout",
     "output_type": "stream",
     "text": [
      "두 수의 덧셈:15\n",
      "두 수의 뺄셈:5\n",
      "두 수의 곱셈:50\n",
      "두 수의 나눗셈:2.0\n",
      "두 수의 몫:2\n",
      "두 수의 나머지:0\n"
     ]
    }
   ],
   "source": [
    "int_a = int(input(\"첫번째 정수를 입력하세요:\"))\n",
    "int_b = int(input(\"두번째 정수를 입력하세요:\"))\n",
    "print(\"두 수의 덧셈:{}\".format(int_a + int_b))\n",
    "print(\"두 수의 뺄셈:{}\".format(int_a - int_b))\n",
    "print(\"두 수의 곱셈:{}\".format(int_a * int_b))\n",
    "try:\n",
    "    print(\"두 수의 나눗셈:{}\".format(int_a / int_b))\n",
    "    print(\"두 수의 몫:{}\".format(int_a // int_b))\n",
    "    print(\"두 수의 나머지:{}\".format(int_a % int_b))\n",
    "except:\n",
    "    print(\"두 번째 정수에 0을 넣으면 계산할 수 없습니다.\")"
   ]
  },
  {
   "cell_type": "markdown",
   "id": "c39f9e20-34cb-420c-8c36-124fef72a524",
   "metadata": {},
   "source": [
    "3. 문자열의 분리하기와 합치기 기능을 이용하여<br> 'Hello World'가 할당된 변수를 이용하여 'World Hello'로 출력하세요."
   ]
  },
  {
   "cell_type": "code",
   "execution_count": null,
   "id": "bc961b18-0da4-4936-a440-1302fdf968ef",
   "metadata": {},
   "outputs": [],
   "source": [
    "str = 'Hello World'\n"
   ]
  },
  {
   "cell_type": "markdown",
   "id": "afdbf13f-a32a-4817-80a6-4b33ea8c01b5",
   "metadata": {},
   "source": [
    "4. x = 'abcedf'를 이용하여 'bcdefa'로 출력하세요 (문자 슬라이싱 이용)"
   ]
  },
  {
   "cell_type": "code",
   "execution_count": 177,
   "id": "352b3df1-fff3-488e-88a1-a20751489359",
   "metadata": {},
   "outputs": [
    {
     "name": "stdout",
     "output_type": "stream",
     "text": [
      "bcedfa\n"
     ]
    }
   ],
   "source": [
    "x = 'abcedf'\n",
    "print(x[1:] + x[0])"
   ]
  },
  {
   "cell_type": "markdown",
   "id": "b893038a-fd1c-4937-8823-1d2d461fe558",
   "metadata": {},
   "source": [
    "5. x = 'abcdef'를 이용하여 'fdecba'로 출력하세요"
   ]
  },
  {
   "cell_type": "code",
   "execution_count": 185,
   "id": "e97c1945-4802-4d38-bfaf-520915d8d73c",
   "metadata": {},
   "outputs": [
    {
     "name": "stdout",
     "output_type": "stream",
     "text": [
      "fdecba\n"
     ]
    }
   ],
   "source": [
    "x = 'abcedf'\n",
    "print(x[::-1])"
   ]
  },
  {
   "cell_type": "markdown",
   "id": "34f20593-fd94-4af3-a813-aa1bbdbea082",
   "metadata": {},
   "source": [
    "6. 오늘의 온도를 섭씨온도로 입력받아 화씨 온도로 변환하는 프로그램을 작성하세요.<br>\n",
    "화씨 온도는 소수점이 있을 경우만 두번째 자리까지 출력되고,<br>\n",
    "소수점이하 값이 없는 경우 소수점을 출력하지 않도록 합니다.<br>\n",
    "(다음은 섭씨와 화씨의 변환 공식입니다. C는 섭씨, F는 화씨)<br>\n",
    "C = (F-32) / 1.8<br>\n",
    "F = (C*1.8) + 32"
   ]
  },
  {
   "cell_type": "code",
   "execution_count": null,
   "id": "e70c0f29-642e-4e2c-a520-aea6bc17c5fe",
   "metadata": {},
   "outputs": [],
   "source": [
    "temp = int(input(\"섭씨온도를 입력하세요:\"))\n"
   ]
  },
  {
   "cell_type": "markdown",
   "id": "0e12f0f0-0147-4721-a3c8-a0bf1e76f87e",
   "metadata": {},
   "source": [
    "7. 다음 중 변수 선언으로 잘못된 것은?\n",
    "    1) for\n",
    "    2) 10th\n",
    "    3) Student.name\n",
    "    4) _1234"
   ]
  },
  {
   "cell_type": "markdown",
   "id": "f4b106b8-ef9c-4ea1-ac0d-aef9cc8faf7c",
   "metadata": {},
   "source": [
    "    답: 1,2,3\n",
    "    1) 함수 이름 사용X\n",
    "    2) 숫자 시작X\n",
    "    3) . 포함되면 X"
   ]
  },
  {
   "cell_type": "markdown",
   "id": "8f3bdb49-619b-416d-941b-5bfb79787725",
   "metadata": {},
   "source": [
    "8. 다음의 코드를 실행하면?"
   ]
  },
  {
   "cell_type": "code",
   "execution_count": null,
   "id": "ddb125be-eb63-4734-b056-ab27d3138b76",
   "metadata": {},
   "outputs": [],
   "source": []
  },
  {
   "cell_type": "markdown",
   "id": "f20a8e75-3bc4-4cdf-9f85-6ad16db8429a",
   "metadata": {},
   "source": [
    "9. 다음 중 파이썬 3.x 버전에서 연산식과 그 결과의 출력이 잘못된 것은?\n",
    "    1) 수식 8//2 결과 4\n",
    "    2) 수식 8.2  결과 4\n",
    "    3) 수식 8**2 결과 64"
   ]
  },
  {
   "cell_type": "code",
   "execution_count": null,
   "id": "7650bd8b-c97c-4314-b90c-ac66880d22a1",
   "metadata": {},
   "outputs": [],
   "source": []
  }
 ],
 "metadata": {
  "kernelspec": {
   "display_name": "Python 3 (ipykernel)",
   "language": "python",
   "name": "python3"
  },
  "language_info": {
   "codemirror_mode": {
    "name": "ipython",
    "version": 3
   },
   "file_extension": ".py",
   "mimetype": "text/x-python",
   "name": "python",
   "nbconvert_exporter": "python",
   "pygments_lexer": "ipython3",
   "version": "3.11.7"
  }
 },
 "nbformat": 4,
 "nbformat_minor": 5
}
