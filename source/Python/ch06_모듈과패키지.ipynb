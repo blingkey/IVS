{
 "cells": [
  {
   "cell_type": "markdown",
   "id": "b5b25aac-73dd-49d5-b883-cf7635f0654b",
   "metadata": {},
   "source": [
    "<font size='6' color='blue'><b>ch06. 모듈과 패키지</b></font>"
   ]
  },
  {
   "cell_type": "markdown",
   "id": "f6318ff5-8283-4797-a84a-ebd62342170a",
   "metadata": {},
   "source": [
    "# **1절 모듈 사용하기**\n",
    "- 모듈은 함수, 변수, 클래스가 담긴 파일(*.py)\n",
    "- 파이썬 표준 모듈 200여개\n",
    "- 표준 모듈 외의 모듈 사용하려면 라이브러리를 설치 :<br>\n",
    "<b>pip install 라이브러리명</b><br>\n",
    "<b>conda install 라이브러리명</b>"
   ]
  },
  {
   "cell_type": "code",
   "execution_count": 5,
   "id": "82257fd9-fe04-45fd-b9f1-268df0cd6d72",
   "metadata": {},
   "outputs": [
    {
     "ename": "ModuleNotFoundError",
     "evalue": "No module named 'panda'",
     "output_type": "error",
     "traceback": [
      "\u001b[1;31m---------------------------------------------------------------------------\u001b[0m",
      "\u001b[1;31mModuleNotFoundError\u001b[0m                       Traceback (most recent call last)",
      "Cell \u001b[1;32mIn[5], line 1\u001b[0m\n\u001b[1;32m----> 1\u001b[0m \u001b[38;5;28;01mimport\u001b[39;00m \u001b[38;5;21;01mpanda\u001b[39;00m \u001b[38;5;28;01mas\u001b[39;00m \u001b[38;5;21;01mpd\u001b[39;00m\n\u001b[0;32m      2\u001b[0m sys\u001b[38;5;241m.\u001b[39mpd\n",
      "\u001b[1;31mModuleNotFoundError\u001b[0m: No module named 'panda'"
     ]
    }
   ],
   "source": [
    "import panda as pd\n",
    "sys.pd"
   ]
  },
  {
   "cell_type": "markdown",
   "id": "367e03a2-f7b8-49d3-8fbb-6d8b7eb1199f",
   "metadata": {},
   "source": [
    "## **2절 사용자 정의 모듈**\n",
    "- 모듈을 가져오는 순서 (1)표준모듈 (2)sys.path변수에 저장된 경로"
   ]
  },
  {
   "cell_type": "code",
   "execution_count": 4,
   "id": "e8b58d83-cde1-4596-9650-061887e3f9b5",
   "metadata": {},
   "outputs": [
    {
     "data": {
      "text/plain": [
       "['C:\\\\Users\\\\USER',\n",
       " 'C:\\\\Users\\\\USER\\\\anaconda3\\\\python311.zip',\n",
       " 'C:\\\\Users\\\\USER\\\\anaconda3\\\\DLLs',\n",
       " 'C:\\\\Users\\\\USER\\\\anaconda3\\\\Lib',\n",
       " 'C:\\\\Users\\\\USER\\\\anaconda3',\n",
       " '',\n",
       " 'C:\\\\Users\\\\USER\\\\anaconda3\\\\Lib\\\\site-packages',\n",
       " 'C:\\\\Users\\\\USER\\\\anaconda3\\\\Lib\\\\site-packages\\\\win32',\n",
       " 'C:\\\\Users\\\\USER\\\\anaconda3\\\\Lib\\\\site-packages\\\\win32\\\\lib',\n",
       " 'C:\\\\Users\\\\USER\\\\anaconda3\\\\Lib\\\\site-packages\\\\Pythonwin']"
      ]
     },
     "execution_count": 4,
     "metadata": {},
     "output_type": "execute_result"
    }
   ],
   "source": [
    "import sys\n",
    "sys.path"
   ]
  },
  {
   "cell_type": "code",
   "execution_count": 7,
   "id": "55b8ea89-24ba-4dfd-875e-cc018fe26c45",
   "metadata": {},
   "outputs": [
    {
     "data": {
      "text/plain": [
       "['C:\\\\Users\\\\USER',\n",
       " 'C:\\\\Users\\\\USER\\\\anaconda3\\\\python311.zip',\n",
       " 'C:\\\\Users\\\\USER\\\\anaconda3\\\\DLLs',\n",
       " 'C:\\\\Users\\\\USER\\\\anaconda3\\\\Lib',\n",
       " 'C:\\\\Users\\\\USER\\\\anaconda3',\n",
       " '',\n",
       " 'C:\\\\Users\\\\USER\\\\anaconda3\\\\Lib\\\\site-packages',\n",
       " 'C:\\\\Users\\\\USER\\\\anaconda3\\\\Lib\\\\site-packages\\\\win32',\n",
       " 'C:\\\\Users\\\\USER\\\\anaconda3\\\\Lib\\\\site-packages\\\\win32\\\\lib',\n",
       " 'C:\\\\Users\\\\USER\\\\anaconda3\\\\Lib\\\\site-packages\\\\Pythonwin',\n",
       " 'C:\\\\Programming_C_Python\\\\source\\\\pylib',\n",
       " 'C:\\\\Programming_C_Python\\\\source\\\\pylib']"
      ]
     },
     "execution_count": 7,
     "metadata": {},
     "output_type": "execute_result"
    }
   ],
   "source": [
    "sys.path.append('C:\\Programming_C_Python\\source\\pylib')\n",
    "sys.path"
   ]
  },
  {
   "cell_type": "markdown",
   "id": "0b392101-ad17-441f-b9bd-9cb3411214fe",
   "metadata": {},
   "source": [
    "```\n",
    "1. import A      : A모듈을 가져옴\n",
    "2. import A as B : A모듈을 B이름으로 가져옴\n",
    "3. from A imput B: A모듈 안의 B함수를 가져옴\n",
    "4. from A imputㅒOOO아직다 못썬=ㅡㄴㄴ데ㅓㅔ\n",
    "5. from A,b import V as C\n",
    "6. from A,B o\n",
    "```"
   ]
  },
  {
   "cell_type": "code",
   "execution_count": 9,
   "id": "6f3c7f94-c1b8-4b6a-a820-39c16648e5e0",
   "metadata": {},
   "outputs": [],
   "source": [
    "#1. import A : A모듈을 가져옴"
   ]
  },
  {
   "cell_type": "code",
   "execution_count": 11,
   "id": "98f1cd5c-c966-4d9a-b931-e0f29b7c3071",
   "metadata": {},
   "outputs": [
    {
     "name": "stdout",
     "output_type": "stream",
     "text": [
      "0. 1. 1. 2. 3. 5. 8. 13. 21. 34. 55. 89. \n"
     ]
    }
   ],
   "source": [
    "fibonacci.fibonacci(100)"
   ]
  },
  {
   "cell_type": "code",
   "execution_count": 12,
   "id": "7275b4a6-9cce-4a8c-ae87-4193a01fdb32",
   "metadata": {},
   "outputs": [],
   "source": [
    "del fibonacci"
   ]
  },
  {
   "cell_type": "code",
   "execution_count": 13,
   "id": "0813f776-627a-4ce1-921e-18d2e3045b4c",
   "metadata": {},
   "outputs": [],
   "source": [
    "#2.imort A as B : A모듈을 B이름으로 가져옴\n",
    "import fibonacci as fibo"
   ]
  },
  {
   "cell_type": "code",
   "execution_count": 14,
   "id": "a9e1d0e1-ca7b-48c2-9a65-24d101378186",
   "metadata": {},
   "outputs": [
    {
     "name": "stdout",
     "output_type": "stream",
     "text": [
      "0. 1. 1. 2. 3. 5. 8. 13. 21. 34. \n"
     ]
    }
   ],
   "source": [
    "fibo.fibonacci(50)"
   ]
  },
  {
   "cell_type": "code",
   "execution_count": null,
   "id": "31c3b868-1712-4eb3-b2fa-ecd417c704db",
   "metadata": {},
   "outputs": [],
   "source": [
    "# 3. from A imort b as C : A모듈만의 B함수를 C이름을 가져옴f\n",
    "r"
   ]
  }
 ],
 "metadata": {
  "kernelspec": {
   "display_name": "Python 3 (ipykernel)",
   "language": "python",
   "name": "python3"
  },
  "language_info": {
   "codemirror_mode": {
    "name": "ipython",
    "version": 3
   },
   "file_extension": ".py",
   "mimetype": "text/x-python",
   "name": "python",
   "nbconvert_exporter": "python",
   "pygments_lexer": "ipython3",
   "version": "3.11.7"
  }
 },
 "nbformat": 4,
 "nbformat_minor": 5
}
