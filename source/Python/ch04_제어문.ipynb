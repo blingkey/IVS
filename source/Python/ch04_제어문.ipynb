{
 "cells": [
  {
   "cell_type": "markdown",
   "id": "83b71606-197f-482a-9c45-9734fde2e08a",
   "metadata": {},
   "source": [
    "<font size='6' color='blue'><b>ch04. 제어문</b></font>"
   ]
  },
  {
   "cell_type": "markdown",
   "id": "20221845-ecfb-4a5e-8a96-60a023ae1108",
   "metadata": {},
   "source": [
    "- if문, for-in문, while문"
   ]
  },
  {
   "cell_type": "markdown",
   "id": "87954ec1-24b7-40f0-bcbd-0509be448c98",
   "metadata": {},
   "source": [
    "# **1절 if문**"
   ]
  },
  {
   "cell_type": "code",
   "execution_count": 11,
   "id": "102de671-4e32-4e43-961c-dff19c71cbd9",
   "metadata": {},
   "outputs": [
    {
     "name": "stdin",
     "output_type": "stream",
     "text": [
      "Enter your name >> 허광한\n",
      "Enter your score >> 100\n"
     ]
    },
    {
     "name": "stdout",
     "output_type": "stream",
     "text": [
      "허광한님이 입력하신 점수는 100점이고, 등급은 A등급입니다.\n"
     ]
    }
   ],
   "source": [
    "# 점수를 입력받아 학점 출력\n",
    "name = input('Enter your name >>')\n",
    "score = int(input('Enter your score >>'))\n",
    "# 이 함수에는 format 사용 X (format은 print안에서만 사용 가능\n",
    "# score = int(input('Enter your score >> {}'.format('홍길동'))) -> X\n",
    "\n",
    "# 가능한 다른 경우\n",
    "# name = '홍길동'\n",
    "# score = int(input(name + '! Enter your score >>'))\n",
    "\n",
    "if 90 <= score <= 100:\n",
    "    grade = 'A' # 변수 할당\n",
    "elif 80 <= score < 90:\n",
    "    grade = 'B'\n",
    "elif 70 <= score < 80:\n",
    "    grade = 'C'\n",
    "elif 60 <= score < 70:\n",
    "    grade = 'D'\n",
    "elif 0 <= score < 60:\n",
    "    grade = 'F'\n",
    "else:\n",
    "    grade = '유효하지 않은 점수'\n",
    "print('{}님이 입력하신 점수는 {}점이고, 등급은 {}등급입니다.'.format(name, score, grade))"
   ]
  },
  {
   "cell_type": "markdown",
   "id": "3de5e230-2a1f-42b7-9a99-9347d2c3e02c",
   "metadata": {},
   "source": [
    "# **2절 for-in문**\n",
    "```\n",
    "for 변수 in 나열 가능한 자료형:\n",
    "    반복할 문장1\n",
    "    반복할 문장2\n",
    "else:\n",
    "    변수에 값이 할당되지 않은 경우 1번 실행할 문장 (else구문은 선택사항)\n",
    "    for문 안에 break가 있을 경우 else문 수행되지 않음\n",
    "```"
   ]
  },
  {
   "cell_type": "code",
   "execution_count": 12,
   "id": "ff53ca5d-f033-4509-a1a5-6b6b57770f7a",
   "metadata": {},
   "outputs": [
    {
     "data": {
      "text/plain": [
       "[1, 3, 5, 7, 9]"
      ]
     },
     "execution_count": 12,
     "metadata": {},
     "output_type": "execute_result"
    }
   ],
   "source": [
    "list(range(1, 10, 2)) # range도 나열가능한 자료"
   ]
  },
  {
   "cell_type": "code",
   "execution_count": 36,
   "id": "d5edc7b6-4995-446d-8183-34b251650cec",
   "metadata": {},
   "outputs": [
    {
     "name": "stdout",
     "output_type": "stream",
     "text": [
      "1\t3\t5\t7\t9\t\n",
      "Done\n",
      "END\n"
     ]
    }
   ],
   "source": [
    "# for문 안에 break없어서 else 있/없 결과 똑같음\n",
    "for i in range(1, 10, 2): # i = 1,3,5,7,9\n",
    "    print(i, end=\"\\t\")\n",
    "else:\n",
    "    print(\"\\nDone\")\n",
    "print(\"END\")"
   ]
  },
  {
   "cell_type": "code",
   "execution_count": 15,
   "id": "9e23c4ff-682e-4edd-ac1c-11d0e722799a",
   "metadata": {},
   "outputs": [
    {
     "name": "stdout",
     "output_type": "stream",
     "text": [
      "1 \t\n",
      "3 \t\n",
      "5 \t\n",
      "7 \t\n",
      "9 \t\n",
      "\n",
      "Done\n",
      "END\n"
     ]
    }
   ],
   "source": [
    "# end = \"\\t\"\n",
    "for i in range(1, 10, 2): # i = 1,3,5,7,9\n",
    "    print(i, \"\\t\") \n",
    "    # end=\"\\t\"이라고 하지 않으면 \"\\t\" = \"입니다\"\n",
    "    # end 쓰지 않으면 defalut는 \"\\n\"\n",
    "else:\n",
    "    print(\"\\nDone\")\n",
    "print(\"END\")"
   ]
  },
  {
   "cell_type": "code",
   "execution_count": 27,
   "id": "b4e056cd-2ebb-4249-8af3-66196aa1ffe7",
   "metadata": {},
   "outputs": [
    {
     "name": "stdout",
     "output_type": "stream",
     "text": [
      "1~100까지 짝수의 합 : 2550\n",
      "1부터 100까지 짝수의 합은 2550입니다.\n"
     ]
    }
   ],
   "source": [
    "# 1~100까지 짝수의 합을 계산하고 출력하시오\n",
    "sum = 0 # 누적변수 # 누적곱 계산 시, sum=1으로 초기화\n",
    "for i in range(2, 101, 2):\n",
    "    sum += i\n",
    "print(\"1~100까지 짝수의 합 : {}\".format(sum))\n",
    "\n",
    "#case2\n",
    "sum = 0\n",
    "for i in range(1, 101):\n",
    "    if i%2 == 0:\n",
    "        sum += i\n",
    "print(\"1부터 100까지 짝수의 합은 {}입니다.\".format(sum))"
   ]
  },
  {
   "cell_type": "markdown",
   "id": "f922fb03-1d2f-4f44-9a1e-fbeb2045b30a",
   "metadata": {},
   "source": [
    "# **3절 while문**\n",
    "```\n",
    "while 조건:\n",
    "    반복문장1\n",
    "    반복문장2\n",
    "else:\n",
    "    조건이 거짓일 경우 1번 수행할 문장 (else는 선택사항)\n",
    "    while문 내 break를 통해서 빠져 나올때는 else문은 수행하지 않음\n",
    "```"
   ]
  },
  {
   "cell_type": "code",
   "execution_count": 29,
   "id": "da6d23c7-1431-471a-b8c9-3edaae16c5e0",
   "metadata": {},
   "outputs": [
    {
     "name": "stdin",
     "output_type": "stream",
     "text": [
      "첫번째(작은 수) 정수를 입력하세요 >> -100\n",
      "두번째(큰 수) 정수를 입력하세요 >> -10\n"
     ]
    },
    {
     "name": "stdout",
     "output_type": "stream",
     "text": [
      "-100부터 -10까지 홀수들의 누적합은 -2475\n"
     ]
    }
   ],
   "source": [
    "# 사용자에게 두 수를 입력받아 첫번째(작은 수)부터 두번째(큰 수) 입력한 수까지 홀수의 합 누적해서 출력\n",
    "n1 = int(input(\"첫번째(작은 수) 정수를 입력하세요 >>\")) # 1\n",
    "n2 = int(input(\"두번째(큰 수) 정수를 입력하세요 >>\"))  # 10\n",
    "sum = 0 # 누적 변수\n",
    "i = n1\n",
    "while i <= n2:\n",
    "#    if i%2 == 1 | i%2 == -1: # 음수 입력했을 경우를 대비해 == 1\n",
    "    if i%2 != 0:\n",
    "        sum += i\n",
    "    i += 1\n",
    "print(\"{}부터 {}까지 홀수들의 누적합은 {}\".format(n1, n2, sum))"
   ]
  },
  {
   "cell_type": "markdown",
   "id": "87cb2003-08f0-45ee-abcb-5ff2d9f28d05",
   "metadata": {},
   "source": [
    "# **4절 break, continue**"
   ]
  },
  {
   "cell_type": "code",
   "execution_count": 33,
   "id": "1f28f47d-9af0-4c34-97bb-78a1eda20a78",
   "metadata": {},
   "outputs": [
    {
     "name": "stdout",
     "output_type": "stream",
     "text": [
      "num=1\tnum=2\tnum=4\tnum=5\tnum=6\tnum=7\tnum=8\tnum=9\tnum=10\tnum=11\t"
     ]
    }
   ],
   "source": [
    "num = 0\n",
    "while num <= 10:\n",
    "    num += 1\n",
    "    if num == 3:\n",
    "        # break\n",
    "        continue\n",
    "    print(\"num={}\".format(num), end=\"\\t\")"
   ]
  },
  {
   "cell_type": "markdown",
   "id": "9ac915dd-1d2d-4912-86f0-2143e606b7b7",
   "metadata": {},
   "source": [
    "# **5절 이중 loop**"
   ]
  },
  {
   "cell_type": "code",
   "execution_count": 38,
   "id": "6e91a9e4-4272-4c2d-a8de-da2402a562a2",
   "metadata": {},
   "outputs": [
    {
     "name": "stdout",
     "output_type": "stream",
     "text": [
      "2X1= 2\t3X1= 3\t4X1= 4\t5X1= 5\t6X1= 6\t7X1= 7\t8X1= 8\t9X1= 9\t\n",
      "2X2= 4\t3X2= 6\t4X2= 8\t5X2=10\t6X2=12\t7X2=14\t8X2=16\t9X2=18\t\n",
      "2X3= 6\t3X3= 9\t4X3=12\t5X3=15\t6X3=18\t7X3=21\t8X3=24\t9X3=27\t\n",
      "2X4= 8\t3X4=12\t4X4=16\t5X4=20\t6X4=24\t7X4=28\t8X4=32\t9X4=36\t\n",
      "2X5=10\t3X5=15\t4X5=20\t5X5=25\t6X5=30\t7X5=35\t8X5=40\t9X5=45\t\n",
      "2X6=12\t3X6=18\t4X6=24\t5X6=30\t6X6=36\t7X6=42\t8X6=48\t9X6=54\t\n",
      "2X7=14\t3X7=21\t4X7=28\t5X7=35\t6X7=42\t7X7=49\t8X7=56\t9X7=63\t\n",
      "2X8=16\t3X8=24\t4X8=32\t5X8=40\t6X8=48\t7X8=56\t8X8=64\t9X8=72\t\n",
      "2X9=18\t3X9=27\t4X9=36\t5X9=45\t6X9=54\t7X9=63\t8X9=72\t9X9=81\t\n"
     ]
    }
   ],
   "source": [
    "for i in range(1, 10):\n",
    "    for j in range(2, 10):\n",
    "        print(\"{}X{}={:>2}\\t\".format(j, i, i*j), end='') # 결과값을 2자리 주어 오른쪽 정렬하겠다 {:2}\n",
    "        #키워드 인수(end=''를 꼭 써주어야 하는 인수)는 반드시 매개변수를 써야함\n",
    "    print() # 개행 용도"
   ]
  },
  {
   "cell_type": "markdown",
   "id": "93f04b0f-d435-441f-ae06-28baca8192a5",
   "metadata": {},
   "source": [
    "# **연습문제**"
   ]
  },
  {
   "cell_type": "code",
   "execution_count": 46,
   "id": "46fbf173-70d9-4d8e-bc8c-302e8df4bc2b",
   "metadata": {},
   "outputs": [
    {
     "data": {
      "text/plain": [
       "7"
      ]
     },
     "execution_count": 46,
     "metadata": {},
     "output_type": "execute_result"
    }
   ],
   "source": [
    "# 난수 발생\n",
    "import random\n",
    "#random.seed(7) # 난수를 똑같이 발생시키려면(모두 같이 결과 나옴) seed값 고정\n",
    "random.randint(1, 100)"
   ]
  },
  {
   "cell_type": "code",
   "execution_count": 51,
   "id": "13c22915-146b-4db6-9865-cc99af75b008",
   "metadata": {},
   "outputs": [
    {
     "name": "stdout",
     "output_type": "stream",
     "text": [
      "난수:47\n"
     ]
    },
    {
     "name": "stdin",
     "output_type": "stream",
     "text": [
      "1~100 중에서 하나의 정수를 입력 >> 50\n"
     ]
    },
    {
     "ename": "TypeError",
     "evalue": "unsupported operand type(s) for +: 'int' and 'str'",
     "output_type": "error",
     "traceback": [
      "\u001b[1;31m---------------------------------------------------------------------------\u001b[0m",
      "\u001b[1;31mTypeError\u001b[0m                                 Traceback (most recent call last)",
      "Cell \u001b[1;32mIn[51], line 9\u001b[0m\n\u001b[0;32m      7\u001b[0m num \u001b[38;5;241m=\u001b[39m \u001b[38;5;28mint\u001b[39m(\u001b[38;5;28minput\u001b[39m(\u001b[38;5;124m\"\u001b[39m\u001b[38;5;124m1~100 중에서 하나의 정수를 입력 >>\u001b[39m\u001b[38;5;124m\"\u001b[39m))\n\u001b[0;32m      8\u001b[0m \u001b[38;5;28;01mwhile\u001b[39;00m(\u001b[38;5;241m1\u001b[39m):\n\u001b[1;32m----> 9\u001b[0m     num \u001b[38;5;241m=\u001b[39m \u001b[38;5;28mint\u001b[39m(\u001b[38;5;28minput\u001b[39m(\u001b[38;5;28mmin\u001b[39m \u001b[38;5;241m+\u001b[39m \u001b[38;5;124m\"\u001b[39m\u001b[38;5;124m~\u001b[39m\u001b[38;5;124m\"\u001b[39m \u001b[38;5;241m+\u001b[39m \u001b[38;5;28mmax\u001b[39m \u001b[38;5;241m+\u001b[39m \u001b[38;5;124m\"\u001b[39m\u001b[38;5;124m중에서 하나의 정수를 입력 >>\u001b[39m\u001b[38;5;124m\"\u001b[39m))\n\u001b[0;32m     10\u001b[0m     \u001b[38;5;28;01mif\u001b[39;00m num \u001b[38;5;241m==\u001b[39m rand_num:\n\u001b[0;32m     11\u001b[0m         \u001b[38;5;28mprint\u001b[39m(\u001b[38;5;124m\"\u001b[39m\u001b[38;5;124m축하합니다. 정답입니다.\u001b[39m\u001b[38;5;124m\"\u001b[39m)\n",
      "\u001b[1;31mTypeError\u001b[0m: unsupported operand type(s) for +: 'int' and 'str'"
     ]
    }
   ],
   "source": [
    "# 1. 방법1 1~100까지 컴퓨터가 발생할 난수 알아맞추기\n",
    "#(최소값과 최대값을 줄여가며 범위 출력)\n",
    "min = 0\n",
    "max = 0\n",
    "rand_num = random.randint(1, 100)\n",
    "print(\"난수:{}\".format(rand_num))\n",
    "num = int(input(\"1~100 중에서 하나의 정수를 입력 >>\"))\n",
    "while(1):\n",
    "    num = int(input(min + \"~\" + max + \"중에서 하나의 정수를 입력 >>\"))\n",
    "    if num == rand_num:\n",
    "        print(\"축하합니다. 정답입니다.\")\n",
    "        break\n",
    "    elif num < rand_num:\n",
    "        print(\"UP\")\n",
    "        min = num\n",
    "    elif num > rand_num:\n",
    "        print(\"DOWN\")\n",
    "        max = num\n",
    "        \n",
    "    else:\n",
    "        print(\"범위 내의 정수를 입력해주세요.\")\n",
    "        "
   ]
  },
  {
   "cell_type": "code",
   "execution_count": 61,
   "id": "f1eaacc8-f5ba-4fe9-9762-965f8824debe",
   "metadata": {},
   "outputs": [
    {
     "name": "stdout",
     "output_type": "stream",
     "text": [
      "컴퓨터가 발생한 임의의 수 : 16\n"
     ]
    },
    {
     "name": "stdin",
     "output_type": "stream",
     "text": [
      "1~100사이의 수를 맞춰 보세요 : 50\n"
     ]
    },
    {
     "name": "stdout",
     "output_type": "stream",
     "text": [
      "DOWN\n"
     ]
    },
    {
     "name": "stdin",
     "output_type": "stream",
     "text": [
      "1~49사이의 수를 맞춰 보세요 : 20\n"
     ]
    },
    {
     "name": "stdout",
     "output_type": "stream",
     "text": [
      "DOWN\n"
     ]
    },
    {
     "name": "stdin",
     "output_type": "stream",
     "text": [
      "1~19사이의 수를 맞춰 보세요 : 10\n"
     ]
    },
    {
     "name": "stdout",
     "output_type": "stream",
     "text": [
      "UP\n"
     ]
    },
    {
     "name": "stdin",
     "output_type": "stream",
     "text": [
      "11~19사이의 수를 맞춰 보세요 : 15\n"
     ]
    },
    {
     "name": "stdout",
     "output_type": "stream",
     "text": [
      "UP\n"
     ]
    },
    {
     "name": "stdin",
     "output_type": "stream",
     "text": [
      "16~19사이의 수를 맞춰 보세요 : 17\n"
     ]
    },
    {
     "name": "stdout",
     "output_type": "stream",
     "text": [
      "DOWN\n"
     ]
    },
    {
     "name": "stdin",
     "output_type": "stream",
     "text": [
      "16~16사이의 수를 맞춰 보세요 : 16\n"
     ]
    },
    {
     "name": "stdout",
     "output_type": "stream",
     "text": [
      "축하합니다. 정답입니다.\n"
     ]
    }
   ],
   "source": [
    "# 답안 참고\n",
    "import random\n",
    "computerNum = random.randint(1, 100) # 컴퓨터가 발생한 임의의 수\n",
    "answer = 0 # 사용자 선택수\n",
    "min = 1\n",
    "max = 100\n",
    "print(\"컴퓨터가 발생한 임의의 수 : {}\".format(computerNum))\n",
    "while computerNum != answer:\n",
    "    answer = int(input(str(min) + '~' + str(max) + '사이의 수를 맞춰 보세요 :'))\n",
    "    if (answer < min) | (answer > max):\n",
    "        print('수의 범위를 벗어났습니다.')\n",
    "    elif computerNum > answer:\n",
    "        print(\"UP\")\n",
    "        min = answer + 1\n",
    "    elif computerNum < answer: \n",
    "        print(\"DOWN\")\n",
    "        max = answer - 1\n",
    "    else:\n",
    "        print('축하합니다. 정답입니다.')"
   ]
  },
  {
   "cell_type": "code",
   "execution_count": null,
   "id": "7fe5a8a6-9d2b-4bd3-a20a-1ef12c70376d",
   "metadata": {},
   "outputs": [],
   "source": [
    "# 1. 방법1 1~100까지 컴퓨터가 발생한 난수를 5번 이내로 알아맞추기 \n",
    "#    (최소값과 최대값을 줄여가며 범위 출력)\n",
    "#     5번 기회 이내에 알아맞추지 않을 시 \"실패했습니다\" 출력"
   ]
  },
  {
   "cell_type": "code",
   "execution_count": 55,
   "id": "78705194-73db-44fb-8aca-ae0f0b64c947",
   "metadata": {},
   "outputs": [
    {
     "name": "stdout",
     "output_type": "stream",
     "text": [
      "난수:75\n"
     ]
    },
    {
     "name": "stdin",
     "output_type": "stream",
     "text": [
      "1~100 중에서 하나의 정수를 입력 >> 60\n"
     ]
    },
    {
     "name": "stdout",
     "output_type": "stream",
     "text": [
      "UP\n"
     ]
    },
    {
     "name": "stdin",
     "output_type": "stream",
     "text": [
      "1~100 중에서 하나의 정수를 입력 >> 70\n"
     ]
    },
    {
     "name": "stdout",
     "output_type": "stream",
     "text": [
      "UP\n"
     ]
    },
    {
     "name": "stdin",
     "output_type": "stream",
     "text": [
      "1~100 중에서 하나의 정수를 입력 >> 80\n"
     ]
    },
    {
     "name": "stdout",
     "output_type": "stream",
     "text": [
      "DOWN\n"
     ]
    },
    {
     "name": "stdin",
     "output_type": "stream",
     "text": [
      "1~100 중에서 하나의 정수를 입력 >> 75\n"
     ]
    },
    {
     "name": "stdout",
     "output_type": "stream",
     "text": [
      "축하합니다. 정답입니다.\n"
     ]
    }
   ],
   "source": [
    "# 1. 방법1 1~100까지 컴퓨터가 발생할 난수 알아맞추기\n",
    "#(최소값과 최대값을 줄여가며 범위 출력)\n",
    "rand_num = random.randint(1, 100)\n",
    "print(\"난수:{}\".format(rand_num))\n",
    "for chance in range (5):\n",
    "    num = int(input(\"1~100 중에서 하나의 정수를 입력 >>\"))\n",
    "    if num == rand_num:\n",
    "        print(\"축하합니다. 정답입니다.\")\n",
    "        break\n",
    "    elif num < rand_num:\n",
    "        print(\"UP\")\n",
    "        min = num\n",
    "    elif num > rand_num:\n",
    "        print(\"DOWN\")\n",
    "        max = num\n",
    "        \n",
    "    else:\n",
    "        print(\"범위 내의 정수를 입력해주세요.\")\n",
    "        "
   ]
  },
  {
   "cell_type": "code",
   "execution_count": null,
   "id": "e1299a04-4bc9-46e1-9cab-3585007d5fbe",
   "metadata": {},
   "outputs": [],
   "source": [
    "# 2. 중복되지 않은 로또 번호를 오름차순 정렬하여 출력하시오\n",
    "#     (set.add(n)) -> while문 사용해야됨 (for문X)\n",
    "#     (list함수 이용해서 set을 list로 수정 후 sort()함수 사용)\n"
   ]
  },
  {
   "cell_type": "code",
   "execution_count": 57,
   "id": "8cf46a5b-4031-494d-a7a3-36b21f6dca5b",
   "metadata": {},
   "outputs": [
    {
     "name": "stdout",
     "output_type": "stream",
     "text": [
      "27\t5\t16\t6\t36\t28\t"
     ]
    }
   ],
   "source": [
    "while(1):\n",
    "    lotto = random.randint(1,46)\n",
    "    set.add()\n",
    "#    print(\"{}\".format(lotto))"
   ]
  }
 ],
 "metadata": {
  "kernelspec": {
   "display_name": "Python 3 (ipykernel)",
   "language": "python",
   "name": "python3"
  },
  "language_info": {
   "codemirror_mode": {
    "name": "ipython",
    "version": 3
   },
   "file_extension": ".py",
   "mimetype": "text/x-python",
   "name": "python",
   "nbconvert_exporter": "python",
   "pygments_lexer": "ipython3",
   "version": "3.11.7"
  }
 },
 "nbformat": 4,
 "nbformat_minor": 5
}
