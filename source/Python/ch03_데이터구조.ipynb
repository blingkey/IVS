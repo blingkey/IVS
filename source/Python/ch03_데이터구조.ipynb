{
 "cells": [
  {
   "cell_type": "markdown",
   "id": "a474b9de-fc6f-4013-b395-3d74ee394902",
   "metadata": {},
   "source": [
    "<font size='6' color='blue'><b>ch03. 데이터 구조</b></font>\n",
    "- 리스트 [] / 튜플 () / 딕셔너리 {} - 구조체와 유사 / 셋(집합)"
   ]
  },
  {
   "cell_type": "markdown",
   "id": "953285da-3b3a-4578-91c5-510e84e44f9d",
   "metadata": {},
   "source": [
    "# **1절 리스트**\n",
    "## **1.1 리스트 만들기**\n",
    "- [] 이용\n",
    "- 인덱스 : 0부터 시작, -1은 맨 마지막 인덱스\n",
    "- 슬라이싱([from:to:step])을 이용하여 추출"
   ]
  },
  {
   "cell_type": "code",
   "execution_count": 3,
   "id": "6c82ad85-bc26-4537-80bd-f91c21b20529",
   "metadata": {},
   "outputs": [
    {
     "data": {
      "text/plain": [
       "list"
      ]
     },
     "execution_count": 3,
     "metadata": {},
     "output_type": "execute_result"
    }
   ],
   "source": [
    "fruits = ['banana', 'apple', 'orage', 'grape', 0]\n",
    "type(fruits)"
   ]
  },
  {
   "cell_type": "code",
   "execution_count": 5,
   "id": "498f7817-b57a-4974-9979-dd9b7b3f2330",
   "metadata": {},
   "outputs": [
    {
     "name": "stdout",
     "output_type": "stream",
     "text": [
      "['banana', 'apple', 'orage', 'grape', 0]\n"
     ]
    }
   ],
   "source": [
    "print(fruits)"
   ]
  },
  {
   "cell_type": "code",
   "execution_count": 6,
   "id": "6d5ace4f-da5a-4900-9db1-03980634964d",
   "metadata": {},
   "outputs": [
    {
     "name": "stdout",
     "output_type": "stream",
     "text": [
      "banana\n"
     ]
    }
   ],
   "source": [
    "print(fruits[0])"
   ]
  },
  {
   "cell_type": "code",
   "execution_count": 7,
   "id": "b0707642-d8bc-426a-b780-da8d77af6830",
   "metadata": {},
   "outputs": [
    {
     "name": "stdout",
     "output_type": "stream",
     "text": [
      "['mango', 'apple', 'orage', 'grape', 0]\n"
     ]
    }
   ],
   "source": [
    "fruits[0] = 'mango'\n",
    "print(fruits)"
   ]
  },
  {
   "cell_type": "raw",
   "id": "89642566-beff-4b85-877b-c0d52ab32393",
   "metadata": {},
   "source": [
    "# C언어에서의 for문\n",
    "for(int i=0; i<5; i++){\n",
    "    printf(\"%d번째 %d\\n\", i, fruits[i])\n",
    "}"
   ]
  },
  {
   "cell_type": "code",
   "execution_count": 8,
   "id": "0437dca4-5bb2-4d3c-89cc-8cd933c0a96f",
   "metadata": {},
   "outputs": [
    {
     "name": "stdout",
     "output_type": "stream",
     "text": [
      "mango\n",
      "apple\n",
      "orage\n",
      "grape\n",
      "0\n"
     ]
    }
   ],
   "source": [
    "for fruit in fruits:\n",
    "    print(fruit)"
   ]
  },
  {
   "cell_type": "code",
   "execution_count": 11,
   "id": "ae4532f4-c605-4822-9f32-4deb7edf63b0",
   "metadata": {},
   "outputs": [
    {
     "name": "stdout",
     "output_type": "stream",
     "text": [
      "0번째 과일은 mango\n",
      "1번째 과일은 apple\n",
      "2번째 과일은 orage\n",
      "3번째 과일은 grape\n",
      "4번째 과일은 0\n"
     ]
    }
   ],
   "source": [
    "for i in [0,1,2,3,4]:\n",
    "    print(\"{}번째 과일은 {}\".format(i, fruits[i]))"
   ]
  },
  {
   "cell_type": "code",
   "execution_count": 12,
   "id": "5f88138b-5ef1-44ac-86d2-39df00652206",
   "metadata": {},
   "outputs": [
    {
     "data": {
      "text/plain": [
       "range(0, 5)"
      ]
     },
     "execution_count": 12,
     "metadata": {},
     "output_type": "execute_result"
    }
   ],
   "source": [
    "range(5)"
   ]
  },
  {
   "cell_type": "code",
   "execution_count": 13,
   "id": "da7c2514-edad-453c-96a5-7ca0ff32fa2c",
   "metadata": {},
   "outputs": [
    {
     "data": {
      "text/plain": [
       "[0, 1, 2, 3, 4]"
      ]
     },
     "execution_count": 13,
     "metadata": {},
     "output_type": "execute_result"
    }
   ],
   "source": [
    "list(range(5))"
   ]
  },
  {
   "cell_type": "code",
   "execution_count": 15,
   "id": "c32ca290-af23-4575-ab96-df183669afe8",
   "metadata": {},
   "outputs": [
    {
     "data": {
      "text/plain": [
       "5"
      ]
     },
     "execution_count": 15,
     "metadata": {},
     "output_type": "execute_result"
    }
   ],
   "source": [
    "len(fruits) # List fruits 요소의 개수"
   ]
  },
  {
   "cell_type": "code",
   "execution_count": 14,
   "id": "795ac293-d6f4-4596-8ca4-c9ed0519ffb6",
   "metadata": {},
   "outputs": [
    {
     "data": {
      "text/plain": [
       "[0, 1, 2, 3, 4]"
      ]
     },
     "execution_count": 14,
     "metadata": {},
     "output_type": "execute_result"
    }
   ],
   "source": [
    "list(range(len(fruits)))"
   ]
  },
  {
   "cell_type": "code",
   "execution_count": 18,
   "id": "2fbb02db-d836-4c54-b79f-23e4cd3eebb5",
   "metadata": {},
   "outputs": [
    {
     "name": "stdout",
     "output_type": "stream",
     "text": [
      "0번째 과일은 mango\n",
      "1번째 과일은 apple\n",
      "2번째 과일은 orage\n",
      "3번째 과일은 grape\n",
      "4번째 과일은 0\n"
     ]
    }
   ],
   "source": [
    "# 인덱스 사용할 때 for문 이렇게 안 씀\n",
    "for i in range(len(fruits)):\n",
    "    print(\"{}번째 과일은 {}\".format(i, fruits[i]))"
   ]
  },
  {
   "cell_type": "code",
   "execution_count": 119,
   "id": "3c7f0d43-8085-47e3-b952-c445a567ee08",
   "metadata": {},
   "outputs": [
    {
     "name": "stdout",
     "output_type": "stream",
     "text": [
      "0번째 과일은 orange\n",
      "1번째 과일은 apple\n",
      "2번째 과일은 mango\n",
      "3번째 과일은 kivi\n"
     ]
    }
   ],
   "source": [
    "# ★★★for문에서 인덱스 사용할 땐, enumerate 사용★★★\n",
    "for idx, value in enumerate(fruits):\n",
    "    print(\"{}번째 과일은 {}\".format(idx, value))"
   ]
  },
  {
   "cell_type": "markdown",
   "id": "0fba6517-468a-4f36-880a-1d1d5c214d15",
   "metadata": {},
   "source": [
    "## **1.2 기본정보 조회**"
   ]
  },
  {
   "cell_type": "code",
   "execution_count": 25,
   "id": "9b56d39f-aa30-4b04-aa5b-64e0ef4abc42",
   "metadata": {},
   "outputs": [
    {
     "name": "stdout",
     "output_type": "stream",
     "text": [
      "요소의 수 : 5\n",
      "최소값 : 1\n",
      "최대값 : 5\n"
     ]
    }
   ],
   "source": [
    "numbers = [1,2,3,4,5]\n",
    "print(\"요소의 수 :\", len(numbers))\n",
    "print(\"최소값 :\", min(numbers))\n",
    "print(\"최대값 :\", max(numbers))"
   ]
  },
  {
   "cell_type": "markdown",
   "id": "851438d7-c95c-40ac-a0c5-60d1c6bc6d2e",
   "metadata": {},
   "source": [
    "## **1.3 요소 추가**"
   ]
  },
  {
   "cell_type": "markdown",
   "id": "d8518446-67d6-4c7d-bdab-229236039a14",
   "metadata": {},
   "source": [
    "- **리스트 + 리스트** : 두 리스트를 연결\n",
    "- **리스트 * n** : 리스트를 n만큼 반복\n",
    "- **append()** : 요소 뒤에 추가\n",
    "- **extend()** : 리스트의 요소별로 뒤에 추가"
   ]
  },
  {
   "cell_type": "code",
   "execution_count": 27,
   "id": "9e479ca9-54b4-4688-a1f3-8f4eda8ba6be",
   "metadata": {},
   "outputs": [
    {
     "data": {
      "text/plain": [
       "[1, 2, 3, 1, 2, 3]"
      ]
     },
     "execution_count": 27,
     "metadata": {},
     "output_type": "execute_result"
    }
   ],
   "source": [
    "numbers = [1,2,3]\n",
    "numbers = numbers + numbers\n",
    "numbers"
   ]
  },
  {
   "cell_type": "code",
   "execution_count": 29,
   "id": "969b2f1e-342a-4d9b-83a4-627038aa9599",
   "metadata": {},
   "outputs": [
    {
     "name": "stdout",
     "output_type": "stream",
     "text": [
      "[1, 2, 3, 1, 2, 3, 1, 2, 3]\n"
     ]
    }
   ],
   "source": [
    "numbers = [1,2,3]\n",
    "print(numbers * 3)"
   ]
  },
  {
   "cell_type": "code",
   "execution_count": 30,
   "id": "ee25760c-167d-41f4-8fee-51179e2dc3f5",
   "metadata": {},
   "outputs": [
    {
     "data": {
      "text/plain": [
       "[1, 2, 3, 4]"
      ]
     },
     "execution_count": 30,
     "metadata": {},
     "output_type": "execute_result"
    }
   ],
   "source": [
    "numbers.append(4)\n",
    "numbers"
   ]
  },
  {
   "cell_type": "code",
   "execution_count": 33,
   "id": "59365e1d-9366-427c-8178-84da29f2bab8",
   "metadata": {},
   "outputs": [
    {
     "data": {
      "text/plain": [
       "[1, 2, 3, 4, [5, 6]]"
      ]
     },
     "execution_count": 33,
     "metadata": {},
     "output_type": "execute_result"
    }
   ],
   "source": [
    "# append()\n",
    "numbers = [1,2,3,4]\n",
    "num = [5,6]\n",
    "# numbers를 [1,2,3,4,5,6] vs [1,2,3,4, [5,6]]\n",
    "numbers.append(num)\n",
    "numbers"
   ]
  },
  {
   "cell_type": "code",
   "execution_count": 34,
   "id": "4d1dacc1-ce27-4e19-8f36-c54d3132e1a2",
   "metadata": {},
   "outputs": [
    {
     "data": {
      "text/plain": [
       "[1, 2, 3, 4, 5, 6]"
      ]
     },
     "execution_count": 34,
     "metadata": {},
     "output_type": "execute_result"
    }
   ],
   "source": [
    "# extend()\n",
    "numbers = [1,2,3,4]\n",
    "num = [5,6]\n",
    "# numbers를 [1,2,3,4,5,6] vs [1,2,3,4, [5,6]]\n",
    "numbers.extend(num)\n",
    "numbers"
   ]
  },
  {
   "cell_type": "code",
   "execution_count": 35,
   "id": "c5bff9ea-7e18-4fef-8350-1996de982dc9",
   "metadata": {},
   "outputs": [
    {
     "data": {
      "text/plain": [
       "[1, 2, 3, 4, 'hello']"
      ]
     },
     "execution_count": 35,
     "metadata": {},
     "output_type": "execute_result"
    }
   ],
   "source": [
    "numbers = [1,2,3,4]\n",
    "numbers.append(\"hello\")\n",
    "numbers"
   ]
  },
  {
   "cell_type": "code",
   "execution_count": 36,
   "id": "545e267c-27e6-4da6-a7f2-7285391b5309",
   "metadata": {},
   "outputs": [
    {
     "data": {
      "text/plain": [
       "[1, 2, 3, 4, 'h', 'e', 'l', 'l', 'o']"
      ]
     },
     "execution_count": 36,
     "metadata": {},
     "output_type": "execute_result"
    }
   ],
   "source": [
    "numbers = [1,2,3,4]\n",
    "numbers.extend('hello')\n",
    "numbers"
   ]
  },
  {
   "cell_type": "markdown",
   "id": "6058ae5d-df41-4b83-a442-93972e784a5b",
   "metadata": {},
   "source": [
    "## **1.4 인덱싱**\n",
    "- **index(찾고자하는 값, 1)** : 찾고자하는 값이 1번 인덱스부터 찾아 그 위치를 반환\n",
    "- **count(찾고자하는 값)** : 찾고자하는 값이 몇 번 나오는지 counter"
   ]
  },
  {
   "cell_type": "code",
   "execution_count": 40,
   "id": "e5cfd94a-0ac6-4b19-89a1-8e6220101187",
   "metadata": {},
   "outputs": [
    {
     "name": "stdout",
     "output_type": "stream",
     "text": [
      "2가 몇 개인지: 2\n",
      "4가 몇 개인지: 0\n",
      "5가 몇 개인지: 0\n"
     ]
    }
   ],
   "source": [
    "numbers = [1,2,3, [1,2,3], 1,2,3]\n",
    "print(\"2가 몇 개인지: {}\".format(numbers.count(2)))\n",
    "print(\"4가 몇 개인지: {}\".format(numbers.count(4)))\n",
    "print(\"5가 몇 개인지: {}\".format(numbers.count(5)))"
   ]
  },
  {
   "cell_type": "code",
   "execution_count": 41,
   "id": "0cf5cf63-96ef-4be5-8274-26a2b5c0cb49",
   "metadata": {},
   "outputs": [
    {
     "data": {
      "text/plain": [
       "True"
      ]
     },
     "execution_count": 41,
     "metadata": {},
     "output_type": "execute_result"
    }
   ],
   "source": [
    "2 in numbers # numbers 안에 2가 있는지 여부"
   ]
  },
  {
   "cell_type": "code",
   "execution_count": 44,
   "id": "537efd26-49fc-4a40-a166-77d775ebf73c",
   "metadata": {},
   "outputs": [
    {
     "data": {
      "text/plain": [
       "5"
      ]
     },
     "execution_count": 44,
     "metadata": {},
     "output_type": "execute_result"
    }
   ],
   "source": [
    "numbers.index(2,3) # 3번째 인덱스부터 2가 처음 나오는 인덱스를 반환"
   ]
  },
  {
   "cell_type": "markdown",
   "id": "7c3d3bd5-908c-4231-8cc3-9305f2a4a21a",
   "metadata": {},
   "source": [
    "## **1.5 리스트에 원하는 내용만 추출**\n",
    "- <b>슬라이싱 [from:to:step]</b>을 이용 : 원하는 **인덱스**의 값 추출\n",
    "- **리스트 컴프리헨션**을 이용 : 원하는 **데이터만** 추출"
   ]
  },
  {
   "cell_type": "code",
   "execution_count": 47,
   "id": "fc6726d2-6338-4d26-84cc-a28623f685c8",
   "metadata": {},
   "outputs": [
    {
     "data": {
      "text/plain": [
       "[20, 19, 18, 13, 12, 10, 9, 5, 3, 1]"
      ]
     },
     "execution_count": 47,
     "metadata": {},
     "output_type": "execute_result"
    }
   ],
   "source": [
    "numbers = [1,3,5,9,10,12,13,18,19,20]\n",
    "numbers[::-1]"
   ]
  },
  {
   "cell_type": "code",
   "execution_count": 48,
   "id": "8f25aab3-3d85-4aa5-8318-6e171451aebc",
   "metadata": {},
   "outputs": [
    {
     "data": {
      "text/plain": [
       "[1, 5, 10, 13, 19]"
      ]
     },
     "execution_count": 48,
     "metadata": {},
     "output_type": "execute_result"
    }
   ],
   "source": [
    "numbers[::2] # 인덱스가 짝수인 값을 추출"
   ]
  },
  {
   "cell_type": "code",
   "execution_count": 50,
   "id": "a0470c46-0391-42fb-9404-fdb3eee57200",
   "metadata": {},
   "outputs": [
    {
     "data": {
      "text/plain": [
       "[10, 12, 18, 20]"
      ]
     },
     "execution_count": 50,
     "metadata": {},
     "output_type": "execute_result"
    }
   ],
   "source": [
    "# 값이 짝수인 데이터만 추추\n",
    "result = []\n",
    "for num in numbers: # [1,3,5,9,10,12,13,18,19,20]\n",
    "    if num%2 == 0:\n",
    "        result.append(num)\n",
    "\n",
    "result"
   ]
  },
  {
   "cell_type": "code",
   "execution_count": 53,
   "id": "a2861c17-e8ac-4d97-a00f-1e3d188867e6",
   "metadata": {},
   "outputs": [
    {
     "data": {
      "text/plain": [
       "[10, 12, 18, 20]"
      ]
     },
     "execution_count": 53,
     "metadata": {},
     "output_type": "execute_result"
    }
   ],
   "source": [
    "# 리스트 컴프리헨션\n",
    "result = [num for num in numbers if num%2 == 0]\n",
    "result"
   ]
  },
  {
   "cell_type": "markdown",
   "id": "e7e69697-798c-4a7a-b561-2907e8ece53b",
   "metadata": {},
   "source": [
    "```\n",
    "- 리스트 컴프리헨션\n",
    "result = [num for num in numbers]\n",
    "\n",
    "- 위와 같은 내용의 for문\n",
    "for num in numbers: # [1,3,5,9,10,12,13,18,19,20]\n",
    "    if num%2 == 0:\n",
    "        result.append(num)\n",
    "```"
   ]
  },
  {
   "cell_type": "code",
   "execution_count": 62,
   "id": "478ecec5-0c5e-420b-a74c-c3387178bc21",
   "metadata": {},
   "outputs": [
    {
     "data": {
      "text/plain": [
       "[[1, 3, 5], [1, 3, 5], [1, 3, 5]]"
      ]
     },
     "execution_count": 62,
     "metadata": {},
     "output_type": "execute_result"
    }
   ],
   "source": [
    "# numbers 리스트의 제곱값을 리스트로 생성하여라 (컴프리헨션 사용)\n",
    "numbers = [1,3,5]\n",
    "result = []\n",
    "for num in numbers:\n",
    "    result.append(numbers)\n",
    "result"
   ]
  },
  {
   "cell_type": "code",
   "execution_count": 55,
   "id": "3dda0a72-8380-46c4-93d0-e0d2e200a3d0",
   "metadata": {},
   "outputs": [
    {
     "data": {
      "text/plain": [
       "[1, 9, 25]"
      ]
     },
     "execution_count": 55,
     "metadata": {},
     "output_type": "execute_result"
    }
   ],
   "source": [
    "numbers = [1,3,5]\n",
    "result = [num**2 for num in numbers]\n",
    "result"
   ]
  },
  {
   "cell_type": "code",
   "execution_count": 58,
   "id": "5e1e73b3-a6ed-4f39-9a29-7eadf3c45238",
   "metadata": {},
   "outputs": [
    {
     "data": {
      "text/plain": [
       "['orange', 'apple', 'mango']"
      ]
     },
     "execution_count": 58,
     "metadata": {},
     "output_type": "execute_result"
    }
   ],
   "source": [
    "# 과일의 글자가 5글자 이상인 과일을 추출하세요\n",
    "fruits = [\"orange\", \"apple\", \"mango\", \"kivi\"]\n",
    "[fruit for fruit in fruits if len(fruit)>=5]"
   ]
  },
  {
   "cell_type": "code",
   "execution_count": 59,
   "id": "10c7f8ec-26f6-4fe9-9000-d5b7bb8f479f",
   "metadata": {},
   "outputs": [
    {
     "data": {
      "text/plain": [
       "[6, 5, 5]"
      ]
     },
     "execution_count": 59,
     "metadata": {},
     "output_type": "execute_result"
    }
   ],
   "source": [
    "# 과일의 글자가 5글자 이상인 과일의 글자수를 출력하세요.\n",
    "[len(f) for f in fruits if len(f)>=5]"
   ]
  },
  {
   "cell_type": "markdown",
   "id": "576b4672-4ba3-44c0-89f0-b03afdf010f9",
   "metadata": {},
   "source": [
    "## **1.6 삭제하기**\n",
    "- **remove(data)** : 해당 data 제거\n",
    "- <b>del 리스트변수[idx]</b> : idx번째 요소 제거\n",
    "- **pop()** : 가장 마지막 인덱스 요소가 return 되고 삭제"
   ]
  },
  {
   "cell_type": "code",
   "execution_count": 65,
   "id": "6ff68048-a6c8-4878-b71f-0997638c121f",
   "metadata": {},
   "outputs": [
    {
     "name": "stdout",
     "output_type": "stream",
     "text": [
      "4\n",
      "[1, 2, 3]\n"
     ]
    }
   ],
   "source": [
    "numbers= [1,2,3,4]\n",
    "print(numbers.pop())\n",
    "print(numbers)"
   ]
  },
  {
   "cell_type": "code",
   "execution_count": 66,
   "id": "0725b51d-afeb-4a4c-b49c-d4b59dbf5f1f",
   "metadata": {},
   "outputs": [
    {
     "name": "stdout",
     "output_type": "stream",
     "text": [
      "[2, 3]\n"
     ]
    }
   ],
   "source": [
    "numbers.remove(1)\n",
    "print(numbers)"
   ]
  },
  {
   "cell_type": "code",
   "execution_count": 67,
   "id": "c379f434-6096-4222-8e41-00c9b05c9ab7",
   "metadata": {},
   "outputs": [
    {
     "ename": "ValueError",
     "evalue": "list.remove(x): x not in list",
     "output_type": "error",
     "traceback": [
      "\u001b[1;31m---------------------------------------------------------------------------\u001b[0m",
      "\u001b[1;31mValueError\u001b[0m                                Traceback (most recent call last)",
      "Cell \u001b[1;32mIn[67], line 1\u001b[0m\n\u001b[1;32m----> 1\u001b[0m numbers\u001b[38;5;241m.\u001b[39mremove(\u001b[38;5;241m9\u001b[39m)\n",
      "\u001b[1;31mValueError\u001b[0m: list.remove(x): x not in list"
     ]
    }
   ],
   "source": [
    "numbers.remove(9) # 없는 데이터 remove시 에러"
   ]
  },
  {
   "cell_type": "code",
   "execution_count": 68,
   "id": "1ee8c967-bc11-45e0-a1fe-4d08b3ced4d4",
   "metadata": {},
   "outputs": [
    {
     "name": "stdout",
     "output_type": "stream",
     "text": [
      "[3]\n"
     ]
    }
   ],
   "source": [
    "del numbers[0]\n",
    "print(numbers)"
   ]
  },
  {
   "cell_type": "code",
   "execution_count": 69,
   "id": "e5d0e81b-a0f8-4609-af17-ee96bb8cc146",
   "metadata": {},
   "outputs": [],
   "source": [
    "del numbers"
   ]
  },
  {
   "cell_type": "code",
   "execution_count": 70,
   "id": "286ed220-86b5-4d47-838a-ad2afcfe0d9f",
   "metadata": {},
   "outputs": [
    {
     "ename": "NameError",
     "evalue": "name 'numbers' is not defined",
     "output_type": "error",
     "traceback": [
      "\u001b[1;31m---------------------------------------------------------------------------\u001b[0m",
      "\u001b[1;31mNameError\u001b[0m                                 Traceback (most recent call last)",
      "Cell \u001b[1;32mIn[70], line 1\u001b[0m\n\u001b[1;32m----> 1\u001b[0m numbers\n",
      "\u001b[1;31mNameError\u001b[0m: name 'numbers' is not defined"
     ]
    }
   ],
   "source": [
    "numbers"
   ]
  },
  {
   "cell_type": "markdown",
   "id": "f6b3e4e5-d089-4b68-bfde-766db239d73e",
   "metadata": {},
   "source": [
    "## **1.7 정렬하기**"
   ]
  },
  {
   "cell_type": "code",
   "execution_count": 74,
   "id": "6d960df7-9a59-457e-b85b-4f477495fa75",
   "metadata": {},
   "outputs": [
    {
     "data": {
      "text/plain": [
       "[1, 5, 5, 9, 10]"
      ]
     },
     "execution_count": 74,
     "metadata": {},
     "output_type": "execute_result"
    }
   ],
   "source": [
    "numbers = [9,10,1,5,5]\n",
    "numbers.sort() # 오름차순 정렬\n",
    "numbers"
   ]
  },
  {
   "cell_type": "code",
   "execution_count": 75,
   "id": "0bfb46f0-46eb-4257-9e98-96505b5ea346",
   "metadata": {},
   "outputs": [
    {
     "data": {
      "text/plain": [
       "[10, 9, 5, 5, 1]"
      ]
     },
     "execution_count": 75,
     "metadata": {},
     "output_type": "execute_result"
    }
   ],
   "source": [
    "numbers = [9,10,1,5,5]\n",
    "numbers.sort(reverse=True) # 내림차순 정렬\n",
    "numbers"
   ]
  },
  {
   "cell_type": "markdown",
   "id": "ea41d627-c59e-4f85-a560-4b3e73f06f21",
   "metadata": {},
   "source": [
    "## **1.8 리스트 복제**"
   ]
  },
  {
   "cell_type": "code",
   "execution_count": 82,
   "id": "dfac4063-2b4d-419a-912d-860e4595690e",
   "metadata": {},
   "outputs": [
    {
     "name": "stdout",
     "output_type": "stream",
     "text": [
      "정렬 전 데이터 : [1, 2, 6]\n",
      "정렬 후 데이터 : [1, 2, 6]\n"
     ]
    }
   ],
   "source": [
    "numbers = [6,1,2]\n",
    "new_numbers = numbers # 얕은 복사\n",
    "numbers.sort()\n",
    "print(\"정렬 전 데이터 :\", numbers)\n",
    "print(\"정렬 후 데이터 :\", new_numbers)"
   ]
  },
  {
   "cell_type": "code",
   "execution_count": 84,
   "id": "ca91518c-ab15-4f01-a065-a0be0a8039e3",
   "metadata": {},
   "outputs": [
    {
     "name": "stdout",
     "output_type": "stream",
     "text": [
      "정렬 전 데이터 : [1, 2, 6]\n",
      "깊은 복사 후 데이터 : [6, 1, 2]\n",
      "정렬 후 데이터 : [1, 2, 6]\n"
     ]
    }
   ],
   "source": [
    "numbers = [6,1,2]\n",
    "new_numbers = numbers.copy() # 깊은 복사\n",
    "numbers.sort()\n",
    "print(\"정렬 전 데이터 :\", numbers)\n",
    "print(\"깊은 복사 후 데이터 :\", new_numbers)\n",
    "new_numbers.sort()\n",
    "print(\"정렬 후 데이터 :\", new_numbers)"
   ]
  },
  {
   "cell_type": "markdown",
   "id": "39539936-6b20-4344-9474-30f74ee8cac0",
   "metadata": {},
   "source": [
    "# **2절 튜플**\n",
    "- 리스트와 유사하지만 읽기 전용\n",
    "- () 이용해서 생성"
   ]
  },
  {
   "cell_type": "code",
   "execution_count": 86,
   "id": "e60f2749-5ef3-4c9c-8350-a89629e63011",
   "metadata": {},
   "outputs": [
    {
     "name": "stdout",
     "output_type": "stream",
     "text": [
      "<class 'tuple'>\n",
      "('서울', '부산', '광주', '대전')\n"
     ]
    }
   ],
   "source": [
    "city = ('서울', '부산', '광주', '대전')\n",
    "print(type(city))\n",
    "print(city)"
   ]
  },
  {
   "cell_type": "code",
   "execution_count": 87,
   "id": "b39823a4-212e-42c8-9790-e7d5bc9a73a8",
   "metadata": {},
   "outputs": [
    {
     "data": {
      "text/plain": [
       "'서울~부산~광주~대전'"
      ]
     },
     "execution_count": 87,
     "metadata": {},
     "output_type": "execute_result"
    }
   ],
   "source": [
    "'~'.join(city)"
   ]
  },
  {
   "cell_type": "code",
   "execution_count": 90,
   "id": "e20cd29c-7157-4638-9b8f-4693b5d395a6",
   "metadata": {},
   "outputs": [
    {
     "name": "stdout",
     "output_type": "stream",
     "text": [
      "<class 'list'>\n",
      "['서울']\n"
     ]
    }
   ],
   "source": [
    "list_ = ['서울']\n",
    "print(type(list_))\n",
    "print(list_)"
   ]
  },
  {
   "cell_type": "code",
   "execution_count": 91,
   "id": "b212ca96-4552-4542-94d1-d62b12f26383",
   "metadata": {},
   "outputs": [
    {
     "name": "stdout",
     "output_type": "stream",
     "text": [
      "<class 'str'>\n",
      "서울\n"
     ]
    }
   ],
   "source": [
    "t = ('서울')\n",
    "print(type(t))\n",
    "print(t)"
   ]
  },
  {
   "cell_type": "code",
   "execution_count": 93,
   "id": "19a6c6a7-d79d-4ec8-a726-d9e769929c97",
   "metadata": {},
   "outputs": [
    {
     "name": "stdout",
     "output_type": "stream",
     "text": [
      "<class 'tuple'>\n",
      "('서울',)\n"
     ]
    }
   ],
   "source": [
    "t = ('서울',) # 요소가 하나인 튜플은 뒤에 콤마(,) 필수\n",
    "print(type(t))\n",
    "print(t)"
   ]
  },
  {
   "cell_type": "markdown",
   "id": "000a342b-c25b-487d-a6af-fa5d0e1ce0d1",
   "metadata": {},
   "source": [
    "# **3절 딕셔너리**\n",
    "- 구조체와 유사\n",
    "- {}를 이용해서 생성. key-value쌍으로 구성\n",
    "- value(값)은 중복 가능하나 key는 중복 불가\n",
    "- index를 이용한 참조 불가"
   ]
  },
  {
   "cell_type": "code",
   "execution_count": 98,
   "id": "17ca2b92-d77a-4efe-938a-a527966393c0",
   "metadata": {},
   "outputs": [
    {
     "name": "stdout",
     "output_type": "stream",
     "text": [
      "<class 'dict'>\n",
      "{'name': '홍길동', 'address': '서울시 금천구'}\n"
     ]
    }
   ],
   "source": [
    "dic = {'name':'홍길동', 'address':'서울시 금천구'}\n",
    "print(type(dic))\n",
    "print(dic)"
   ]
  },
  {
   "cell_type": "code",
   "execution_count": 102,
   "id": "cea2b0e0-c32f-4bcc-8227-1dd5884392f7",
   "metadata": {},
   "outputs": [
    {
     "data": {
      "text/plain": [
       "('홍길동', '서울시 금천구')"
      ]
     },
     "execution_count": 102,
     "metadata": {},
     "output_type": "execute_result"
    }
   ],
   "source": [
    "dic['name'], dic['address']"
   ]
  },
  {
   "cell_type": "code",
   "execution_count": 103,
   "id": "de030a93-47c7-40a8-b8ed-2a881b7fedd1",
   "metadata": {},
   "outputs": [
    {
     "ename": "NameError",
     "evalue": "name 'name' is not defined",
     "output_type": "error",
     "traceback": [
      "\u001b[1;31m---------------------------------------------------------------------------\u001b[0m",
      "\u001b[1;31mNameError\u001b[0m                                 Traceback (most recent call last)",
      "Cell \u001b[1;32mIn[103], line 1\u001b[0m\n\u001b[1;32m----> 1\u001b[0m dic[name]\n",
      "\u001b[1;31mNameError\u001b[0m: name 'name' is not defined"
     ]
    }
   ],
   "source": [
    "dic[name] # ''해야됨"
   ]
  },
  {
   "cell_type": "code",
   "execution_count": 104,
   "id": "bd930245-5941-445f-8b0e-4552b0bcead8",
   "metadata": {},
   "outputs": [
    {
     "ename": "KeyError",
     "evalue": "'score'",
     "output_type": "error",
     "traceback": [
      "\u001b[1;31m---------------------------------------------------------------------------\u001b[0m",
      "\u001b[1;31mKeyError\u001b[0m                                  Traceback (most recent call last)",
      "Cell \u001b[1;32mIn[104], line 1\u001b[0m\n\u001b[1;32m----> 1\u001b[0m dic[\u001b[38;5;124m'\u001b[39m\u001b[38;5;124mscore\u001b[39m\u001b[38;5;124m'\u001b[39m]\n",
      "\u001b[1;31mKeyError\u001b[0m: 'score'"
     ]
    }
   ],
   "source": [
    "dic['score'] # 없는 건 에러남"
   ]
  },
  {
   "cell_type": "code",
   "execution_count": 105,
   "id": "cca17109-7f56-4415-a67e-25b3d6360aba",
   "metadata": {},
   "outputs": [
    {
     "data": {
      "text/plain": [
       "('홍길동', '서울시 금천구', None)"
      ]
     },
     "execution_count": 105,
     "metadata": {},
     "output_type": "execute_result"
    }
   ],
   "source": [
    "dic.get('name'), dic.get('address'), dic.get('score')"
   ]
  },
  {
   "cell_type": "code",
   "execution_count": 106,
   "id": "ad50ac26-ebe5-4b00-942d-16cbe3df832e",
   "metadata": {},
   "outputs": [
    {
     "name": "stdout",
     "output_type": "stream",
     "text": [
      "{'name': '홍길동', 'address': '서울시 금천구', 'score': 100, 'sport': 'sleep'}\n"
     ]
    }
   ],
   "source": [
    "# 수정\n",
    "# 수정전 {'name':'홍길동', 'address':'서울시 금천구'}\n",
    "dic['score'] = 100\n",
    "dic['sport'] = 'sleep'\n",
    "print(dic)"
   ]
  },
  {
   "cell_type": "code",
   "execution_count": 107,
   "id": "12264d32-0f72-4a60-9d24-25534a88ec1f",
   "metadata": {},
   "outputs": [
    {
     "data": {
      "text/plain": [
       "'sleep'"
      ]
     },
     "execution_count": 107,
     "metadata": {},
     "output_type": "execute_result"
    }
   ],
   "source": [
    "# 제거\n",
    "dic.pop('sport')"
   ]
  },
  {
   "cell_type": "code",
   "execution_count": 108,
   "id": "9d921290-45b6-4bcd-a9b0-9f993e0ab9b3",
   "metadata": {},
   "outputs": [
    {
     "data": {
      "text/plain": [
       "{'name': '홍길동', 'address': '서울시 금천구', 'score': 100}"
      ]
     },
     "execution_count": 108,
     "metadata": {},
     "output_type": "execute_result"
    }
   ],
   "source": [
    "dic"
   ]
  },
  {
   "cell_type": "markdown",
   "id": "af77b83c-ba13-4781-acaf-11e25adf3b49",
   "metadata": {},
   "source": [
    "- 인덱스가 없는 딕셔너리에서 enumerate 사용하기?"
   ]
  },
  {
   "cell_type": "code",
   "execution_count": 113,
   "id": "0b49ecdb-8645-402b-abbc-f38c6030022b",
   "metadata": {},
   "outputs": [
    {
     "name": "stdout",
     "output_type": "stream",
     "text": [
      "name\n",
      "address\n",
      "score\n",
      "0 name\n",
      "1 address\n",
      "2 score\n"
     ]
    }
   ],
   "source": [
    "# 리스트(튜플, 셋) 방식으로 for문 사용하면 key만 출력\n",
    "for key in dic:\n",
    "    print(key)\n",
    "for idx, value in enumerate(dic):\n",
    "    print(idx, value)"
   ]
  },
  {
   "cell_type": "code",
   "execution_count": 114,
   "id": "5dd4bcc3-2fd4-42a7-98a3-0c1488ab0989",
   "metadata": {},
   "outputs": [
    {
     "data": {
      "text/plain": [
       "dict_keys(['name', 'address', 'score'])"
      ]
     },
     "execution_count": 114,
     "metadata": {},
     "output_type": "execute_result"
    }
   ],
   "source": [
    "dic.keys()"
   ]
  },
  {
   "cell_type": "code",
   "execution_count": 115,
   "id": "bb1630f4-1cb9-4519-86b3-e7650c234598",
   "metadata": {},
   "outputs": [
    {
     "data": {
      "text/plain": [
       "dict_values(['홍길동', '서울시 금천구', 100])"
      ]
     },
     "execution_count": 115,
     "metadata": {},
     "output_type": "execute_result"
    }
   ],
   "source": [
    "dic.values()"
   ]
  },
  {
   "cell_type": "code",
   "execution_count": 117,
   "id": "e671ab60-6d1b-479c-9298-cfb9c4969338",
   "metadata": {},
   "outputs": [
    {
     "data": {
      "text/plain": [
       "dict_items([('name', '홍길동'), ('address', '서울시 금천구'), ('score', 100)])"
      ]
     },
     "execution_count": 117,
     "metadata": {},
     "output_type": "execute_result"
    }
   ],
   "source": [
    "dic.items() # ★★★for문에서는 itmes() 사용★★★"
   ]
  },
  {
   "cell_type": "code",
   "execution_count": 118,
   "id": "193435d8-9e12-4daf-a478-90bd65b460c7",
   "metadata": {},
   "outputs": [
    {
     "name": "stdout",
     "output_type": "stream",
     "text": [
      "홍길동\n",
      "서울시 금천구\n",
      "100\n"
     ]
    }
   ],
   "source": [
    "for data in dic.values():\n",
    "    print(data)"
   ]
  },
  {
   "cell_type": "code",
   "execution_count": 120,
   "id": "1d97a7af-016f-4db5-a5d3-693734b540b2",
   "metadata": {},
   "outputs": [
    {
     "name": "stdout",
     "output_type": "stream",
     "text": [
      "name : 홍길동\n",
      "address : 서울시 금천구\n",
      "score : 100\n"
     ]
    }
   ],
   "source": [
    "for key, value in dic.items():\n",
    "    print(\"{} : {}\".format(key, value))"
   ]
  },
  {
   "cell_type": "markdown",
   "id": "466da622-82b4-440f-b438-7de3ad9648a9",
   "metadata": {},
   "source": [
    "- 딕셔너리에서는 **key값**이 **값의 여부**를 나타냄"
   ]
  },
  {
   "cell_type": "code",
   "execution_count": 121,
   "id": "46f14c79-6afd-4e21-95dc-44cef2ab17c4",
   "metadata": {},
   "outputs": [
    {
     "data": {
      "text/plain": [
       "True"
      ]
     },
     "execution_count": 121,
     "metadata": {},
     "output_type": "execute_result"
    }
   ],
   "source": [
    "l = ['a','b','c']\n",
    "'c' in l"
   ]
  },
  {
   "cell_type": "code",
   "execution_count": 122,
   "id": "cf9f8a85-813f-44ea-8dfb-8aeabaedfed0",
   "metadata": {},
   "outputs": [
    {
     "data": {
      "text/plain": [
       "True"
      ]
     },
     "execution_count": 122,
     "metadata": {},
     "output_type": "execute_result"
    }
   ],
   "source": [
    "dic = {'name':'홍길동', 'score':100}\n",
    "'name' in dic"
   ]
  },
  {
   "cell_type": "code",
   "execution_count": 123,
   "id": "9027e1ff-42e4-42df-a78c-9afa1ed49c87",
   "metadata": {},
   "outputs": [
    {
     "data": {
      "text/plain": [
       "False"
      ]
     },
     "execution_count": 123,
     "metadata": {},
     "output_type": "execute_result"
    }
   ],
   "source": [
    "'홍길동' in dic"
   ]
  },
  {
   "cell_type": "code",
   "execution_count": 124,
   "id": "010ed6a5-324d-46ac-b297-87ea87928d6b",
   "metadata": {},
   "outputs": [
    {
     "data": {
      "text/plain": [
       "2"
      ]
     },
     "execution_count": 124,
     "metadata": {},
     "output_type": "execute_result"
    }
   ],
   "source": [
    "len(dic) # 데이터의 개수"
   ]
  },
  {
   "cell_type": "markdown",
   "id": "8fe71d84-2141-49f5-8e01-ac67e5cc70a8",
   "metadata": {},
   "source": [
    "# **4절 셋**\n",
    "- 중복을 허용하지 않는 집합 (순서x = 인덱스X)"
   ]
  },
  {
   "cell_type": "code",
   "execution_count": 129,
   "id": "ee5f0a40-0655-41ab-b1ab-110bead9eb1f",
   "metadata": {},
   "outputs": [
    {
     "name": "stdout",
     "output_type": "stream",
     "text": [
      "<class 'list'>\n",
      "['apple', 'orange', 'banana', 'banana', 'banana']\n"
     ]
    }
   ],
   "source": [
    "# 리스트는 중복 허용\n",
    "fruits = ['apple', 'orange', 'banana', 'banana', 'banana']\n",
    "print(type(fruits))\n",
    "print(fruits)"
   ]
  },
  {
   "cell_type": "code",
   "execution_count": 130,
   "id": "647c014f-488f-4f10-8d4c-49fc74e155c8",
   "metadata": {},
   "outputs": [
    {
     "name": "stdout",
     "output_type": "stream",
     "text": [
      "<class 'set'>\n",
      "{'banana', 'apple', 'orange'}\n"
     ]
    }
   ],
   "source": [
    "# 셋은 중복 허용X\n",
    "fruits = {'apple', 'orange', 'banana', 'banana', 'banana'}\n",
    "print(type(fruits))\n",
    "print(fruits)"
   ]
  },
  {
   "cell_type": "code",
   "execution_count": 131,
   "id": "3332acd8-051b-4d3a-bebe-ff5fd8be8e58",
   "metadata": {},
   "outputs": [
    {
     "name": "stdout",
     "output_type": "stream",
     "text": [
      "<class 'set'>\n",
      "{0, 'banana', 'apple', 'orange'}\n"
     ]
    }
   ],
   "source": [
    "fruits = {'apple', 'orange', 'banana', 'banana', 0, 0}\n",
    "print(type(fruits))\n",
    "print(fruits)"
   ]
  },
  {
   "cell_type": "code",
   "execution_count": 132,
   "id": "10190531-14cb-4ac4-91d5-534cbfc3adce",
   "metadata": {},
   "outputs": [
    {
     "name": "stdout",
     "output_type": "stream",
     "text": [
      "{0, 'kiwi', 'banana', 'apple', 'orange'}\n"
     ]
    }
   ],
   "source": [
    "fruits.add('kiwi')\n",
    "print(fruits)"
   ]
  },
  {
   "cell_type": "code",
   "execution_count": 134,
   "id": "bcaf75e7-0465-4692-805f-11f60de17dd9",
   "metadata": {},
   "outputs": [
    {
     "name": "stdout",
     "output_type": "stream",
     "text": [
      "{0, 'kiwi', 'banana', 'apple', 'orange'}\n"
     ]
    }
   ],
   "source": [
    "fruits.add('banana')\n",
    "print(fruits)"
   ]
  },
  {
   "cell_type": "code",
   "execution_count": 136,
   "id": "1aff35f9-f684-42fc-96b2-e8e0d39689fb",
   "metadata": {},
   "outputs": [
    {
     "name": "stdout",
     "output_type": "stream",
     "text": [
      "0:0\n",
      "1:kiwi\n",
      "2:banana\n",
      "3:apple\n",
      "4:orange\n"
     ]
    }
   ],
   "source": [
    "for i, value in enumerate(fruits):\n",
    "    print(\"{}:{}\".format(i, value))"
   ]
  },
  {
   "cell_type": "code",
   "execution_count": 137,
   "id": "ede34479-29f6-4e94-a6f2-bc5b7f6d0e6a",
   "metadata": {},
   "outputs": [
    {
     "name": "stdout",
     "output_type": "stream",
     "text": [
      "0\n",
      "kiwi\n",
      "banana\n",
      "apple\n",
      "orange\n"
     ]
    }
   ],
   "source": [
    "for data in fruits:\n",
    "    print(data)"
   ]
  },
  {
   "cell_type": "markdown",
   "id": "41e589c1-016f-465d-8544-eaea012ca0bd",
   "metadata": {},
   "source": [
    "# **5절 연습문제**"
   ]
  },
  {
   "cell_type": "markdown",
   "id": "a1b648dc-53e3-4017-9aaa-e08654a68a3c",
   "metadata": {},
   "source": [
    "- 다음 리스트가 주어졌을 경우 요구사항대로 코드를 작성하시오<br>\n",
    "numbers = [1,2,3,4,5,6,7,8,9,10]"
   ]
  },
  {
   "cell_type": "code",
   "execution_count": 18,
   "id": "29800c0e-0419-4112-966a-bd498c58f2bc",
   "metadata": {},
   "outputs": [],
   "source": [
    "numbers = [1,2,3,4,5,6,7,8,9,10]"
   ]
  },
  {
   "cell_type": "markdown",
   "id": "1cafff41-2364-402b-b74e-09b29edd3d7a",
   "metadata": {},
   "source": [
    "1. 숫자 100을 맨 뒤에 추가하세요"
   ]
  },
  {
   "cell_type": "code",
   "execution_count": 19,
   "id": "b7ee49c6-1d8e-4fef-b0d1-0893d9f740b0",
   "metadata": {},
   "outputs": [
    {
     "data": {
      "text/plain": [
       "[1, 2, 3, 4, 5, 6, 7, 8, 9, 10, 100]"
      ]
     },
     "execution_count": 19,
     "metadata": {},
     "output_type": "execute_result"
    }
   ],
   "source": [
    "numbers.append(100)\n",
    "numbers"
   ]
  },
  {
   "cell_type": "markdown",
   "id": "bbc09b15-feae-42b5-98b5-134635a2708c",
   "metadata": {},
   "source": [
    "2. 다음 리스트를 numbers 리스트 맨 뒤에 추가하세요<br>\n",
    "data = [200, 300, 400, 500]"
   ]
  },
  {
   "cell_type": "code",
   "execution_count": 20,
   "id": "fba7a69e-adb6-4625-aca8-cb6a7573eb99",
   "metadata": {},
   "outputs": [
    {
     "name": "stdout",
     "output_type": "stream",
     "text": [
      "[1, 2, 3, 4, 5, 6, 7, 8, 9, 10, 100, 200, 300, 400, 500]\n",
      "[1, 2, 3, 4, 5, 6, 7, 8, 9, 10, 100, 200, 300, 400, 500]\n"
     ]
    }
   ],
   "source": [
    "data = [200, 300, 400, 500]\n",
    "numbers += data\n",
    "print(numbers)\n",
    "\n",
    "# 정답 참고\n",
    "numbers = [1,2,3,4,5,6,7,8,9,10,100]\n",
    "numbers.extend(data)\n",
    "print(numbers)"
   ]
  },
  {
   "cell_type": "markdown",
   "id": "244e982c-9196-4091-96a2-0217a1f787ae",
   "metadata": {},
   "source": [
    "3. 처음 다섯 개 숫자만 출력하세요"
   ]
  },
  {
   "cell_type": "code",
   "execution_count": 189,
   "id": "38036ac5-76eb-4516-9c3c-7aed45cd2512",
   "metadata": {},
   "outputs": [
    {
     "data": {
      "text/plain": [
       "[1, 2, 3, 4, 5]"
      ]
     },
     "execution_count": 189,
     "metadata": {},
     "output_type": "execute_result"
    }
   ],
   "source": [
    "numbers[:5]"
   ]
  },
  {
   "cell_type": "markdown",
   "id": "2a855702-4346-47fc-85e7-43347d221870",
   "metadata": {},
   "source": [
    "4. 리스트에서 짝수 번째 데이터만 출력하세요"
   ]
  },
  {
   "cell_type": "code",
   "execution_count": 190,
   "id": "ddf1d3fd-e4c2-427b-8a87-b7897ecb91a7",
   "metadata": {},
   "outputs": [
    {
     "data": {
      "text/plain": [
       "[1, 3, 5, 7, 9, 100, 300, 500]"
      ]
     },
     "execution_count": 190,
     "metadata": {},
     "output_type": "execute_result"
    }
   ],
   "source": [
    "numbers[::2]"
   ]
  },
  {
   "cell_type": "markdown",
   "id": "17bcd60c-ddec-4495-8781-6610e1687dd0",
   "metadata": {},
   "source": [
    "5. 짝수 번째 데이터를 모두 0으로 바꾸세요"
   ]
  },
  {
   "cell_type": "code",
   "execution_count": 21,
   "id": "e4c58829-0dd5-428c-9593-e60014212855",
   "metadata": {},
   "outputs": [
    {
     "data": {
      "text/plain": [
       "[0, 2, 0, 4, 0, 6, 0, 8, 0, 10, 0, 200, 0, 400, 0]"
      ]
     },
     "execution_count": 21,
     "metadata": {},
     "output_type": "execute_result"
    }
   ],
   "source": [
    "# 답안 풀이 참고 len(even[numbers[::2]]) 곱한 부분!\n",
    "numbers[::2] = [0]*len(numbers[::2])\n",
    "numbers"
   ]
  },
  {
   "cell_type": "markdown",
   "id": "e9d0a427-e98f-4709-9418-3b99c2da4f48",
   "metadata": {},
   "source": [
    "6. 데이터를 역순으로 나열하세요 (내림차순 정렬이 아닙니다)"
   ]
  },
  {
   "cell_type": "code",
   "execution_count": 22,
   "id": "95d1f916-9358-4a07-8f31-581526a6a581",
   "metadata": {},
   "outputs": [
    {
     "data": {
      "text/plain": [
       "[0, 400, 0, 200, 0, 10, 0, 8, 0, 6, 0, 4, 0, 2, 0]"
      ]
     },
     "execution_count": 22,
     "metadata": {},
     "output_type": "execute_result"
    }
   ],
   "source": [
    "numbers[::-1]"
   ]
  },
  {
   "cell_type": "markdown",
   "id": "40721253-8f85-446a-895a-d905b14f020e",
   "metadata": {},
   "source": [
    "- 다음 딕셔너리 데이터가 주어졌을 경우 요구사항대로 코드를 작성하세요<br>\n",
    "member = {'name':\"홍길동\",\"age\":20,\"address\":\"서울시 금천구\", 'score':90}"
   ]
  },
  {
   "cell_type": "code",
   "execution_count": 54,
   "id": "3c8c328e-8f52-4e6f-baa5-1556e9ee74b9",
   "metadata": {},
   "outputs": [],
   "source": [
    "member = {'name':\"홍길동\",\"age\":20,\"address\":\"서울시 금천구\", 'score':90}"
   ]
  },
  {
   "cell_type": "markdown",
   "id": "130da391-bd7d-482b-9f8d-373769e3253b",
   "metadata": {},
   "source": [
    "7. address값을 출력하세요"
   ]
  },
  {
   "cell_type": "code",
   "execution_count": 55,
   "id": "96d917bf-e85f-43ef-8d32-d980b95dd1d0",
   "metadata": {},
   "outputs": [
    {
     "name": "stdout",
     "output_type": "stream",
     "text": [
      "서울시 금천구\n",
      "서울시 금천구\n"
     ]
    }
   ],
   "source": [
    "print(member['address'])\n",
    "print(member.get('address'))"
   ]
  },
  {
   "cell_type": "markdown",
   "id": "8cdf53e8-a69a-47e9-9f8c-3af6a3ac7c14",
   "metadata": {},
   "source": [
    "8. score를 출력하고 member 딕셔너리에서 삭제하세요."
   ]
  },
  {
   "cell_type": "code",
   "execution_count": 56,
   "id": "17449fbc-1b64-4d5e-9a3e-451b222006e3",
   "metadata": {},
   "outputs": [
    {
     "name": "stdout",
     "output_type": "stream",
     "text": [
      "90\n",
      "{'name': '홍길동', 'age': 20, 'address': '서울시 금천구'}\n",
      "90\n",
      "{'name': '홍길동', 'age': 20, 'address': '서울시 금천구'}\n"
     ]
    }
   ],
   "source": [
    "# 방법1 - del은 삭제만\n",
    "print(member['score'])\n",
    "del member['score']\n",
    "print(member)\n",
    "\n",
    "# # 방법2 - pop는 출력되고 삭제됨\n",
    "member = {'name':\"홍길동\",\"age\":20,\"address\":\"서울시 금천구\", 'score':90}\n",
    "print(member.pop('score'))\n",
    "print(member)"
   ]
  },
  {
   "cell_type": "markdown",
   "id": "b6cd6161-16cd-45f4-a212-40f95d17ba5b",
   "metadata": {},
   "source": [
    "9. address를 '서울시 서대문구'로 변경하세요."
   ]
  },
  {
   "cell_type": "code",
   "execution_count": 182,
   "id": "550f768a-5a3e-4f76-9806-de6b129e3309",
   "metadata": {},
   "outputs": [
    {
     "data": {
      "text/plain": [
       "{'name': '홍길동', 'age': 20, 'address': '서울시 서대문구'}"
      ]
     },
     "execution_count": 182,
     "metadata": {},
     "output_type": "execute_result"
    }
   ],
   "source": [
    "member['address'] = '서울시 서대문구'\n",
    "member"
   ]
  },
  {
   "cell_type": "markdown",
   "id": "6bce8e44-ddcd-4b0c-aac9-c2e6a061379d",
   "metadata": {},
   "source": [
    "10. member 딕셔너리 데이터의 값을 리스트로 출력하세요"
   ]
  },
  {
   "cell_type": "code",
   "execution_count": 57,
   "id": "8e17c090-dba0-4e11-be1e-5cd8213f931e",
   "metadata": {},
   "outputs": [
    {
     "name": "stdout",
     "output_type": "stream",
     "text": [
      "['홍길동', 20, '서울시 금천구']\n",
      "<class 'list'>\n"
     ]
    }
   ],
   "source": [
    "print(list(member.values()))\n",
    "print(type(list(member.values())))"
   ]
  },
  {
   "cell_type": "code",
   "execution_count": 58,
   "id": "567509bf-4b90-4fa0-bfe8-3a585d3a3419",
   "metadata": {},
   "outputs": [
    {
     "name": "stdout",
     "output_type": "stream",
     "text": [
      "['name', 'age', 'address']\n",
      "<class 'list'>\n"
     ]
    }
   ],
   "source": [
    "# 키 값 출력\n",
    "print(list(member.keys()))\n",
    "print(type(list(member.keys())))"
   ]
  }
 ],
 "metadata": {
  "kernelspec": {
   "display_name": "Python 3 (ipykernel)",
   "language": "python",
   "name": "python3"
  },
  "language_info": {
   "codemirror_mode": {
    "name": "ipython",
    "version": 3
   },
   "file_extension": ".py",
   "mimetype": "text/x-python",
   "name": "python",
   "nbconvert_exporter": "python",
   "pygments_lexer": "ipython3",
   "version": "3.11.7"
  }
 },
 "nbformat": 4,
 "nbformat_minor": 5
}
