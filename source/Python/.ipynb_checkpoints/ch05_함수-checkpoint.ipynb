{
 "cells": [
  {
   "cell_type": "markdown",
   "id": "eb29b669-26fc-47ea-a165-79297caeaad1",
   "metadata": {},
   "source": [
    "<font size='6' color='blue'><b>ch05. 함수</b></font>"
   ]
  },
  {
   "cell_type": "markdown",
   "id": "4054a34e-5019-4069-abf7-3dfe36b04db9",
   "metadata": {},
   "source": [
    "- 반복해서 사용할 코드를 묶어서 구현해 놓은 것\n",
    "- 같은 이름의 함수는 덮어씀(오버로딩 불가)\n",
    "- 함수 정의(구현)\n",
    "    ```\n",
    "    def 함수명([인수1, 인수2, ...]):\n",
    "        명령어1\n",
    "        명령어2\n",
    "        ...\n",
    "    \n",
    "    ```"
   ]
  },
  {
   "cell_type": "markdown",
   "id": "a3566bfb-90b2-4c43-b57f-c34fcb77d3f2",
   "metadata": {},
   "source": [
    "# **1절 함수의 정의 및 사용(호출)**\n",
    "## **1.1 함수 정의**"
   ]
  },
  {
   "cell_type": "code",
   "execution_count": 1,
   "id": "866c3478-f3d5-45e3-821d-90b2e10f3705",
   "metadata": {},
   "outputs": [],
   "source": [
    "def my_hello(x, msg): # 함수정의\n",
    "    for i in range(x):\n",
    "        print(i, msg)"
   ]
  },
  {
   "cell_type": "code",
   "execution_count": 2,
   "id": "4f1b2858-6802-43c9-8906-4631f6d1555b",
   "metadata": {},
   "outputs": [
    {
     "name": "stdout",
     "output_type": "stream",
     "text": [
      "0 쉬는 시간입니다\n",
      "1 쉬는 시간입니다\n",
      "2 쉬는 시간입니다\n",
      "3 쉬는 시간입니다\n"
     ]
    }
   ],
   "source": [
    "my_hello(4, '쉬는 시간입니다')"
   ]
  },
  {
   "cell_type": "code",
   "execution_count": 5,
   "id": "afa9168c-f912-4be9-873f-e7069b164f7c",
   "metadata": {},
   "outputs": [
    {
     "data": {
      "text/plain": [
       "function"
      ]
     },
     "execution_count": 5,
     "metadata": {},
     "output_type": "execute_result"
    }
   ],
   "source": [
    "# 함수형 언어인 python, javascript에서 함수는 변수다.\n",
    "type(my_hello)"
   ]
  },
  {
   "cell_type": "code",
   "execution_count": 6,
   "id": "2fe8c9b6-6565-436b-845d-e8d22dca51e0",
   "metadata": {},
   "outputs": [
    {
     "data": {
      "text/plain": [
       "int"
      ]
     },
     "execution_count": 6,
     "metadata": {},
     "output_type": "execute_result"
    }
   ],
   "source": [
    "my_hello = 10\n",
    "type(my_hello)"
   ]
  },
  {
   "cell_type": "code",
   "execution_count": 11,
   "id": "547b27ce-da9f-41d9-9df8-c8f848b6904f",
   "metadata": {},
   "outputs": [],
   "source": [
    "# 오버로딩이 지원X. 덮어쓰기됨\n",
    "def my_hello(x): # 함수정의\n",
    "    for i in range(x):\n",
    "        print(i, \"함수는 복습 필수\")"
   ]
  },
  {
   "cell_type": "code",
   "execution_count": 10,
   "id": "e69f978f-d4cf-4904-a38c-56c5d588c199",
   "metadata": {},
   "outputs": [
    {
     "ename": "TypeError",
     "evalue": "my_hello() takes 1 positional argument but 2 were given",
     "output_type": "error",
     "traceback": [
      "\u001b[1;31m---------------------------------------------------------------------------\u001b[0m",
      "\u001b[1;31mTypeError\u001b[0m                                 Traceback (most recent call last)",
      "Cell \u001b[1;32mIn[10], line 1\u001b[0m\n\u001b[1;32m----> 1\u001b[0m my_hello(\u001b[38;5;241m4\u001b[39m, \u001b[38;5;124m'\u001b[39m\u001b[38;5;124m쉬는 시간\u001b[39m\u001b[38;5;124m'\u001b[39m)\n",
      "\u001b[1;31mTypeError\u001b[0m: my_hello() takes 1 positional argument but 2 were given"
     ]
    }
   ],
   "source": [
    "my_hello(4, '쉬는 시간')"
   ]
  },
  {
   "cell_type": "code",
   "execution_count": 15,
   "id": "d25deb66-3459-4b96-bcf1-6f01f5aee6e0",
   "metadata": {},
   "outputs": [
    {
     "name": "stdout",
     "output_type": "stream",
     "text": [
      "6\n",
      "3\n"
     ]
    }
   ],
   "source": [
    "def my_add(num1, num2, num3=0): # num3은 기본값을 갖는 인수 (↔ 순서인수)\n",
    "    \n",
    "    return num1 + num2 + num3\n",
    "print(my_add(1, 2, 3))\n",
    "print(my_add(1, 2))"
   ]
  },
  {
   "cell_type": "code",
   "execution_count": 16,
   "id": "10e746e8-a8fa-41f3-aed0-9f4acf6ce1b2",
   "metadata": {},
   "outputs": [],
   "source": [
    "# 이렇게는 불가\n",
    "# def my_add(num1, num2=0, num3): # num3은 기본값을 갖는 인수 (↔ 순서인수)    \n",
    "#     return num1 + num2 + num3\n",
    "# print(my_add(1, 2, 3))\n",
    "# print(my_add(1, 2))"
   ]
  },
  {
   "cell_type": "markdown",
   "id": "29f4ac5d-7463-4443-b5c2-abb3d8cc9155",
   "metadata": {},
   "source": [
    "## **1.2 docstring 함수 도움말**\n",
    "- 함수 도움말 (shift+tab로 볼 수 있음)"
   ]
  },
  {
   "cell_type": "code",
   "execution_count": 17,
   "id": "10df712a-e633-49c5-b85c-38ee48b70eea",
   "metadata": {},
   "outputs": [],
   "source": [
    "def fibonacci(n):\n",
    "    \"\"\"\n",
    "    매개변수로 들어온 n값 미만의 피보나치 수열을 출력하는 함수\n",
    "    ex. 인수로 10 : 0, 1, 1, 2, 3, 5, 8\n",
    "    ex. 인수로 5 : 0, 1, 1, 2, 3, 5\n",
    "    \"\"\"\n",
    "    a, b = 0, 1 # 내부적으로 튜플됨 (a, b) = (0, 1)\n",
    "    while a < n:\n",
    "        print(a, end=\". \")\n",
    "        a, b = b, a+b\n",
    "    print() # 개행"
   ]
  },
  {
   "cell_type": "code",
   "execution_count": 18,
   "id": "4cc97350-5cfe-4b62-9d13-08abda73925b",
   "metadata": {},
   "outputs": [
    {
     "name": "stdout",
     "output_type": "stream",
     "text": [
      "0. 1. 1. 2. 3. 5. 8. 13. 21. 34. 55. 89. \n"
     ]
    }
   ],
   "source": [
    "fibonacci(100)"
   ]
  },
  {
   "cell_type": "code",
   "execution_count": 19,
   "id": "dffbd9cb-eafb-4c59-b558-f5c2a7255774",
   "metadata": {},
   "outputs": [
    {
     "data": {
      "text/plain": [
       "function"
      ]
     },
     "execution_count": 19,
     "metadata": {},
     "output_type": "execute_result"
    }
   ],
   "source": [
    "type(fibonacci)"
   ]
  },
  {
   "cell_type": "code",
   "execution_count": 20,
   "id": "abefaa48-c2be-49b2-84cc-64a3bcec4330",
   "metadata": {},
   "outputs": [
    {
     "data": {
      "text/plain": [
       "<function __main__.fibonacci(n)>"
      ]
     },
     "execution_count": 20,
     "metadata": {},
     "output_type": "execute_result"
    }
   ],
   "source": [
    "fibonacci"
   ]
  },
  {
   "cell_type": "code",
   "execution_count": 21,
   "id": "ae3a9527-b851-4f61-9078-ac4b8411c40c",
   "metadata": {},
   "outputs": [
    {
     "data": {
      "text/plain": [
       "'__main__'"
      ]
     },
     "execution_count": 21,
     "metadata": {},
     "output_type": "execute_result"
    }
   ],
   "source": [
    "__name__"
   ]
  },
  {
   "cell_type": "code",
   "execution_count": 22,
   "id": "abe8a999-0767-425c-8703-aeeaf3ac5fe9",
   "metadata": {},
   "outputs": [
    {
     "name": "stdout",
     "output_type": "stream",
     "text": [
      "0. 1. 1. 2. 3. 5. 8. 13. 21. 34. 55. 89. \n"
     ]
    }
   ],
   "source": [
    "if __name__ == '__main__':\n",
    "    fibonacci(100)"
   ]
  },
  {
   "cell_type": "markdown",
   "id": "b128e688-35dd-4972-a557-6d28de463c17",
   "metadata": {},
   "source": [
    "Home에서 New File 생성 > fibonacci.py<br>\n",
    "<br>\n",
    "코드 작성><br>\n",
    "    def fibonacci(n):<br>\n",
    "    매개변수로 들어온 n값 미만의 피보나치 수열을 출력하는 함수<br>\n",
    "    ex. 인수로 10 : 0, 1, 1, 2, 3, 5, 8<br>\n",
    "    ex. 인수로 5 : 0, 1, 1, 2, 3, 5<br>\n",
    "    <br>\n",
    "    a, b = 0, 1 # 내부적으로 튜플됨 (a, b) = (0, 1)<br>\n",
    "    while a < n:<br>\n",
    "        print(a, end=\". \")<br>\n",
    "        a, b = b, a+b<br>\n",
    "    print() # 개행<br>\n",
    "<br>\n",
    "Anaconda Prompt 실행 > 아래와 같이 코드 작성하면 실행 가능<br>\n",
    "마지막엔 exit 해서 나옴<br>"
   ]
  },
  {
   "attachments": {
    "c8e68f4b-58d6-46ff-856c-045699a7f432.png": {
     "image/png": "[encoded data removed]"
    }
   },
   "cell_type": "markdown",
   "id": "bf8ac8eb-5704-4009-8c74-6115f0feb962",
   "metadata": {},
   "source": [
    "![image.png](attachment:c8e68f4b-58d6-46ff-856c-045699a7f432.png)"
   ]
  },
  {
   "cell_type": "code",
   "execution_count": 25,
   "id": "c3067f42-ea85-49cf-8f33-03ecc3685c51",
   "metadata": {},
   "outputs": [],
   "source": [
    "import fibonacci as fibo # fibonacci.py가 해석돼서 메모리 로드"
   ]
  },
  {
   "cell_type": "code",
   "execution_count": 24,
   "id": "e82f8188-12b0-4bdd-a2dd-9e7ecb2c41db",
   "metadata": {},
   "outputs": [
    {
     "name": "stdout",
     "output_type": "stream",
     "text": [
      "0. 1. 1. 2. 3. 5. 8. 13. 21. 34. 55. 89. \n"
     ]
    }
   ],
   "source": [
    "fibonacci.fibonacci(100)"
   ]
  },
  {
   "attachments": {
    "3b36def9-283b-438a-8756-6e11a021f469.png": {
     "image/png": "[encoded data removed]"
    }
   },
   "cell_type": "markdown",
   "id": "ab518b42-af48-4a5a-bf51-209f0822464a",
   "metadata": {},
   "source": [
    "**fibonacci.fibonacci( + shift + tab**\n",
    "![image.png](attachment:3b36def9-283b-438a-8756-6e11a021f469.png)"
   ]
  },
  {
   "cell_type": "markdown",
   "id": "6decb560-63e8-47fd-809f-2a73a05d89be",
   "metadata": {},
   "source": [
    "## **1.3 지역변수(local var)와 전역변수(global var)**"
   ]
  },
  {
   "cell_type": "code",
   "execution_count": 30,
   "id": "3f3281ab-053b-447b-8cea-a211b79af46d",
   "metadata": {},
   "outputs": [
    {
     "name": "stdout",
     "output_type": "stream",
     "text": [
      "100\n",
      "100\n"
     ]
    }
   ],
   "source": [
    "global_var = 100 # 전역변수\n",
    "def func1():\n",
    "    print(global_var)\n",
    "func1()\n",
    "print(global_var)"
   ]
  },
  {
   "cell_type": "code",
   "execution_count": 31,
   "id": "abbe82d3-f6c8-4f32-811f-16f50f5cdd56",
   "metadata": {},
   "outputs": [
    {
     "name": "stdout",
     "output_type": "stream",
     "text": [
      "100\n"
     ]
    }
   ],
   "source": [
    "def func2():\n",
    "    local_var = 100 # 지역변수 : 함수 내에서만 사용 가능한 변수\n",
    "    print(local_var)\n",
    "func2()"
   ]
  },
  {
   "cell_type": "code",
   "execution_count": 32,
   "id": "1030b540-f691-4dad-a5e6-1cbcee4860a2",
   "metadata": {},
   "outputs": [
    {
     "ename": "NameError",
     "evalue": "name 'local_var' is not defined",
     "output_type": "error",
     "traceback": [
      "\u001b[1;31m---------------------------------------------------------------------------\u001b[0m",
      "\u001b[1;31mNameError\u001b[0m                                 Traceback (most recent call last)",
      "Cell \u001b[1;32mIn[32], line 1\u001b[0m\n\u001b[1;32m----> 1\u001b[0m local_var\n",
      "\u001b[1;31mNameError\u001b[0m: name 'local_var' is not defined"
     ]
    }
   ],
   "source": [
    "local_var"
   ]
  },
  {
   "cell_type": "code",
   "execution_count": 34,
   "id": "46d1fe51-aa19-42ff-bb7e-b8fa63dbace7",
   "metadata": {},
   "outputs": [
    {
     "name": "stdout",
     "output_type": "stream",
     "text": [
      "200\n"
     ]
    }
   ],
   "source": [
    "g_var = 100 # 전역변수\n",
    "def func3():\n",
    "    g_var = 200 # 지역변수\n",
    "    print(g_var)\n",
    "func3()"
   ]
  },
  {
   "cell_type": "code",
   "execution_count": 35,
   "id": "cd5241e6-bd0a-4c63-8e54-f7c14c1009ba",
   "metadata": {},
   "outputs": [
    {
     "data": {
      "text/plain": [
       "100"
      ]
     },
     "execution_count": 35,
     "metadata": {},
     "output_type": "execute_result"
    }
   ],
   "source": [
    "g_var"
   ]
  },
  {
   "cell_type": "code",
   "execution_count": 37,
   "id": "47eceb5b-56cf-4897-add5-b2c4c3af1c31",
   "metadata": {},
   "outputs": [
    {
     "ename": "UnboundLocalError",
     "evalue": "cannot access local variable 'g_var' where it is not associated with a value",
     "output_type": "error",
     "traceback": [
      "\u001b[1;31m---------------------------------------------------------------------------\u001b[0m",
      "\u001b[1;31mUnboundLocalError\u001b[0m                         Traceback (most recent call last)",
      "Cell \u001b[1;32mIn[37], line 6\u001b[0m\n\u001b[0;32m      4\u001b[0m     g_var \u001b[38;5;241m=\u001b[39m \u001b[38;5;241m200\u001b[39m \u001b[38;5;66;03m# 지역변수 선언\u001b[39;00m\n\u001b[0;32m      5\u001b[0m     \u001b[38;5;28mprint\u001b[39m(g_var)\n\u001b[1;32m----> 6\u001b[0m func3()\n",
      "Cell \u001b[1;32mIn[37], line 3\u001b[0m, in \u001b[0;36mfunc3\u001b[1;34m()\u001b[0m\n\u001b[0;32m      2\u001b[0m \u001b[38;5;28;01mdef\u001b[39;00m \u001b[38;5;21mfunc3\u001b[39m():\n\u001b[1;32m----> 3\u001b[0m     \u001b[38;5;28mprint\u001b[39m(g_var)\n\u001b[0;32m      4\u001b[0m     g_var \u001b[38;5;241m=\u001b[39m \u001b[38;5;241m200\u001b[39m \u001b[38;5;66;03m# 지역변수 선언\u001b[39;00m\n\u001b[0;32m      5\u001b[0m     \u001b[38;5;28mprint\u001b[39m(g_var)\n",
      "\u001b[1;31mUnboundLocalError\u001b[0m: cannot access local variable 'g_var' where it is not associated with a value"
     ]
    }
   ],
   "source": [
    "g_var = 100 # 전역변수\n",
    "def func3():\n",
    "    print(g_var)\n",
    "    g_var = 200 # 지역변수 선언\n",
    "    print(g_var)\n",
    "func3()"
   ]
  },
  {
   "cell_type": "markdown",
   "id": "b821a93d-ca07-4fac-9e2b-3de0419dba46",
   "metadata": {},
   "source": [
    "차례대로 컴파일X, 선언문부터 컴파일<br>\n",
    "아직 g_var가 로컬변수에 할당되지 않아서 오류냄<br>\n",
    "=> UnboundLocalError : cannot access local variable 'g_var' where it is not associate with a value"
   ]
  },
  {
   "cell_type": "markdown",
   "id": "edd22e96-7ff4-4d02-aeb6-e44ceaea4f17",
   "metadata": {},
   "source": [
    "## **1.5 전역변수 수정 : global**"
   ]
  },
  {
   "cell_type": "code",
   "execution_count": 157,
   "id": "a424f063-3d6b-4bed-880d-e337e5526eaf",
   "metadata": {},
   "outputs": [
    {
     "name": "stdout",
     "output_type": "stream",
     "text": [
      "100\n"
     ]
    },
    {
     "data": {
      "text/plain": [
       "200"
      ]
     },
     "execution_count": 157,
     "metadata": {},
     "output_type": "execute_result"
    }
   ],
   "source": [
    "g_var = 100 # 전역변수\n",
    "def func3():\n",
    "    global g_var # 함수 내에서의 g_var는 전역변수를 쓸거야\n",
    "    print(g_var)\n",
    "    g_var = 200 # 전역변수에 값을 할당\n",
    "    \n",
    "func3()\n",
    "g_var"
   ]
  },
  {
   "cell_type": "markdown",
   "id": "5d0041e4-755f-4d02-a085-e417ebc098b2",
   "metadata": {},
   "source": [
    "## **1.6 값에 의한 호출 (call by value)**\n",
    "- 함수에 인수로 전달되는 변수가 <b>스칼라 변수(숫자, 문자, 논리)</b>일 경우"
   ]
  },
  {
   "cell_type": "code",
   "execution_count": 43,
   "id": "7cebc06b-cd7c-4c16-99b3-89f93e5f6a76",
   "metadata": {},
   "outputs": [
    {
     "data": {
      "text/plain": [
       "2416234259248"
      ]
     },
     "execution_count": 43,
     "metadata": {},
     "output_type": "execute_result"
    }
   ],
   "source": [
    "foo = 'ab' # 스칼라 변수\n",
    "id(foo) # 주소 뿌리기!"
   ]
  },
  {
   "cell_type": "code",
   "execution_count": 45,
   "id": "1f92c543-f5b7-4b3c-af9a-e16bc1a3681e",
   "metadata": {},
   "outputs": [
    {
     "name": "stdout",
     "output_type": "stream",
     "text": [
      "Before : ab의 주소는 2416234259248\n",
      "After : ababab의 주소는 2416364646704\n",
      "함수 호출 후 foo : ab의 주소는 2416234259248\n"
     ]
    }
   ],
   "source": [
    "def func1(f):\n",
    "    print(\"Before : {}의 주소는 {}\".format(f, id(f)))\n",
    "    f *= 3 # 매개변수는 지역변수\n",
    "    print(\"After : {}의 주소는 {}\".format(f, id(f)))\n",
    "func1(foo)\n",
    "print(\"함수 호출 후 foo : {}의 주소는 {}\".format(foo, id(foo)))"
   ]
  },
  {
   "cell_type": "markdown",
   "id": "c0345910-6f69-464d-99fb-01f08e9aed79",
   "metadata": {},
   "source": [
    "## **1.7 참조에 의한 호출 (call by reference)**\n",
    "- 함수에 전달되는 인수가 <b>리스트, 딕셔너리, 셋</b>일 경우"
   ]
  },
  {
   "cell_type": "code",
   "execution_count": 47,
   "id": "b044ec60-74a0-4610-92e7-dbff4a02a7f5",
   "metadata": {},
   "outputs": [
    {
     "name": "stdout",
     "output_type": "stream",
     "text": [
      "L의 내용은 [1, 2, 3], 주소는 2416363942080\n"
     ]
    }
   ],
   "source": [
    "L = [1,2,3]\n",
    "print(\"L의 내용은 {}, 주소는 {}\".format(L, id(L)))"
   ]
  },
  {
   "cell_type": "code",
   "execution_count": 48,
   "id": "63516c92-1fca-4077-a912-ba9d45993277",
   "metadata": {},
   "outputs": [
    {
     "name": "stdout",
     "output_type": "stream",
     "text": [
      "함수 내 before : L의 내용은 [1, 2, 3], 주소는 2416363942080\n",
      "함수 내 after : L의 내용은 [1, 2, 3, 4], 주소는 2416363942080\n"
     ]
    }
   ],
   "source": [
    "def func2(f):\n",
    "    print(\"함수 내 before : L의 내용은 {}, 주소는 {}\".format(L, id(L)))\n",
    "    f.append(4)\n",
    "    print(\"함수 내 after : L의 내용은 {}, 주소는 {}\".format(L, id(L)))\n",
    "func2(L)"
   ]
  },
  {
   "cell_type": "markdown",
   "id": "0dd53601-d85e-43e8-b803-341aed625817",
   "metadata": {},
   "source": [
    "# **2절 함수의 실행결과를 반환하는 return**\n",
    "- <b>여러 개 값을 반환</b>할 수 있다. (하나의 <b>튜플</b>로 반환)"
   ]
  },
  {
   "cell_type": "code",
   "execution_count": 50,
   "id": "6488dfbb-59aa-407b-8afb-ed0fc0bc4d92",
   "metadata": {},
   "outputs": [],
   "source": [
    "# 여러값을 return\n",
    "def swap(a, b):\n",
    "    return b, a"
   ]
  },
  {
   "cell_type": "code",
   "execution_count": 53,
   "id": "47ee8c71-09fe-4143-9afa-bfb39518e42c",
   "metadata": {},
   "outputs": [
    {
     "name": "stdout",
     "output_type": "stream",
     "text": [
      "함수 실행 전 x = 5, y = 10\n",
      "함수 실행 후 x = 10, y = 5\n"
     ]
    }
   ],
   "source": [
    "x, y = 5, 10\n",
    "print(\"함수 실행 전 x = {}, y = {}\".format(x, y))\n",
    "x, y = swap(x, y)\n",
    "print(\"함수 실행 후 x = {}, y = {}\".format(x, y))"
   ]
  },
  {
   "cell_type": "markdown",
   "id": "0d36a1ff-b307-4aeb-973d-dc9a947c8af3",
   "metadata": {},
   "source": [
    "# **3절 함수의 매개변수 ★**\n",
    "## **3.1 기본값을 갖는 매개변수**"
   ]
  },
  {
   "cell_type": "code",
   "execution_count": 86,
   "id": "2579b004-e66f-4fed-be44-d44942ae6a16",
   "metadata": {},
   "outputs": [],
   "source": [
    "def make_url(ip, port = 80): # 키워드 인수 아님)\n",
    "    # 순서인수, 기본값을 갖는 인수 순으로\n",
    "    return \"http://{}:{}\".format(ip, port)"
   ]
  },
  {
   "cell_type": "code",
   "execution_count": 87,
   "id": "a9e37c41-3c5f-4f05-86ad-479a8aaed8ac",
   "metadata": {},
   "outputs": [
    {
     "name": "stdout",
     "output_type": "stream",
     "text": [
      "http://localhost:80\n",
      "http://localhost:8090\n",
      "http://localhost:8090\n",
      "http://loalhost:8090\n"
     ]
    }
   ],
   "source": [
    "print(make_url(\"localhost\"))\n",
    "print(make_url(\"localhost\", 8090))\n",
    "print(make_url(\"localhost\", port = 8090))\n",
    "print(make_url(port=8090, ip=\"loalhost\"))"
   ]
  },
  {
   "cell_type": "markdown",
   "id": "76757098-1bf4-408e-8efe-cd818f60c2e0",
   "metadata": {},
   "source": [
    "## **3.2 튜플 매개변수로 이용한 가변인수 설정**\n",
    "*가변인수 : 인수개수가 가변"
   ]
  },
  {
   "cell_type": "code",
   "execution_count": 63,
   "id": "9307aa45-91e9-4c8b-8958-caf3e42e8f1f",
   "metadata": {},
   "outputs": [
    {
     "name": "stdout",
     "output_type": "stream",
     "text": [
      "Hello world\n"
     ]
    }
   ],
   "source": [
    "print(\"Hello\", \"world\") # 인수의 개수가 가변 = 가변인수"
   ]
  },
  {
   "cell_type": "code",
   "execution_count": 77,
   "id": "017437d1-1259-49d9-a208-f5c72eacba79",
   "metadata": {},
   "outputs": [
    {
     "name": "stdout",
     "output_type": "stream",
     "text": [
      "전달받은 args : (1, 2, 3)\n",
      "<class 'tuple'>\n"
     ]
    }
   ],
   "source": [
    "# args 앞에 *안할 경우\n",
    "def add(args):\n",
    "    print(\"전달받은 args :\", args)\n",
    "    print(type(args))\n",
    "\n",
    "add((1,2,3)) # 이런식으로 작성해야됨"
   ]
  },
  {
   "cell_type": "code",
   "execution_count": 74,
   "id": "98df3868-6bf9-42bd-985f-bd905e32c98b",
   "metadata": {},
   "outputs": [],
   "source": [
    "# args 앞에 * : args가 튜플로 전달 : 튜플매개변수\n",
    "def add(*args):\n",
    "    print(\"전달받은 args :\", args)\n",
    "    print(type(args))\n",
    "    sum = 0\n",
    "    for num in args:\n",
    "        sum += num\n",
    "    return sum"
   ]
  },
  {
   "cell_type": "code",
   "execution_count": 75,
   "id": "a9a66034-7be3-42e8-961b-90b2e0714cb8",
   "metadata": {},
   "outputs": [
    {
     "name": "stdout",
     "output_type": "stream",
     "text": [
      "전달받은 args : (1, 2, 3)\n",
      "<class 'tuple'>\n"
     ]
    },
    {
     "data": {
      "text/plain": [
       "6"
      ]
     },
     "execution_count": 75,
     "metadata": {},
     "output_type": "execute_result"
    }
   ],
   "source": [
    "add(1,2,3)"
   ]
  },
  {
   "cell_type": "code",
   "execution_count": 76,
   "id": "7279f078-c25c-42cf-9e64-9ba1c81222fb",
   "metadata": {},
   "outputs": [
    {
     "name": "stdout",
     "output_type": "stream",
     "text": [
      "전달받은 args : (1, 2, 3, 4, 5, 6)\n",
      "<class 'tuple'>\n",
      "21\n",
      "전달받은 args : (1,)\n",
      "<class 'tuple'>\n",
      "1\n",
      "전달받은 args : (1, 2)\n",
      "<class 'tuple'>\n",
      "3\n"
     ]
    }
   ],
   "source": [
    "print(add(1,2,3,4,5,6,))\n",
    "print(add(1))\n",
    "print(add(1,2))"
   ]
  },
  {
   "cell_type": "code",
   "execution_count": 81,
   "id": "e74f9163-4f44-4f51-9ec9-d7bc0bc417e7",
   "metadata": {},
   "outputs": [],
   "source": [
    "def concat(*args, sep):\n",
    "    return sep.join(args)"
   ]
  },
  {
   "cell_type": "code",
   "execution_count": 82,
   "id": "7d3d1fcf-4ac0-46bb-a8e5-c5473270c575",
   "metadata": {},
   "outputs": [
    {
     "ename": "TypeError",
     "evalue": "concat() missing 1 required keyword-only argument: 'sep'",
     "output_type": "error",
     "traceback": [
      "\u001b[1;31m---------------------------------------------------------------------------\u001b[0m",
      "\u001b[1;31mTypeError\u001b[0m                                 Traceback (most recent call last)",
      "Cell \u001b[1;32mIn[82], line 1\u001b[0m\n\u001b[1;32m----> 1\u001b[0m concat(\u001b[38;5;124m\"\u001b[39m\u001b[38;5;124mC\u001b[39m\u001b[38;5;124m\"\u001b[39m, \u001b[38;5;124m\"\u001b[39m\u001b[38;5;124mPython\u001b[39m\u001b[38;5;124m\"\u001b[39m, \u001b[38;5;124m\"\u001b[39m\u001b[38;5;124mOracle\u001b[39m\u001b[38;5;124m\"\u001b[39m, \u001b[38;5;124m\"\u001b[39m\u001b[38;5;124m~\u001b[39m\u001b[38;5;124m\"\u001b[39m)\n",
      "\u001b[1;31mTypeError\u001b[0m: concat() missing 1 required keyword-only argument: 'sep'"
     ]
    }
   ],
   "source": [
    "concat(\"C\", \"Python\", \"Oracle\", \"~\")\n",
    "# 어디까지가 *args이고 어디가 sep 구분 어려움 -> 에러"
   ]
  },
  {
   "cell_type": "code",
   "execution_count": 83,
   "id": "b119e1ad-8f28-4984-9433-e0aa1cc234bf",
   "metadata": {},
   "outputs": [
    {
     "data": {
      "text/plain": [
       "'C~python~Oracle'"
      ]
     },
     "execution_count": 83,
     "metadata": {},
     "output_type": "execute_result"
    }
   ],
   "source": [
    "# 해결책1\n",
    "concat(\"C\", \"python\", \"Oracle\", sep=\"~\")"
   ]
  },
  {
   "cell_type": "code",
   "execution_count": 84,
   "id": "bb211203-6e66-4342-9d21-c28e76f68e0d",
   "metadata": {},
   "outputs": [],
   "source": [
    "# 해결책2 (강추)☆\n",
    "def concat(sep, *args): # 순서인수 > 튜플인수\n",
    "    return sep.join(args)"
   ]
  },
  {
   "cell_type": "code",
   "execution_count": 85,
   "id": "58f87f44-7040-4023-be97-f8514430be0e",
   "metadata": {},
   "outputs": [
    {
     "data": {
      "text/plain": [
       "'C~python~Oracle'"
      ]
     },
     "execution_count": 85,
     "metadata": {},
     "output_type": "execute_result"
    }
   ],
   "source": [
    "# sep : \"~\" / *args : \"C\", \"python\", \"Oracle\"\n",
    "concat(\"~\", \"C\", \"python\", \"Oracle\")"
   ]
  },
  {
   "cell_type": "code",
   "execution_count": 89,
   "id": "379a0d25-c413-4d68-b913-30d599213b85",
   "metadata": {},
   "outputs": [],
   "source": [
    "# 해결책3\n",
    "def concat(*args, sep=\"/\"): # 순서인수 > 튜플인수 > 키워드인수 (순서★)\n",
    "    return sep.join(args)"
   ]
  },
  {
   "cell_type": "code",
   "execution_count": 90,
   "id": "ac5ad129-4aa4-4182-9d43-6122f573bf9c",
   "metadata": {},
   "outputs": [
    {
     "data": {
      "text/plain": [
       "'C/python/Oracle/~'"
      ]
     },
     "execution_count": 90,
     "metadata": {},
     "output_type": "execute_result"
    }
   ],
   "source": [
    "concat(\"C\", \"python\", \"Oracle\", \"~\")"
   ]
  },
  {
   "cell_type": "code",
   "execution_count": 91,
   "id": "666600a9-5899-46b9-8ae9-d1618fd20fb6",
   "metadata": {},
   "outputs": [
    {
     "data": {
      "text/plain": [
       "'C~python~Oracle'"
      ]
     },
     "execution_count": 91,
     "metadata": {},
     "output_type": "execute_result"
    }
   ],
   "source": [
    "concat(\"C\", \"python\", \"Oracle\", sep=\"~\")"
   ]
  },
  {
   "cell_type": "markdown",
   "id": "16c97d40-4721-4e29-813f-835f18a205d3",
   "metadata": {},
   "source": [
    "## **3.3 딕셔너리 매개변수**"
   ]
  },
  {
   "cell_type": "code",
   "execution_count": 117,
   "id": "2ba3200a-7fbd-4539-84b3-46a96a027aba",
   "metadata": {},
   "outputs": [
    {
     "name": "stdout",
     "output_type": "stream",
     "text": [
      "{'name': '홍길동', 'age': 20}\n",
      "<class 'dict'>\n"
     ]
    }
   ],
   "source": [
    "def func(args):\n",
    "    print(args)\n",
    "    print(type(args))\n",
    "\n",
    "dic = {'name':'홍길동', 'age':20}\n",
    "func(dic)"
   ]
  },
  {
   "cell_type": "code",
   "execution_count": 114,
   "id": "339329a3-d6fe-409f-9d29-3f2ed058b3fb",
   "metadata": {},
   "outputs": [],
   "source": [
    "def func(**args): # args가 딕셔너리로 전달\n",
    "    print(args)\n",
    "    print(type(args))\n",
    "    for key, value in args.items():\n",
    "        print(\"{}:{}\".format(key, value))"
   ]
  },
  {
   "cell_type": "code",
   "execution_count": 115,
   "id": "e00fd973-45a1-41d0-ae00-b046962c2b0d",
   "metadata": {},
   "outputs": [
    {
     "name": "stdout",
     "output_type": "stream",
     "text": [
      "{'name': '홍길동', 'age': 20}\n",
      "<class 'dict'>\n",
      "name:홍길동\n",
      "age:20\n"
     ]
    }
   ],
   "source": [
    "dic = {'name':'홍길동', 'age':20}\n",
    "# func(dic)\n",
    "func(name='홍길동', age=20)"
   ]
  },
  {
   "cell_type": "code",
   "execution_count": 116,
   "id": "04ba1cab-0851-490a-902a-76700486d438",
   "metadata": {},
   "outputs": [
    {
     "name": "stdout",
     "output_type": "stream",
     "text": [
      "{'gameName': '서바이벌C', 'year': 2024, 'price': 33000}\n",
      "<class 'dict'>\n",
      "gameName:서바이벌C\n",
      "year:2024\n",
      "price:33000\n"
     ]
    }
   ],
   "source": [
    "func(gameName=\"서바이벌C\", year=2024, price=33000)"
   ]
  },
  {
   "cell_type": "markdown",
   "id": "a9075531-7350-4c5f-8ba2-9fbe89f912d0",
   "metadata": {},
   "source": [
    "## **3.4 함수 정의 시 매개변수의 순서**\n",
    "- 순서인수 > 튜플인수(*) > 키워드인수(매개변수 이름을 명시) > 딕셔너리인수(**)"
   ]
  },
  {
   "cell_type": "code",
   "execution_count": 112,
   "id": "0c78219e-5de6-4d9b-9983-da09677aeb1c",
   "metadata": {},
   "outputs": [],
   "source": [
    "def func(a, b, c, *d, e=10, **f):\n",
    "    print('a =', a)\n",
    "    print('b =', b)\n",
    "    print('c =', c)\n",
    "    print('d =', d)\n",
    "    print('e =', e)\n",
    "    print('f =', f)"
   ]
  },
  {
   "cell_type": "code",
   "execution_count": 113,
   "id": "9457c82f-41a5-4018-863f-77cd958e8d40",
   "metadata": {},
   "outputs": [
    {
     "name": "stdout",
     "output_type": "stream",
     "text": [
      "a = 10\n",
      "b = 20\n",
      "c = 30\n",
      "d = (1, 2, 3, 4, 5)\n",
      "e = 100\n",
      "f = {'height': 180, 'name': '홍길동', 'address': '서울시'}\n"
     ]
    }
   ],
   "source": [
    "func(10,20,30,1,2,3,4,5, e=100, height=180, name='홍길동',address='서울시')"
   ]
  },
  {
   "cell_type": "markdown",
   "id": "b26f77f3-816b-4868-a01e-87bf77b6f304",
   "metadata": {},
   "source": [
    "## **3.5 인수의 언패킹**\n",
    "### **튜플 인수 언패킹**"
   ]
  },
  {
   "cell_type": "code",
   "execution_count": 119,
   "id": "bd07aceb-7edb-4d06-a937-009a94b70adc",
   "metadata": {},
   "outputs": [],
   "source": [
    "# args앞에 * : args가 튜플로 전달 : 튜플매개변수\n",
    "def add(*args): \n",
    "    #print(\"전달받은 args :\", args)\n",
    "    #print(type(args))\n",
    "    sum = 0\n",
    "    for num in args:\n",
    "        sum += num\n",
    "    return sum"
   ]
  },
  {
   "cell_type": "code",
   "execution_count": 120,
   "id": "e7642cf5-3441-43a3-98f0-ec3aed9ba571",
   "metadata": {},
   "outputs": [
    {
     "ename": "TypeError",
     "evalue": "unsupported operand type(s) for +=: 'int' and 'tuple'",
     "output_type": "error",
     "traceback": [
      "\u001b[1;31m---------------------------------------------------------------------------\u001b[0m",
      "\u001b[1;31mTypeError\u001b[0m                                 Traceback (most recent call last)",
      "Cell \u001b[1;32mIn[120], line 2\u001b[0m\n\u001b[0;32m      1\u001b[0m data \u001b[38;5;241m=\u001b[39m (\u001b[38;5;241m1\u001b[39m,\u001b[38;5;241m2\u001b[39m,\u001b[38;5;241m3\u001b[39m)\n\u001b[1;32m----> 2\u001b[0m add(data)\n",
      "Cell \u001b[1;32mIn[119], line 7\u001b[0m, in \u001b[0;36madd\u001b[1;34m(*args)\u001b[0m\n\u001b[0;32m      5\u001b[0m \u001b[38;5;28msum\u001b[39m \u001b[38;5;241m=\u001b[39m \u001b[38;5;241m0\u001b[39m\n\u001b[0;32m      6\u001b[0m \u001b[38;5;28;01mfor\u001b[39;00m num \u001b[38;5;129;01min\u001b[39;00m args:\n\u001b[1;32m----> 7\u001b[0m     \u001b[38;5;28msum\u001b[39m \u001b[38;5;241m+\u001b[39m\u001b[38;5;241m=\u001b[39m num\n\u001b[0;32m      8\u001b[0m \u001b[38;5;28;01mreturn\u001b[39;00m \u001b[38;5;28msum\u001b[39m\n",
      "\u001b[1;31mTypeError\u001b[0m: unsupported operand type(s) for +=: 'int' and 'tuple'"
     ]
    }
   ],
   "source": [
    "data = (1,2,3) # add((1,2,3))으로 전달되어 에러남\n",
    "add(data)"
   ]
  },
  {
   "cell_type": "code",
   "execution_count": 124,
   "id": "4a6c8ad4-329b-4411-b47e-8001846e1340",
   "metadata": {},
   "outputs": [
    {
     "data": {
      "text/plain": [
       "6"
      ]
     },
     "execution_count": 124,
     "metadata": {},
     "output_type": "execute_result"
    }
   ],
   "source": [
    "data = (1,2,3) # add(1,2,3) 데이터는 튜플로 전달되어야 하므로 (*data)\n",
    "add(*data)"
   ]
  },
  {
   "cell_type": "markdown",
   "id": "5fab13a0-721a-4b16-8927-19a5dbc67cce",
   "metadata": {},
   "source": [
    "### **딕셔너리 인수 언패킹**"
   ]
  },
  {
   "cell_type": "code",
   "execution_count": 125,
   "id": "5f528097-c3b0-4757-8e26-14adc1907a99",
   "metadata": {},
   "outputs": [],
   "source": [
    "def func(**args): # args가 딕셔너리로 전달\n",
    "    #print(args)\n",
    "    #print(type(args))\n",
    "    for key, value in args.items():\n",
    "        print(\"{} : {}\".format(key, value))"
   ]
  },
  {
   "cell_type": "code",
   "execution_count": 127,
   "id": "31179fce-e54f-4061-b5e9-4e888f855454",
   "metadata": {},
   "outputs": [
    {
     "ename": "TypeError",
     "evalue": "func() takes 0 positional arguments but 1 was given",
     "output_type": "error",
     "traceback": [
      "\u001b[1;31m---------------------------------------------------------------------------\u001b[0m",
      "\u001b[1;31mTypeError\u001b[0m                                 Traceback (most recent call last)",
      "Cell \u001b[1;32mIn[127], line 2\u001b[0m\n\u001b[0;32m      1\u001b[0m dic \u001b[38;5;241m=\u001b[39m {\u001b[38;5;124m\"\u001b[39m\u001b[38;5;124mname\u001b[39m\u001b[38;5;124m\"\u001b[39m:\u001b[38;5;124m\"\u001b[39m\u001b[38;5;124m홍길동\u001b[39m\u001b[38;5;124m\"\u001b[39m, \u001b[38;5;124m\"\u001b[39m\u001b[38;5;124mage\u001b[39m\u001b[38;5;124m\"\u001b[39m:\u001b[38;5;241m30\u001b[39m}\n\u001b[1;32m----> 2\u001b[0m func(dic)\n",
      "\u001b[1;31mTypeError\u001b[0m: func() takes 0 positional arguments but 1 was given"
     ]
    }
   ],
   "source": [
    "dic = {\"name\":\"홍길동\", \"age\":30}\n",
    "func(dic)"
   ]
  },
  {
   "cell_type": "code",
   "execution_count": 128,
   "id": "4ffa0794-9767-40b3-8938-c3487a105f14",
   "metadata": {},
   "outputs": [
    {
     "name": "stdout",
     "output_type": "stream",
     "text": [
      "name : 홍길동\n",
      "age : 30\n"
     ]
    }
   ],
   "source": [
    "# 딕셔너리 인수 언패킹\n",
    "dic = {\"name\":\"홍길동\", \"age\":30}\n",
    "func(**dic)"
   ]
  },
  {
   "cell_type": "markdown",
   "id": "8662ff28-c219-4786-9e77-360c789ea8de",
   "metadata": {},
   "source": [
    "# **4절 람다식**\n",
    "- 람다식은 **작은 익명함수**를 의미함\n",
    "- 실행할 문장을 **한 문장만 작성**할 수 있음\n",
    "- **리스트 컴프리헨션**과 같이 참조해서 학습 추천\n",
    "- ex. <b>map(), filter()</b>에서 사용할 예정"
   ]
  },
  {
   "cell_type": "code",
   "execution_count": 130,
   "id": "fbf523ea-106e-4463-ae45-6717a456c271",
   "metadata": {},
   "outputs": [
    {
     "data": {
      "text/plain": [
       "8"
      ]
     },
     "execution_count": 130,
     "metadata": {},
     "output_type": "execute_result"
    }
   ],
   "source": [
    "# 일반함수\n",
    "def add(a, b):\n",
    "    return a+b\n",
    "add(3, 5)"
   ]
  },
  {
   "cell_type": "code",
   "execution_count": 131,
   "id": "f23479d3-ed5b-40d9-9d92-1cbe3508f4e0",
   "metadata": {},
   "outputs": [
    {
     "data": {
      "text/plain": [
       "function"
      ]
     },
     "execution_count": 131,
     "metadata": {},
     "output_type": "execute_result"
    }
   ],
   "source": [
    "type(add)"
   ]
  },
  {
   "cell_type": "code",
   "execution_count": 132,
   "id": "9a2efca2-9a99-49f9-b55b-28dcdf98420d",
   "metadata": {},
   "outputs": [],
   "source": [
    "# 람다식\n",
    "add = lambda a, b : a + b"
   ]
  },
  {
   "cell_type": "code",
   "execution_count": 133,
   "id": "3b27760c-d71c-47af-920a-3df80b8ccf16",
   "metadata": {},
   "outputs": [
    {
     "data": {
      "text/plain": [
       "10"
      ]
     },
     "execution_count": 133,
     "metadata": {},
     "output_type": "execute_result"
    }
   ],
   "source": [
    "add(5, 5)"
   ]
  },
  {
   "cell_type": "code",
   "execution_count": 134,
   "id": "0db2f0b0-1dcb-47e5-9b02-80f5e271bf9d",
   "metadata": {},
   "outputs": [
    {
     "data": {
      "text/plain": [
       "function"
      ]
     },
     "execution_count": 134,
     "metadata": {},
     "output_type": "execute_result"
    }
   ],
   "source": [
    "type(add)"
   ]
  },
  {
   "attachments": {
    "f1f1c23f-b700-407f-bdc3-16c3dfdd9393.png": {
     "image/png": "[encoded data removed]"
    }
   },
   "cell_type": "markdown",
   "id": "e9b60177-7b99-48fc-b0af-8f3216329a2e",
   "metadata": {},
   "source": [
    "![image.png](attachment:f1f1c23f-b700-407f-bdc3-16c3dfdd9393.png)"
   ]
  },
  {
   "cell_type": "code",
   "execution_count": 135,
   "id": "f6dc5a48-764e-4349-860e-3fa3a45bae94",
   "metadata": {},
   "outputs": [
    {
     "data": {
      "text/plain": [
       "11"
      ]
     },
     "execution_count": 135,
     "metadata": {},
     "output_type": "execute_result"
    }
   ],
   "source": [
    "# Q.람다 왜 씀? A.함수의 매개변수로 (lambda a, b : a + b)를 쓰기위해\n",
    "(lambda a, b : a + b)(5, 6)"
   ]
  },
  {
   "cell_type": "markdown",
   "id": "de24cccd-c20c-4aa3-84ce-13bf3322de52",
   "metadata": {},
   "source": [
    "## **매개변수로 람다식 이용**"
   ]
  },
  {
   "cell_type": "code",
   "execution_count": 136,
   "id": "54bc8e2e-328f-4dbf-bd62-ce3461070170",
   "metadata": {},
   "outputs": [
    {
     "data": {
      "text/plain": [
       "9"
      ]
     },
     "execution_count": 136,
     "metadata": {},
     "output_type": "execute_result"
    }
   ],
   "source": [
    "# lambda x : x**2 | 변수에 담는 용도 X 매개변수 전달 용도 O\n",
    "f = lambda x : x**2 \n",
    "f(3)"
   ]
  },
  {
   "cell_type": "code",
   "execution_count": 144,
   "id": "c3f17a31-100b-48c1-a0ec-7b2f7695922c",
   "metadata": {},
   "outputs": [],
   "source": [
    "def map_template(func, L=[]):\n",
    "    result = []\n",
    "    for data in L:\n",
    "        result.append(func(data)) # result.append(data) X\n",
    "    return result"
   ]
  },
  {
   "cell_type": "code",
   "execution_count": 145,
   "id": "b73b0e34-9390-4c58-9666-70c1b2151978",
   "metadata": {},
   "outputs": [
    {
     "data": {
      "text/plain": [
       "[1, 4, 9, 16, 25]"
      ]
     },
     "execution_count": 145,
     "metadata": {},
     "output_type": "execute_result"
    }
   ],
   "source": [
    "list_data = [1,2,3,4,5]\n",
    "map_template(lambda x : x**2, list_data)"
   ]
  },
  {
   "cell_type": "code",
   "execution_count": 146,
   "id": "defec2bc-6a24-470a-b987-509b8cd6c8a1",
   "metadata": {},
   "outputs": [
    {
     "data": {
      "text/plain": [
       "[2, 4, 6, 8, 10]"
      ]
     },
     "execution_count": 146,
     "metadata": {},
     "output_type": "execute_result"
    }
   ],
   "source": [
    "list(map(lambda x:x*2, list_data))"
   ]
  },
  {
   "cell_type": "code",
   "execution_count": 147,
   "id": "b18113bd-4512-44f9-b1d0-bf1a3b44e3b1",
   "metadata": {},
   "outputs": [
    {
     "data": {
      "text/plain": [
       "[2, 4, 6, 8, 10]"
      ]
     },
     "execution_count": 147,
     "metadata": {},
     "output_type": "execute_result"
    }
   ],
   "source": [
    "# list comprehension 이용\n",
    "[x*2 for x in list_data]"
   ]
  },
  {
   "cell_type": "code",
   "execution_count": null,
   "id": "39486760-bc81-48c0-b496-8e27df684ab9",
   "metadata": {},
   "outputs": [],
   "source": [
    "list_data = [1,2,3,4,5]"
   ]
  },
  {
   "cell_type": "code",
   "execution_count": 148,
   "id": "13d4a8dd-c74e-4ee8-be8a-1fa569b3c0a0",
   "metadata": {},
   "outputs": [],
   "source": [
    "def filter_template(func, L=[]):\n",
    "    result = []\n",
    "    for data in L:\n",
    "        if func(data):\n",
    "            result.append(data)\n",
    "    return result"
   ]
  },
  {
   "cell_type": "code",
   "execution_count": 149,
   "id": "ef6fb47b-f328-41af-a47d-49890c11f747",
   "metadata": {},
   "outputs": [
    {
     "data": {
      "text/plain": [
       "[2, 4]"
      ]
     },
     "execution_count": 149,
     "metadata": {},
     "output_type": "execute_result"
    }
   ],
   "source": [
    "filter_template(lambda x : x%2==0, list_data)\n"
   ]
  },
  {
   "cell_type": "code",
   "execution_count": 150,
   "id": "c9ea9c0a-9b2b-4383-bc38-c9d430239634",
   "metadata": {},
   "outputs": [
    {
     "data": {
      "text/plain": [
       "[2, 4]"
      ]
     },
     "execution_count": 150,
     "metadata": {},
     "output_type": "execute_result"
    }
   ],
   "source": [
    "list(filter(lambda x : x%2==0, list_data))"
   ]
  },
  {
   "cell_type": "code",
   "execution_count": null,
   "id": "39a976a7-76ba-4ad5-a4d0-a6b8fa14d81c",
   "metadata": {},
   "outputs": [],
   "source": [
    "# list comprehension 이용\n",
    "[x for x in list_data if x%2==0]"
   ]
  },
  {
   "cell_type": "markdown",
   "id": "b5994e9b-f731-40b8-8865-d25f680b5f9a",
   "metadata": {},
   "source": [
    "# **5절 파이썬 내장함수**\n",
    "- print처럼 import하지 않고 즉시 사용 가능한 함수"
   ]
  },
  {
   "cell_type": "markdown",
   "id": "2cde8c17-c3eb-48b9-babe-b68e5e39cb74",
   "metadata": {},
   "source": [
    "# **연습문제**"
   ]
  },
  {
   "cell_type": "markdown",
   "id": "7ddc4575-2821-44f3-814a-491beb2ab58b",
   "metadata": {},
   "source": [
    "1. 함수의 인자로 리스트를 받은 후,<br>\n",
    "리스트 내에 있는 모든 정수값에 대하여 최대값과 최소값을 return하는<br>\n",
    "함수 get_max_min(data_list)를 구현하고 호출하시오"
   ]
  },
  {
   "cell_type": "code",
   "execution_count": 162,
   "id": "e4d06376-0caf-4229-a13e-1fa229429727",
   "metadata": {},
   "outputs": [
    {
     "name": "stdin",
     "output_type": "stream",
     "text": [
      "리스트의 값을 입력해주세요 >> 1\n"
     ]
    }
   ],
   "source": [
    "num_list = []\n",
    "num = input(\"리스트의 값을 입력해주세요 >>\")\n",
    "num_list.append(num)"
   ]
  },
  {
   "cell_type": "code",
   "execution_count": 163,
   "id": "20e73d9a-f52c-46ea-8b7a-5707316dc9a7",
   "metadata": {},
   "outputs": [],
   "source": [
    "num_list = [1,6,10,80,999,5]\n",
    "def get_max_min(data_list):\n",
    "    max_ = max(num_list)\n",
    "    min_ = min(num_list)\n",
    "    return min_, max_"
   ]
  },
  {
   "cell_type": "code",
   "execution_count": 164,
   "id": "d06ab946-bb1d-42d2-a335-62e5ef1815ce",
   "metadata": {},
   "outputs": [
    {
     "data": {
      "text/plain": [
       "(1, 999)"
      ]
     },
     "execution_count": 164,
     "metadata": {},
     "output_type": "execute_result"
    }
   ],
   "source": [
    "get_max_min(num_list)"
   ]
  },
  {
   "cell_type": "markdown",
   "id": "37f81d02-fd55-4b7b-a6e5-ac20ed5e2623",
   "metadata": {},
   "source": [
    "2. <b>1~45사이의 로또번호 6개를 반환</b>하는 <b>make_lotto()함수를 정의하고 호출</b>\n",
    "하시오"
   ]
  },
  {
   "cell_type": "code",
   "execution_count": 161,
   "id": "e07aa0d1-0313-4500-9d35-2b3ff7c7e737",
   "metadata": {},
   "outputs": [
    {
     "data": {
      "text/plain": [
       "[31, 6, 9, 40, 43, 28]"
      ]
     },
     "execution_count": 161,
     "metadata": {},
     "output_type": "execute_result"
    }
   ],
   "source": [
    "import random\n",
    "lotto_num = []\n",
    "def make_lotto():\n",
    "    for i in range(6):\n",
    "        ran = random.randint(1, 46)\n",
    "        lotto_num.append(ran)\n",
    "    return lotto_num\n",
    "make_lotto()"
   ]
  },
  {
   "cell_type": "markdown",
   "id": "e96dd497-c140-40b4-96f8-3b990578b60e",
   "metadata": {},
   "source": [
    "3. 369게임은 숫자에 <b>3,6,9가 들어가면 박수를 치고</b>,<br>\n",
    "<b>나머지는 숫자는 그대로</b> 이야기하는 게임이다.<br>\n",
    "369게임을 시뮬레이션하는 함수를 정의하라<br>\n",
    "\n",
    "1단계 : game_369([1,2,3,4,5,6,7,8,9,13,20,33]) <br>\n",
    "→ 결과 : [1,2, ‘짝’, 4,5, ‘짝’,7,8, ‘짝’, ‘짝’, 20,‘짝짝’] <br>\n",
    "2단계 : game_369(1,2,3,4,5,6,7,8,9,13,20,33) #튜플인수이용 <br>\n",
    "→ 결과 : [1,2, ‘짝’, 4,5, ‘짝’,7,8, ‘짝’, ‘짝’, 20,‘짝짝’]"
   ]
  },
  {
   "cell_type": "code",
   "execution_count": null,
   "id": "8cfa089a-a016-446a-81ff-161be25cee42",
   "metadata": {},
   "outputs": [],
   "source": [
    "num = [1,2,3,4,5,6,7,8,9,13,20,33]\n",
    "def game_369():\n",
    "    while(num\n",
    "    if (num=%3%) | (num=%6%) | (num=%9%):\n",
    "        print('짝')\n",
    "    else:\n",
    "        print(\"{}\".format(num))\n",
    "    "
   ]
  }
 ],
 "metadata": {
  "kernelspec": {
   "display_name": "Python 3 (ipykernel)",
   "language": "python",
   "name": "python3"
  },
  "language_info": {
   "codemirror_mode": {
    "name": "ipython",
    "version": 3
   },
   "file_extension": ".py",
   "mimetype": "text/x-python",
   "name": "python",
   "nbconvert_exporter": "python",
   "pygments_lexer": "ipython3",
   "version": "3.11.7"
  }
 },
 "nbformat": 4,
 "nbformat_minor": 5
}
