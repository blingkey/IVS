{
 "cells": [
  {
   "cell_type": "markdown",
   "id": "a7a3b8f9-d2a2-47f1-839a-f4e85753d876",
   "metadata": {},
   "source": [
    "<font size='6' color='blue'><b>ch07. 객체지향 프로그래밍</b></font>"
   ]
  },
  {
   "cell_type": "markdown",
   "id": "f0878635-8191-4367-a7c5-ceb59705f9c9",
   "metadata": {},
   "source": [
    "# **1절 객체와 클래스**\n",
    "```\n",
    "class 클래스명(상속받을 클래스명): 변수나 함수들을 선언\n",
    "```"
   ]
  },
  {
   "cell_type": "code",
   "execution_count": 22,
   "id": "18c20a17-88c4-4a8e-8438-506fc519c3ee",
   "metadata": {},
   "outputs": [],
   "source": [
    "class Person:\n",
    "    \"Person 클래스는 어쩌구 저쩌구 여러 줄 설명하는 docstring\"\n",
    "    pass\n",
    "p1 = Person()"
   ]
  },
  {
   "cell_type": "code",
   "execution_count": 49,
   "id": "42254042-4a57-4f2a-bd9c-8cd7fd27d861",
   "metadata": {},
   "outputs": [],
   "source": [
    "class Person:\n",
    "    'Person은 이름과 성별 멤버변수가 있는 객체타입 입니다.'\n",
    "    # 생성자 함수(__init__): 객체 생성 시 호출됨\n",
    "    def __init__(self, name='토모츠나', gender='남자'):\n",
    "        self.name = name\n",
    "        self.gender = gender #자바 this.OOO 같은거\n",
    "        print(\"{}, {} Person 객체가 생성되었습니다.\".format(self.name, self.gender))\n",
    "    def print_info(self):\n",
    "        print(\"{}님은 {}입니다.\".format(self.name, self.gender))\n",
    "    def printCnt(self, cnt):\n",
    "        for i in range(cnt):\n",
    "            print(self.name, end='\\t')\n",
    "    def __str__(self): # 새로 작성하면, 상속된 것이 아닌 새로 작성한 함수로 적용됨\n",
    "        return \"{}\\t 성별은 {}\".format(self.name, self.gender)"
   ]
  },
  {
   "cell_type": "code",
   "execution_count": 51,
   "id": "ea7b17b4-9b72-484c-8001-909fb62ecde1",
   "metadata": {},
   "outputs": [
    {
     "name": "stdout",
     "output_type": "stream",
     "text": [
      "장유인, 여자 Person 객체가 생성되었습니다.\n"
     ]
    }
   ],
   "source": [
    "p1 = Person(\"장유인\", \"여자\")"
   ]
  },
  {
   "cell_type": "code",
   "execution_count": 52,
   "id": "c8d51b51-b67d-4452-9d1f-7ebd2f9d82b7",
   "metadata": {},
   "outputs": [
    {
     "name": "stdout",
     "output_type": "stream",
     "text": [
      "장유인 여자\n"
     ]
    }
   ],
   "source": [
    "print(p1.name, p1.gender)"
   ]
  },
  {
   "cell_type": "code",
   "execution_count": 53,
   "id": "e536333e-284b-4580-a729-aaf1ac1f9949",
   "metadata": {},
   "outputs": [
    {
     "name": "stdout",
     "output_type": "stream",
     "text": [
      "장유인님은 여자입니다.\n"
     ]
    }
   ],
   "source": [
    "p1.print_info()"
   ]
  },
  {
   "cell_type": "code",
   "execution_count": 54,
   "id": "38195570-40c4-4178-9af7-d7d9edc1ce09",
   "metadata": {},
   "outputs": [
    {
     "name": "stdout",
     "output_type": "stream",
     "text": [
      "장유인\t장유인\t장유인\t장유인\t장유인\t"
     ]
    }
   ],
   "source": [
    "p1.printCnt(5)"
   ]
  },
  {
   "cell_type": "code",
   "execution_count": 48,
   "id": "42dfef11-06d8-4cf2-bc44-b71d11c298ab",
   "metadata": {},
   "outputs": [
    {
     "name": "stdout",
     "output_type": "stream",
     "text": [
      "<__main__.Person object at 0x000001F6A42B3510>\n"
     ]
    }
   ],
   "source": [
    "print(p1)"
   ]
  },
  {
   "cell_type": "code",
   "execution_count": 32,
   "id": "c8d1a594-71b1-45b9-926d-87dea202ef5e",
   "metadata": {},
   "outputs": [
    {
     "name": "stdout",
     "output_type": "stream",
     "text": [
      "<__main__.Person object at 0x000001F6A621E5D0>\n"
     ]
    }
   ],
   "source": [
    "# 없는 걸 치면 에러나와야 하는데, 에러가 안난다? → 어딘가에 있다!(상속받은게 있는거임)\n",
    "print(p1.__str__())"
   ]
  },
  {
   "cell_type": "code",
   "execution_count": 55,
   "id": "38efcbc2-359f-478f-82f7-61758f7363b6",
   "metadata": {},
   "outputs": [
    {
     "name": "stdout",
     "output_type": "stream",
     "text": [
      "장유인\t 성별은 여자\n"
     ]
    }
   ],
   "source": [
    "# 새롭게 작성하면, 상속된 것이 아닌 새로 작성한 함수로 적용됨\n",
    "print(p1)"
   ]
  },
  {
   "cell_type": "code",
   "execution_count": 57,
   "id": "ed0d5974-9ee2-48b1-8ff8-429feb821118",
   "metadata": {},
   "outputs": [
    {
     "name": "stdout",
     "output_type": "stream",
     "text": [
      "장유인\t 성별은 여자\n"
     ]
    }
   ],
   "source": [
    "print(p1.__str__())"
   ]
  },
  {
   "cell_type": "markdown",
   "id": "468f0ca2-d7b6-4945-8234-92d336e58558",
   "metadata": {},
   "source": [
    "# **2절 상속과 재정의**"
   ]
  },
  {
   "cell_type": "code",
   "execution_count": 64,
   "id": "626614f9-f09f-4199-bcef-5e50982ffb2b",
   "metadata": {},
   "outputs": [],
   "source": [
    "class Student(Person):\n",
    "    'name, gender, major 멤버변수를 갖는 Student 타입'\n",
    "    def __init__(self, name, gender, major):\n",
    "        # 부모클래스의 생성자 함수로 name, gender 초기화\n",
    "        super().__init__(name, gender)\n",
    "        #Person.__init__(name, gender)\n",
    "        self.major = major\n",
    "    def print_info(self):\n",
    "        super().print_info()\n",
    "        print(\"그리고 전공은 {}입니다\".format(self.major))\n",
    "    def __str__(self):\n",
    "        return super().__str__() + \"그리고 전공은 {}\".format(self.major)"
   ]
  },
  {
   "cell_type": "code",
   "execution_count": 65,
   "id": "77f483fa-f2bf-4ab4-a66b-f294895deedf",
   "metadata": {},
   "outputs": [
    {
     "name": "stdout",
     "output_type": "stream",
     "text": [
      "지미, 남자 Person 객체가 생성되었습니다.\n"
     ]
    }
   ],
   "source": [
    "s1 = Student(\"지미\", \"남자\", \"컴공\")"
   ]
  },
  {
   "cell_type": "code",
   "execution_count": 66,
   "id": "15bbf697-3ee1-4cbf-af35-918ca4dc273a",
   "metadata": {},
   "outputs": [
    {
     "data": {
      "text/plain": [
       "('지미', '남자', '컴공')"
      ]
     },
     "execution_count": 66,
     "metadata": {},
     "output_type": "execute_result"
    }
   ],
   "source": [
    "s1.name, s1.gender, s1.major"
   ]
  },
  {
   "cell_type": "code",
   "execution_count": 67,
   "id": "7988d751-3059-4a77-95f6-6523f7e99c4b",
   "metadata": {},
   "outputs": [
    {
     "name": "stdout",
     "output_type": "stream",
     "text": [
      "지미님은 남자입니다.\n",
      "그리고 전공은 컴공입니다\n"
     ]
    }
   ],
   "source": [
    "s1.print_info()"
   ]
  },
  {
   "cell_type": "code",
   "execution_count": 68,
   "id": "64b143cc-6a88-4f0c-964c-896decbe6ee0",
   "metadata": {},
   "outputs": [
    {
     "name": "stdout",
     "output_type": "stream",
     "text": [
      "지미\t지미\t지미\t지미\t지미\t"
     ]
    }
   ],
   "source": [
    "s1.printCnt(5)"
   ]
  },
  {
   "cell_type": "code",
   "execution_count": 69,
   "id": "0bbafa39-956c-4e14-867e-31b83e539ccf",
   "metadata": {},
   "outputs": [
    {
     "name": "stdout",
     "output_type": "stream",
     "text": [
      "지미\t 성별은 남자그리고 전공은 컴공\n"
     ]
    }
   ],
   "source": [
    "print(s1)"
   ]
  },
  {
   "cell_type": "markdown",
   "id": "a2ac8123-d5dd-4d2a-bfe1-03b228866c0c",
   "metadata": {},
   "source": [
    "# **연습문제**"
   ]
  },
  {
   "cell_type": "markdown",
   "id": "aa76c83d-42c4-43e6-b3eb-8e207d1d9351",
   "metadata": {},
   "source": [
    "1. 다음 조건을 만족하는 클래스를 작성하세요\n",
    "```\n",
    "> 도형(Shape)클래스와 삼각형(Triangle) 클래스를 만들어야 합니다.\n",
    "    s1 = Shape(2, 3)\n",
    "\n",
    "> 도형(Shape)클래스\n",
    "• 생성자를 통해 width, height를 초기화할 수 있습니다.\n",
    "  width, height의 기본값은 0, 0 입니다.\n",
    "• width, height를 조절할 수 있는 modify 함수가 있습니다.\n",
    "• width, height 값 정보를 문자열로 리턴하는 __str__ 함수가 있습니다\n",
    "• 도형의 면적을 구하는 함수(calc_area)가 있습니다.\n",
    "\n",
    "> ‘삼각형(Triangle)클래스는 도형(Shape)클래스이다’관계가 성립해야 합니다\n",
    "\n",
    "> 생성자를 통해, width, height, x, y좌표를 초기화하고\n",
    "  x, y 좌표의 기본값은 0, 0입니다\n",
    "\n",
    "> 삼각형의 면적을 구하는 메소드 calc_area를 재정의합니다\n",
    "\n",
    "> 삼각형의 정보를 문자열로 반환하는 __str__() 함수가 있습니다.\n",
    "```"
   ]
  },
  {
   "cell_type": "code",
   "execution_count": null,
   "id": "146b7345-c774-4f72-8eba-f4d69544eddb",
   "metadata": {},
   "outputs": [],
   "source": []
  }
 ],
 "metadata": {
  "kernelspec": {
   "display_name": "Python 3 (ipykernel)",
   "language": "python",
   "name": "python3"
  },
  "language_info": {
   "codemirror_mode": {
    "name": "ipython",
    "version": 3
   },
   "file_extension": ".py",
   "mimetype": "text/x-python",
   "name": "python",
   "nbconvert_exporter": "python",
   "pygments_lexer": "ipython3",
   "version": "3.11.7"
  }
 },
 "nbformat": 4,
 "nbformat_minor": 5
}
