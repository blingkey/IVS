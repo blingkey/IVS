{
 "cells": [
  {
   "cell_type": "markdown",
   "id": "aff3a79b-770c-4b1e-a391-f39d75ce60af",
   "metadata": {},
   "source": [
    "# ch01. 파이썬 개요 및 환경설정"
   ]
  },
  {
   "cell_type": "markdown",
   "id": "81b8114d-ce07-4898-adab-4586698d3133",
   "metadata": {},
   "source": [
    "<font color=\"blue\" size=\"10\"><b>ch01.파이썬 개요 및 환경 설정</b></font>"
   ]
  },
  {
   "cell_type": "markdown",
   "id": "aa460edc-d9d1-4cb5-b87d-e13927d2d5f5",
   "metadata": {},
   "source": [
    "# 1. 주피터 노트북 사용법 (큰제목)\n",
    "- shift + Enter : 포커스된 셀이 실행되고 다음 셀로 이동\n",
    "- alt + Enter : 포커스된 셀이 실행되고 다음 셀이 생성된 후 이동\n",
    "- ctrl + Enter : 포커스된 셀이 실행되고 포커스 이동없음\n",
    "- Enter=클릭 : 셀이 포커스 됨 (편집 상태)"
   ]
  },
  {
   "cell_type": "code",
   "execution_count": 3,
   "id": "d3db8e20-3800-4c7b-b69a-8a7b93988f8b",
   "metadata": {},
   "outputs": [
    {
     "name": "stdout",
     "output_type": "stream",
     "text": [
      "Hello\n"
     ]
    }
   ],
   "source": [
    "print(\"Hello\")"
   ]
  },
  {
   "cell_type": "code",
   "execution_count": 5,
   "id": "7ac79467-d98c-446d-9541-3dac442e6d0b",
   "metadata": {},
   "outputs": [
    {
     "data": {
      "text/plain": [
       "3"
      ]
     },
     "execution_count": 5,
     "metadata": {},
     "output_type": "execute_result"
    }
   ],
   "source": [
    "a = 1\n",
    "b = '2'\n",
    "a + int(b) # 문자 + 숫자 불가능"
   ]
  },
  {
   "cell_type": "code",
   "execution_count": 6,
   "id": "9dafbb56-77f6-4caf-ab8c-8ce8a65c4aee",
   "metadata": {},
   "outputs": [],
   "source": [
    "# 무한 루프 시, 강제 종료\n",
    "# Kernel > Restart Kernel and Clear Outputs of All Cells\n",
    "# 중지 : kernel > 다양한 restart 기능이나 shutdown 기능\n",
    "\n",
    "# for i in range(10000000000000):\n",
    "#     print(i)"
   ]
  },
  {
   "cell_type": "markdown",
   "id": "ed980314-6c4b-454c-a6ee-53ca58aa0f60",
   "metadata": {},
   "source": [
    "# 2. ESC키 누르고 핫키\n",
    "- dd : 셀 삭제\n",
    "- a : 윗 셀 추가\n",
    "- b : 아래 셀 추가\n",
    "- m : 마크다운 셀로 전환\n",
    "- y : 코드 셀로 전환"
   ]
  },
  {
   "cell_type": "markdown",
   "id": "858ccc8f-997e-433d-a1a4-a327b84d64ab",
   "metadata": {},
   "source": [
    "# 3. 마크다운이란?\n",
    "- 코드와 함께 문서화할 수 있다.\n",
    "\n",
    "\n",
    "여러줄 설명은\n",
    "줄바꿈으로 할 수 있습니다.\n",
    "```\n",
    "여러줄 설명은\n",
    "줄바꿈으로 할 수 있습니다. (` 사용)\n",
    "```"
   ]
  },
  {
   "cell_type": "markdown",
   "id": "00569467-1a19-4b6e-86ec-032f01fb6881",
   "metadata": {},
   "source": [
    "# 4. Table of contents\n",
    "- View > Table of Contents"
   ]
  },
  {
   "cell_type": "code",
   "execution_count": 8,
   "id": "78b64277-0fa9-4faf-902d-1f710a5b2368",
   "metadata": {},
   "outputs": [
    {
     "name": "stdout",
     "output_type": "stream",
     "text": [
      " C 드라이브의 볼륨에는 이름이 없습니다.\n",
      " 볼륨 일련 번호: 82E2-A836\n",
      "\n",
      " C:\\Users\\USER\\source 디렉터리\n",
      "\n",
      "\n",
      " C:\\Users\\USER\\source 디렉터리\n",
      "\n",
      "\n",
      " C:\\Users\\USER\\source 디렉터리\n",
      "\n",
      "\n",
      " C:\\Users\\USER\\source 디렉터리\n",
      "\n",
      "\n",
      " C:\\Users\\USER\\source 디렉터리\n",
      "\n",
      "\n",
      " C:\\Users\\USER\\source 디렉터리\n",
      "\n"
     ]
    },
    {
     "name": "stderr",
     "output_type": "stream",
     "text": [
      "파일을 찾을 수 없습니다.\n"
     ]
    }
   ],
   "source": [
    "!dir #주피터 노트북에서 !는 cmd명령어 수행 가능"
   ]
  }
 ],
 "metadata": {
  "kernelspec": {
   "display_name": "Python 3 (ipykernel)",
   "language": "python",
   "name": "python3"
  },
  "language_info": {
   "codemirror_mode": {
    "name": "ipython",
    "version": 3
   },
   "file_extension": ".py",
   "mimetype": "text/x-python",
   "name": "python",
   "nbconvert_exporter": "python",
   "pygments_lexer": "ipython3",
   "version": "3.11.7"
  }
 },
 "nbformat": 4,
 "nbformat_minor": 5
}
